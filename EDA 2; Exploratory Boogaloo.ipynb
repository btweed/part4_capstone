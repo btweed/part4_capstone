{
 "cells": [
  {
   "cell_type": "code",
   "execution_count": 1,
   "metadata": {
    "collapsed": true
   },
   "outputs": [],
   "source": [
    "#import packages\n",
    "import re\n",
    "import pandas as pd\n",
    "import numpy as np\n",
    "import seaborn as sns\n",
    "import scipy.stats\n",
    "import matplotlib.pyplot as plt\n",
    "%matplotlib inline\n",
    "import pprint"
   ]
  },
  {
   "cell_type": "code",
   "execution_count": 2,
   "metadata": {
    "collapsed": true
   },
   "outputs": [],
   "source": [
    "df=pd.read_csv('3-8_ELA_AND_MATH_RESEARCHER_FILE_2016.csv')"
   ]
  },
  {
   "cell_type": "code",
   "execution_count": 3,
   "metadata": {},
   "outputs": [
    {
     "data": {
      "text/html": [
       "<div>\n",
       "<style>\n",
       "    .dataframe thead tr:only-child th {\n",
       "        text-align: right;\n",
       "    }\n",
       "\n",
       "    .dataframe thead th {\n",
       "        text-align: left;\n",
       "    }\n",
       "\n",
       "    .dataframe tbody tr th {\n",
       "        vertical-align: top;\n",
       "    }\n",
       "</style>\n",
       "<table border=\"1\" class=\"dataframe\">\n",
       "  <thead>\n",
       "    <tr style=\"text-align: right;\">\n",
       "      <th></th>\n",
       "      <th>SY_END_DATE</th>\n",
       "      <th>NRC_CODE</th>\n",
       "      <th>NRC_DESC</th>\n",
       "      <th>COUNTY_CODE</th>\n",
       "      <th>COUNTY_DESC</th>\n",
       "      <th>BEDSCODE</th>\n",
       "      <th>NAME</th>\n",
       "      <th>ITEM_SUBJECT_AREA</th>\n",
       "      <th>ITEM_DESC</th>\n",
       "      <th>SUBGROUP_CODE</th>\n",
       "      <th>...</th>\n",
       "      <th>L1_PCT</th>\n",
       "      <th>L2_COUNT</th>\n",
       "      <th>L2_PCT</th>\n",
       "      <th>L3_COUNT</th>\n",
       "      <th>L3_PCT</th>\n",
       "      <th>L4_COUNT</th>\n",
       "      <th>L4_PCT</th>\n",
       "      <th>L2-L4_PCT</th>\n",
       "      <th>L3-L4_PCT</th>\n",
       "      <th>MEAN_SCALE_SCORE</th>\n",
       "    </tr>\n",
       "  </thead>\n",
       "  <tbody>\n",
       "    <tr>\n",
       "      <th>0</th>\n",
       "      <td>06/30/2016</td>\n",
       "      <td>NaN</td>\n",
       "      <td>NaN</td>\n",
       "      <td>NaN</td>\n",
       "      <td>NaN</td>\n",
       "      <td>0</td>\n",
       "      <td>STATEWIDE - ALL DISTRICTS AND CHARTERS</td>\n",
       "      <td>ELA</td>\n",
       "      <td>Grade 3 ELA</td>\n",
       "      <td>1</td>\n",
       "      <td>...</td>\n",
       "      <td>27%</td>\n",
       "      <td>53393</td>\n",
       "      <td>31%</td>\n",
       "      <td>59060</td>\n",
       "      <td>35%</td>\n",
       "      <td>12330</td>\n",
       "      <td>7%</td>\n",
       "      <td>73%</td>\n",
       "      <td>42%</td>\n",
       "      <td>309</td>\n",
       "    </tr>\n",
       "    <tr>\n",
       "      <th>1</th>\n",
       "      <td>06/30/2016</td>\n",
       "      <td>NaN</td>\n",
       "      <td>NaN</td>\n",
       "      <td>NaN</td>\n",
       "      <td>NaN</td>\n",
       "      <td>0</td>\n",
       "      <td>STATEWIDE - ALL DISTRICTS AND CHARTERS</td>\n",
       "      <td>ELA</td>\n",
       "      <td>Grade 3 ELA</td>\n",
       "      <td>2</td>\n",
       "      <td>...</td>\n",
       "      <td>22%</td>\n",
       "      <td>25863</td>\n",
       "      <td>31%</td>\n",
       "      <td>31514</td>\n",
       "      <td>37%</td>\n",
       "      <td>7826</td>\n",
       "      <td>9%</td>\n",
       "      <td>78%</td>\n",
       "      <td>47%</td>\n",
       "      <td>314</td>\n",
       "    </tr>\n",
       "    <tr>\n",
       "      <th>2</th>\n",
       "      <td>06/30/2016</td>\n",
       "      <td>NaN</td>\n",
       "      <td>NaN</td>\n",
       "      <td>NaN</td>\n",
       "      <td>NaN</td>\n",
       "      <td>0</td>\n",
       "      <td>STATEWIDE - ALL DISTRICTS AND CHARTERS</td>\n",
       "      <td>ELA</td>\n",
       "      <td>Grade 3 ELA</td>\n",
       "      <td>3</td>\n",
       "      <td>...</td>\n",
       "      <td>31%</td>\n",
       "      <td>27530</td>\n",
       "      <td>32%</td>\n",
       "      <td>27546</td>\n",
       "      <td>32%</td>\n",
       "      <td>4504</td>\n",
       "      <td>5%</td>\n",
       "      <td>69%</td>\n",
       "      <td>37%</td>\n",
       "      <td>305</td>\n",
       "    </tr>\n",
       "    <tr>\n",
       "      <th>3</th>\n",
       "      <td>06/30/2016</td>\n",
       "      <td>NaN</td>\n",
       "      <td>NaN</td>\n",
       "      <td>NaN</td>\n",
       "      <td>NaN</td>\n",
       "      <td>0</td>\n",
       "      <td>STATEWIDE - ALL DISTRICTS AND CHARTERS</td>\n",
       "      <td>ELA</td>\n",
       "      <td>Grade 3 ELA</td>\n",
       "      <td>4</td>\n",
       "      <td>...</td>\n",
       "      <td>31%</td>\n",
       "      <td>419</td>\n",
       "      <td>34%</td>\n",
       "      <td>363</td>\n",
       "      <td>29%</td>\n",
       "      <td>64</td>\n",
       "      <td>5%</td>\n",
       "      <td>69%</td>\n",
       "      <td>35%</td>\n",
       "      <td>304</td>\n",
       "    </tr>\n",
       "    <tr>\n",
       "      <th>4</th>\n",
       "      <td>06/30/2016</td>\n",
       "      <td>NaN</td>\n",
       "      <td>NaN</td>\n",
       "      <td>NaN</td>\n",
       "      <td>NaN</td>\n",
       "      <td>0</td>\n",
       "      <td>STATEWIDE - ALL DISTRICTS AND CHARTERS</td>\n",
       "      <td>ELA</td>\n",
       "      <td>Grade 3 ELA</td>\n",
       "      <td>5</td>\n",
       "      <td>...</td>\n",
       "      <td>36%</td>\n",
       "      <td>10466</td>\n",
       "      <td>33%</td>\n",
       "      <td>8588</td>\n",
       "      <td>27%</td>\n",
       "      <td>1351</td>\n",
       "      <td>4%</td>\n",
       "      <td>64%</td>\n",
       "      <td>31%</td>\n",
       "      <td>300</td>\n",
       "    </tr>\n",
       "  </tbody>\n",
       "</table>\n",
       "<p>5 rows × 23 columns</p>\n",
       "</div>"
      ],
      "text/plain": [
       "  SY_END_DATE  NRC_CODE NRC_DESC  COUNTY_CODE COUNTY_DESC  BEDSCODE  \\\n",
       "0  06/30/2016       NaN      NaN          NaN         NaN         0   \n",
       "1  06/30/2016       NaN      NaN          NaN         NaN         0   \n",
       "2  06/30/2016       NaN      NaN          NaN         NaN         0   \n",
       "3  06/30/2016       NaN      NaN          NaN         NaN         0   \n",
       "4  06/30/2016       NaN      NaN          NaN         NaN         0   \n",
       "\n",
       "                                     NAME ITEM_SUBJECT_AREA    ITEM_DESC  \\\n",
       "0  STATEWIDE - ALL DISTRICTS AND CHARTERS               ELA  Grade 3 ELA   \n",
       "1  STATEWIDE - ALL DISTRICTS AND CHARTERS               ELA  Grade 3 ELA   \n",
       "2  STATEWIDE - ALL DISTRICTS AND CHARTERS               ELA  Grade 3 ELA   \n",
       "3  STATEWIDE - ALL DISTRICTS AND CHARTERS               ELA  Grade 3 ELA   \n",
       "4  STATEWIDE - ALL DISTRICTS AND CHARTERS               ELA  Grade 3 ELA   \n",
       "\n",
       "   SUBGROUP_CODE       ...        L1_PCT L2_COUNT L2_PCT L3_COUNT L3_PCT  \\\n",
       "0              1       ...           27%    53393    31%    59060    35%   \n",
       "1              2       ...           22%    25863    31%    31514    37%   \n",
       "2              3       ...           31%    27530    32%    27546    32%   \n",
       "3              4       ...           31%      419    34%      363    29%   \n",
       "4              5       ...           36%    10466    33%     8588    27%   \n",
       "\n",
       "  L4_COUNT L4_PCT L2-L4_PCT L3-L4_PCT MEAN_SCALE_SCORE  \n",
       "0    12330     7%       73%       42%              309  \n",
       "1     7826     9%       78%       47%              314  \n",
       "2     4504     5%       69%       37%              305  \n",
       "3       64     5%       69%       35%              304  \n",
       "4     1351     4%       64%       31%              300  \n",
       "\n",
       "[5 rows x 23 columns]"
      ]
     },
     "execution_count": 3,
     "metadata": {},
     "output_type": "execute_result"
    }
   ],
   "source": [
    "df.head() #Let's get a picture of what this looks like out of the box."
   ]
  },
  {
   "cell_type": "markdown",
   "metadata": {},
   "source": [
    "Okay, kinda messy. Looks like we're gonna need to trim percents again, and it also looks like we need to call the columns list by itself to know all of what we need to trim since some of them got eaten by the ellipsis."
   ]
  },
  {
   "cell_type": "code",
   "execution_count": 4,
   "metadata": {},
   "outputs": [
    {
     "data": {
      "text/plain": [
       "Index(['SY_END_DATE', 'NRC_CODE', 'NRC_DESC', 'COUNTY_CODE', 'COUNTY_DESC',\n",
       "       'BEDSCODE', 'NAME', 'ITEM_SUBJECT_AREA', 'ITEM_DESC', 'SUBGROUP_CODE',\n",
       "       'SUBGROUP_NAME', 'TOTAL_TESTED', 'L1_COUNT', 'L1_PCT', 'L2_COUNT',\n",
       "       'L2_PCT', 'L3_COUNT', 'L3_PCT', 'L4_COUNT', 'L4_PCT', 'L2-L4_PCT',\n",
       "       'L3-L4_PCT', 'MEAN_SCALE_SCORE'],\n",
       "      dtype='object')"
      ]
     },
     "execution_count": 4,
     "metadata": {},
     "output_type": "execute_result"
    }
   ],
   "source": [
    "df.columns"
   ]
  },
  {
   "cell_type": "code",
   "execution_count": 5,
   "metadata": {},
   "outputs": [
    {
     "name": "stdout",
     "output_type": "stream",
     "text": [
      "L1_PCT trimmed\n",
      "All L1_PCT NaNs added\n",
      "L1_PCT converted\n",
      "L2_PCT trimmed\n",
      "All L2_PCT NaNs added\n",
      "L2_PCT converted\n",
      "L3_PCT trimmed\n",
      "All L3_PCT NaNs added\n",
      "L3_PCT converted\n",
      "L4_PCT trimmed\n",
      "All L4_PCT NaNs added\n",
      "L4_PCT converted\n",
      "L2-L4_PCT trimmed\n",
      "All L2-L4_PCT NaNs added\n",
      "L2-L4_PCT converted\n",
      "L3-L4_PCT trimmed\n",
      "All L3-L4_PCT NaNs added\n",
      "L3-L4_PCT converted\n",
      "CPU times: user 2.58 s, sys: 168 ms, total: 2.74 s\n",
      "Wall time: 2.73 s\n"
     ]
    }
   ],
   "source": [
    "%%time\n",
    "pct_columns=['L1_PCT','L2_PCT','L3_PCT','L4_PCT','L2-L4_PCT','L3-L4_PCT']\n",
    "#Now we adapt Carleton's little gift from Part 2\n",
    "for col in pct_columns:\n",
    "    df[col].replace(re.compile(r'%'),'',inplace=True,regex=True)\n",
    "    print(col+' trimmed')\n",
    "    df[col].replace(re.compile(r'-'),np.nan,inplace=True,regex=True)\n",
    "    print('All '+col+' NaNs added')\n",
    "    df[col]=df[col].astype(np.float)\n",
    "    print(col+' converted')"
   ]
  },
  {
   "cell_type": "code",
   "execution_count": 6,
   "metadata": {},
   "outputs": [
    {
     "data": {
      "text/plain": [
       "0"
      ]
     },
     "execution_count": 6,
     "metadata": {},
     "output_type": "execute_result"
    }
   ],
   "source": [
    "import os\n",
    "os.system('say \"Percentage trimming and float conversion complete\"')"
   ]
  },
  {
   "cell_type": "code",
   "execution_count": 7,
   "metadata": {},
   "outputs": [
    {
     "data": {
      "text/plain": [
       "SY_END_DATE               0\n",
       "NRC_CODE              11996\n",
       "NRC_DESC              11996\n",
       "COUNTY_CODE            1611\n",
       "COUNTY_DESC            1611\n",
       "BEDSCODE                  0\n",
       "NAME                      0\n",
       "ITEM_SUBJECT_AREA         0\n",
       "ITEM_DESC                 0\n",
       "SUBGROUP_CODE             0\n",
       "SUBGROUP_NAME             0\n",
       "TOTAL_TESTED              0\n",
       "L1_COUNT                  0\n",
       "L1_PCT               124763\n",
       "L2_COUNT                  0\n",
       "L2_PCT               124763\n",
       "L3_COUNT                  0\n",
       "L3_PCT               124763\n",
       "L4_COUNT                  0\n",
       "L4_PCT               124763\n",
       "L2-L4_PCT            124763\n",
       "L3-L4_PCT            124763\n",
       "MEAN_SCALE_SCORE          0\n",
       "dtype: int64"
      ]
     },
     "execution_count": 7,
     "metadata": {},
     "output_type": "execute_result"
    }
   ],
   "source": [
    "df.isnull().sum() #Checking to see if the -s were properly replaced with NaNs"
   ]
  },
  {
   "cell_type": "code",
   "execution_count": 8,
   "metadata": {},
   "outputs": [
    {
     "data": {
      "text/plain": [
       "(436464, 23)"
      ]
     },
     "execution_count": 8,
     "metadata": {},
     "output_type": "execute_result"
    }
   ],
   "source": [
    "df.shape #Making sure we didn't accidentally replace the whole columns with NaNs as happened in previous attempts"
   ]
  },
  {
   "cell_type": "code",
   "execution_count": 9,
   "metadata": {},
   "outputs": [
    {
     "data": {
      "text/html": [
       "<div>\n",
       "<style>\n",
       "    .dataframe thead tr:only-child th {\n",
       "        text-align: right;\n",
       "    }\n",
       "\n",
       "    .dataframe thead th {\n",
       "        text-align: left;\n",
       "    }\n",
       "\n",
       "    .dataframe tbody tr th {\n",
       "        vertical-align: top;\n",
       "    }\n",
       "</style>\n",
       "<table border=\"1\" class=\"dataframe\">\n",
       "  <thead>\n",
       "    <tr style=\"text-align: right;\">\n",
       "      <th></th>\n",
       "      <th>SY_END_DATE</th>\n",
       "      <th>NRC_CODE</th>\n",
       "      <th>NRC_DESC</th>\n",
       "      <th>COUNTY_CODE</th>\n",
       "      <th>COUNTY_DESC</th>\n",
       "      <th>BEDSCODE</th>\n",
       "      <th>NAME</th>\n",
       "      <th>ITEM_SUBJECT_AREA</th>\n",
       "      <th>ITEM_DESC</th>\n",
       "      <th>SUBGROUP_CODE</th>\n",
       "      <th>...</th>\n",
       "      <th>L1_PCT</th>\n",
       "      <th>L2_COUNT</th>\n",
       "      <th>L2_PCT</th>\n",
       "      <th>L3_COUNT</th>\n",
       "      <th>L3_PCT</th>\n",
       "      <th>L4_COUNT</th>\n",
       "      <th>L4_PCT</th>\n",
       "      <th>L2-L4_PCT</th>\n",
       "      <th>L3-L4_PCT</th>\n",
       "      <th>MEAN_SCALE_SCORE</th>\n",
       "    </tr>\n",
       "  </thead>\n",
       "  <tbody>\n",
       "    <tr>\n",
       "      <th>0</th>\n",
       "      <td>06/30/2016</td>\n",
       "      <td>NaN</td>\n",
       "      <td>NaN</td>\n",
       "      <td>NaN</td>\n",
       "      <td>NaN</td>\n",
       "      <td>0</td>\n",
       "      <td>STATEWIDE - ALL DISTRICTS AND CHARTERS</td>\n",
       "      <td>ELA</td>\n",
       "      <td>Grade 3 ELA</td>\n",
       "      <td>1</td>\n",
       "      <td>...</td>\n",
       "      <td>27.0</td>\n",
       "      <td>53393</td>\n",
       "      <td>31.0</td>\n",
       "      <td>59060</td>\n",
       "      <td>35.0</td>\n",
       "      <td>12330</td>\n",
       "      <td>7.0</td>\n",
       "      <td>73.0</td>\n",
       "      <td>42.0</td>\n",
       "      <td>309</td>\n",
       "    </tr>\n",
       "    <tr>\n",
       "      <th>1</th>\n",
       "      <td>06/30/2016</td>\n",
       "      <td>NaN</td>\n",
       "      <td>NaN</td>\n",
       "      <td>NaN</td>\n",
       "      <td>NaN</td>\n",
       "      <td>0</td>\n",
       "      <td>STATEWIDE - ALL DISTRICTS AND CHARTERS</td>\n",
       "      <td>ELA</td>\n",
       "      <td>Grade 3 ELA</td>\n",
       "      <td>2</td>\n",
       "      <td>...</td>\n",
       "      <td>22.0</td>\n",
       "      <td>25863</td>\n",
       "      <td>31.0</td>\n",
       "      <td>31514</td>\n",
       "      <td>37.0</td>\n",
       "      <td>7826</td>\n",
       "      <td>9.0</td>\n",
       "      <td>78.0</td>\n",
       "      <td>47.0</td>\n",
       "      <td>314</td>\n",
       "    </tr>\n",
       "    <tr>\n",
       "      <th>2</th>\n",
       "      <td>06/30/2016</td>\n",
       "      <td>NaN</td>\n",
       "      <td>NaN</td>\n",
       "      <td>NaN</td>\n",
       "      <td>NaN</td>\n",
       "      <td>0</td>\n",
       "      <td>STATEWIDE - ALL DISTRICTS AND CHARTERS</td>\n",
       "      <td>ELA</td>\n",
       "      <td>Grade 3 ELA</td>\n",
       "      <td>3</td>\n",
       "      <td>...</td>\n",
       "      <td>31.0</td>\n",
       "      <td>27530</td>\n",
       "      <td>32.0</td>\n",
       "      <td>27546</td>\n",
       "      <td>32.0</td>\n",
       "      <td>4504</td>\n",
       "      <td>5.0</td>\n",
       "      <td>69.0</td>\n",
       "      <td>37.0</td>\n",
       "      <td>305</td>\n",
       "    </tr>\n",
       "    <tr>\n",
       "      <th>3</th>\n",
       "      <td>06/30/2016</td>\n",
       "      <td>NaN</td>\n",
       "      <td>NaN</td>\n",
       "      <td>NaN</td>\n",
       "      <td>NaN</td>\n",
       "      <td>0</td>\n",
       "      <td>STATEWIDE - ALL DISTRICTS AND CHARTERS</td>\n",
       "      <td>ELA</td>\n",
       "      <td>Grade 3 ELA</td>\n",
       "      <td>4</td>\n",
       "      <td>...</td>\n",
       "      <td>31.0</td>\n",
       "      <td>419</td>\n",
       "      <td>34.0</td>\n",
       "      <td>363</td>\n",
       "      <td>29.0</td>\n",
       "      <td>64</td>\n",
       "      <td>5.0</td>\n",
       "      <td>69.0</td>\n",
       "      <td>35.0</td>\n",
       "      <td>304</td>\n",
       "    </tr>\n",
       "    <tr>\n",
       "      <th>4</th>\n",
       "      <td>06/30/2016</td>\n",
       "      <td>NaN</td>\n",
       "      <td>NaN</td>\n",
       "      <td>NaN</td>\n",
       "      <td>NaN</td>\n",
       "      <td>0</td>\n",
       "      <td>STATEWIDE - ALL DISTRICTS AND CHARTERS</td>\n",
       "      <td>ELA</td>\n",
       "      <td>Grade 3 ELA</td>\n",
       "      <td>5</td>\n",
       "      <td>...</td>\n",
       "      <td>36.0</td>\n",
       "      <td>10466</td>\n",
       "      <td>33.0</td>\n",
       "      <td>8588</td>\n",
       "      <td>27.0</td>\n",
       "      <td>1351</td>\n",
       "      <td>4.0</td>\n",
       "      <td>64.0</td>\n",
       "      <td>31.0</td>\n",
       "      <td>300</td>\n",
       "    </tr>\n",
       "  </tbody>\n",
       "</table>\n",
       "<p>5 rows × 23 columns</p>\n",
       "</div>"
      ],
      "text/plain": [
       "  SY_END_DATE  NRC_CODE NRC_DESC  COUNTY_CODE COUNTY_DESC  BEDSCODE  \\\n",
       "0  06/30/2016       NaN      NaN          NaN         NaN         0   \n",
       "1  06/30/2016       NaN      NaN          NaN         NaN         0   \n",
       "2  06/30/2016       NaN      NaN          NaN         NaN         0   \n",
       "3  06/30/2016       NaN      NaN          NaN         NaN         0   \n",
       "4  06/30/2016       NaN      NaN          NaN         NaN         0   \n",
       "\n",
       "                                     NAME ITEM_SUBJECT_AREA    ITEM_DESC  \\\n",
       "0  STATEWIDE - ALL DISTRICTS AND CHARTERS               ELA  Grade 3 ELA   \n",
       "1  STATEWIDE - ALL DISTRICTS AND CHARTERS               ELA  Grade 3 ELA   \n",
       "2  STATEWIDE - ALL DISTRICTS AND CHARTERS               ELA  Grade 3 ELA   \n",
       "3  STATEWIDE - ALL DISTRICTS AND CHARTERS               ELA  Grade 3 ELA   \n",
       "4  STATEWIDE - ALL DISTRICTS AND CHARTERS               ELA  Grade 3 ELA   \n",
       "\n",
       "   SUBGROUP_CODE        ...        L1_PCT L2_COUNT L2_PCT  L3_COUNT L3_PCT  \\\n",
       "0              1        ...          27.0    53393   31.0     59060   35.0   \n",
       "1              2        ...          22.0    25863   31.0     31514   37.0   \n",
       "2              3        ...          31.0    27530   32.0     27546   32.0   \n",
       "3              4        ...          31.0      419   34.0       363   29.0   \n",
       "4              5        ...          36.0    10466   33.0      8588   27.0   \n",
       "\n",
       "   L4_COUNT L4_PCT  L2-L4_PCT L3-L4_PCT  MEAN_SCALE_SCORE  \n",
       "0     12330    7.0       73.0      42.0               309  \n",
       "1      7826    9.0       78.0      47.0               314  \n",
       "2      4504    5.0       69.0      37.0               305  \n",
       "3        64    5.0       69.0      35.0               304  \n",
       "4      1351    4.0       64.0      31.0               300  \n",
       "\n",
       "[5 rows x 23 columns]"
      ]
     },
     "execution_count": 9,
     "metadata": {},
     "output_type": "execute_result"
    }
   ],
   "source": [
    "df.head()"
   ]
  },
  {
   "cell_type": "code",
   "execution_count": 10,
   "metadata": {},
   "outputs": [
    {
     "name": "stdout",
     "output_type": "stream",
     "text": [
      "<class 'pandas.core.frame.DataFrame'>\n",
      "RangeIndex: 436464 entries, 0 to 436463\n",
      "Data columns (total 23 columns):\n",
      "SY_END_DATE          436464 non-null object\n",
      "NRC_CODE             424468 non-null float64\n",
      "NRC_DESC             424468 non-null object\n",
      "COUNTY_CODE          434853 non-null float64\n",
      "COUNTY_DESC          434853 non-null object\n",
      "BEDSCODE             436464 non-null int64\n",
      "NAME                 436464 non-null object\n",
      "ITEM_SUBJECT_AREA    436464 non-null object\n",
      "ITEM_DESC            436464 non-null object\n",
      "SUBGROUP_CODE        436464 non-null int64\n",
      "SUBGROUP_NAME        436464 non-null object\n",
      "TOTAL_TESTED         436464 non-null object\n",
      "L1_COUNT             436464 non-null object\n",
      "L1_PCT               311701 non-null float64\n",
      "L2_COUNT             436464 non-null object\n",
      "L2_PCT               311701 non-null float64\n",
      "L3_COUNT             436464 non-null object\n",
      "L3_PCT               311701 non-null float64\n",
      "L4_COUNT             436464 non-null object\n",
      "L4_PCT               311701 non-null float64\n",
      "L2-L4_PCT            311701 non-null float64\n",
      "L3-L4_PCT            311701 non-null float64\n",
      "MEAN_SCALE_SCORE     436464 non-null object\n",
      "dtypes: float64(8), int64(2), object(13)\n",
      "memory usage: 76.6+ MB\n"
     ]
    }
   ],
   "source": [
    "df.info()"
   ]
  },
  {
   "cell_type": "markdown",
   "metadata": {},
   "source": [
    "Looks like there are some other columns we need to convert to numerical data types. (As you can see from the column list name, I didn't fully think through what types to use at first, but it all shook out okay in the end.)"
   ]
  },
  {
   "cell_type": "code",
   "execution_count": 11,
   "metadata": {},
   "outputs": [
    {
     "name": "stdout",
     "output_type": "stream",
     "text": [
      "All TOTAL_TESTED NaNs added\n",
      "TOTAL_TESTED converted\n",
      "All L1_COUNT NaNs added\n",
      "L1_COUNT converted\n",
      "All L2_COUNT NaNs added\n",
      "L2_COUNT converted\n",
      "All L3_COUNT NaNs added\n",
      "L3_COUNT converted\n",
      "All L4_COUNT NaNs added\n",
      "L4_COUNT converted\n",
      "All MEAN_SCALE_SCORE NaNs added\n",
      "MEAN_SCALE_SCORE converted\n",
      "CPU times: user 1.26 s, sys: 99.3 ms, total: 1.36 s\n",
      "Wall time: 1.35 s\n"
     ]
    }
   ],
   "source": [
    "%%time\n",
    "cols_to_int=['TOTAL_TESTED','L1_COUNT','L2_COUNT','L3_COUNT','L4_COUNT','MEAN_SCALE_SCORE']\n",
    "for col in cols_to_int:\n",
    "    df[col].replace(re.compile(r'-'),np.nan,inplace=True,regex=True)\n",
    "    print('All '+col+' NaNs added')\n",
    "    df[col]=df[col].astype(np.float)\n",
    "    print(col+' converted')"
   ]
  },
  {
   "cell_type": "code",
   "execution_count": 12,
   "metadata": {},
   "outputs": [
    {
     "data": {
      "text/plain": [
       "0"
      ]
     },
     "execution_count": 12,
     "metadata": {},
     "output_type": "execute_result"
    }
   ],
   "source": [
    "os.system('say \"Count conversion complete\"')"
   ]
  },
  {
   "cell_type": "code",
   "execution_count": 13,
   "metadata": {},
   "outputs": [
    {
     "name": "stdout",
     "output_type": "stream",
     "text": [
      "<class 'pandas.core.frame.DataFrame'>\n",
      "RangeIndex: 436464 entries, 0 to 436463\n",
      "Data columns (total 23 columns):\n",
      "SY_END_DATE          436464 non-null object\n",
      "NRC_CODE             424468 non-null float64\n",
      "NRC_DESC             424468 non-null object\n",
      "COUNTY_CODE          434853 non-null float64\n",
      "COUNTY_DESC          434853 non-null object\n",
      "BEDSCODE             436464 non-null int64\n",
      "NAME                 436464 non-null object\n",
      "ITEM_SUBJECT_AREA    436464 non-null object\n",
      "ITEM_DESC            436464 non-null object\n",
      "SUBGROUP_CODE        436464 non-null int64\n",
      "SUBGROUP_NAME        436464 non-null object\n",
      "TOTAL_TESTED         313857 non-null float64\n",
      "L1_COUNT             311701 non-null float64\n",
      "L1_PCT               311701 non-null float64\n",
      "L2_COUNT             311701 non-null float64\n",
      "L2_PCT               311701 non-null float64\n",
      "L3_COUNT             311701 non-null float64\n",
      "L3_PCT               311701 non-null float64\n",
      "L4_COUNT             311701 non-null float64\n",
      "L4_PCT               311701 non-null float64\n",
      "L2-L4_PCT            311701 non-null float64\n",
      "L3-L4_PCT            311701 non-null float64\n",
      "MEAN_SCALE_SCORE     311701 non-null float64\n",
      "dtypes: float64(14), int64(2), object(7)\n",
      "memory usage: 76.6+ MB\n"
     ]
    }
   ],
   "source": [
    "df.info()"
   ]
  },
  {
   "cell_type": "code",
   "execution_count": 14,
   "metadata": {},
   "outputs": [
    {
     "data": {
      "text/html": [
       "<div>\n",
       "<style>\n",
       "    .dataframe thead tr:only-child th {\n",
       "        text-align: right;\n",
       "    }\n",
       "\n",
       "    .dataframe thead th {\n",
       "        text-align: left;\n",
       "    }\n",
       "\n",
       "    .dataframe tbody tr th {\n",
       "        vertical-align: top;\n",
       "    }\n",
       "</style>\n",
       "<table border=\"1\" class=\"dataframe\">\n",
       "  <thead>\n",
       "    <tr style=\"text-align: right;\">\n",
       "      <th></th>\n",
       "      <th>SY_END_DATE</th>\n",
       "      <th>NRC_CODE</th>\n",
       "      <th>NRC_DESC</th>\n",
       "      <th>COUNTY_CODE</th>\n",
       "      <th>COUNTY_DESC</th>\n",
       "      <th>BEDSCODE</th>\n",
       "      <th>NAME</th>\n",
       "      <th>ITEM_SUBJECT_AREA</th>\n",
       "      <th>ITEM_DESC</th>\n",
       "      <th>SUBGROUP_CODE</th>\n",
       "      <th>...</th>\n",
       "      <th>L1_PCT</th>\n",
       "      <th>L2_COUNT</th>\n",
       "      <th>L2_PCT</th>\n",
       "      <th>L3_COUNT</th>\n",
       "      <th>L3_PCT</th>\n",
       "      <th>L4_COUNT</th>\n",
       "      <th>L4_PCT</th>\n",
       "      <th>L2-L4_PCT</th>\n",
       "      <th>L3-L4_PCT</th>\n",
       "      <th>MEAN_SCALE_SCORE</th>\n",
       "    </tr>\n",
       "  </thead>\n",
       "  <tbody>\n",
       "    <tr>\n",
       "      <th>0</th>\n",
       "      <td>06/30/2016</td>\n",
       "      <td>NaN</td>\n",
       "      <td>NaN</td>\n",
       "      <td>NaN</td>\n",
       "      <td>NaN</td>\n",
       "      <td>0</td>\n",
       "      <td>STATEWIDE - ALL DISTRICTS AND CHARTERS</td>\n",
       "      <td>ELA</td>\n",
       "      <td>Grade 3 ELA</td>\n",
       "      <td>1</td>\n",
       "      <td>...</td>\n",
       "      <td>27.0</td>\n",
       "      <td>53393.0</td>\n",
       "      <td>31.0</td>\n",
       "      <td>59060.0</td>\n",
       "      <td>35.0</td>\n",
       "      <td>12330.0</td>\n",
       "      <td>7.0</td>\n",
       "      <td>73.0</td>\n",
       "      <td>42.0</td>\n",
       "      <td>309.0</td>\n",
       "    </tr>\n",
       "    <tr>\n",
       "      <th>1</th>\n",
       "      <td>06/30/2016</td>\n",
       "      <td>NaN</td>\n",
       "      <td>NaN</td>\n",
       "      <td>NaN</td>\n",
       "      <td>NaN</td>\n",
       "      <td>0</td>\n",
       "      <td>STATEWIDE - ALL DISTRICTS AND CHARTERS</td>\n",
       "      <td>ELA</td>\n",
       "      <td>Grade 3 ELA</td>\n",
       "      <td>2</td>\n",
       "      <td>...</td>\n",
       "      <td>22.0</td>\n",
       "      <td>25863.0</td>\n",
       "      <td>31.0</td>\n",
       "      <td>31514.0</td>\n",
       "      <td>37.0</td>\n",
       "      <td>7826.0</td>\n",
       "      <td>9.0</td>\n",
       "      <td>78.0</td>\n",
       "      <td>47.0</td>\n",
       "      <td>314.0</td>\n",
       "    </tr>\n",
       "    <tr>\n",
       "      <th>2</th>\n",
       "      <td>06/30/2016</td>\n",
       "      <td>NaN</td>\n",
       "      <td>NaN</td>\n",
       "      <td>NaN</td>\n",
       "      <td>NaN</td>\n",
       "      <td>0</td>\n",
       "      <td>STATEWIDE - ALL DISTRICTS AND CHARTERS</td>\n",
       "      <td>ELA</td>\n",
       "      <td>Grade 3 ELA</td>\n",
       "      <td>3</td>\n",
       "      <td>...</td>\n",
       "      <td>31.0</td>\n",
       "      <td>27530.0</td>\n",
       "      <td>32.0</td>\n",
       "      <td>27546.0</td>\n",
       "      <td>32.0</td>\n",
       "      <td>4504.0</td>\n",
       "      <td>5.0</td>\n",
       "      <td>69.0</td>\n",
       "      <td>37.0</td>\n",
       "      <td>305.0</td>\n",
       "    </tr>\n",
       "    <tr>\n",
       "      <th>3</th>\n",
       "      <td>06/30/2016</td>\n",
       "      <td>NaN</td>\n",
       "      <td>NaN</td>\n",
       "      <td>NaN</td>\n",
       "      <td>NaN</td>\n",
       "      <td>0</td>\n",
       "      <td>STATEWIDE - ALL DISTRICTS AND CHARTERS</td>\n",
       "      <td>ELA</td>\n",
       "      <td>Grade 3 ELA</td>\n",
       "      <td>4</td>\n",
       "      <td>...</td>\n",
       "      <td>31.0</td>\n",
       "      <td>419.0</td>\n",
       "      <td>34.0</td>\n",
       "      <td>363.0</td>\n",
       "      <td>29.0</td>\n",
       "      <td>64.0</td>\n",
       "      <td>5.0</td>\n",
       "      <td>69.0</td>\n",
       "      <td>35.0</td>\n",
       "      <td>304.0</td>\n",
       "    </tr>\n",
       "    <tr>\n",
       "      <th>4</th>\n",
       "      <td>06/30/2016</td>\n",
       "      <td>NaN</td>\n",
       "      <td>NaN</td>\n",
       "      <td>NaN</td>\n",
       "      <td>NaN</td>\n",
       "      <td>0</td>\n",
       "      <td>STATEWIDE - ALL DISTRICTS AND CHARTERS</td>\n",
       "      <td>ELA</td>\n",
       "      <td>Grade 3 ELA</td>\n",
       "      <td>5</td>\n",
       "      <td>...</td>\n",
       "      <td>36.0</td>\n",
       "      <td>10466.0</td>\n",
       "      <td>33.0</td>\n",
       "      <td>8588.0</td>\n",
       "      <td>27.0</td>\n",
       "      <td>1351.0</td>\n",
       "      <td>4.0</td>\n",
       "      <td>64.0</td>\n",
       "      <td>31.0</td>\n",
       "      <td>300.0</td>\n",
       "    </tr>\n",
       "  </tbody>\n",
       "</table>\n",
       "<p>5 rows × 23 columns</p>\n",
       "</div>"
      ],
      "text/plain": [
       "  SY_END_DATE  NRC_CODE NRC_DESC  COUNTY_CODE COUNTY_DESC  BEDSCODE  \\\n",
       "0  06/30/2016       NaN      NaN          NaN         NaN         0   \n",
       "1  06/30/2016       NaN      NaN          NaN         NaN         0   \n",
       "2  06/30/2016       NaN      NaN          NaN         NaN         0   \n",
       "3  06/30/2016       NaN      NaN          NaN         NaN         0   \n",
       "4  06/30/2016       NaN      NaN          NaN         NaN         0   \n",
       "\n",
       "                                     NAME ITEM_SUBJECT_AREA    ITEM_DESC  \\\n",
       "0  STATEWIDE - ALL DISTRICTS AND CHARTERS               ELA  Grade 3 ELA   \n",
       "1  STATEWIDE - ALL DISTRICTS AND CHARTERS               ELA  Grade 3 ELA   \n",
       "2  STATEWIDE - ALL DISTRICTS AND CHARTERS               ELA  Grade 3 ELA   \n",
       "3  STATEWIDE - ALL DISTRICTS AND CHARTERS               ELA  Grade 3 ELA   \n",
       "4  STATEWIDE - ALL DISTRICTS AND CHARTERS               ELA  Grade 3 ELA   \n",
       "\n",
       "   SUBGROUP_CODE        ...        L1_PCT  L2_COUNT  L2_PCT  L3_COUNT  L3_PCT  \\\n",
       "0              1        ...          27.0   53393.0    31.0   59060.0    35.0   \n",
       "1              2        ...          22.0   25863.0    31.0   31514.0    37.0   \n",
       "2              3        ...          31.0   27530.0    32.0   27546.0    32.0   \n",
       "3              4        ...          31.0     419.0    34.0     363.0    29.0   \n",
       "4              5        ...          36.0   10466.0    33.0    8588.0    27.0   \n",
       "\n",
       "   L4_COUNT  L4_PCT  L2-L4_PCT  L3-L4_PCT  MEAN_SCALE_SCORE  \n",
       "0   12330.0     7.0       73.0       42.0             309.0  \n",
       "1    7826.0     9.0       78.0       47.0             314.0  \n",
       "2    4504.0     5.0       69.0       37.0             305.0  \n",
       "3      64.0     5.0       69.0       35.0             304.0  \n",
       "4    1351.0     4.0       64.0       31.0             300.0  \n",
       "\n",
       "[5 rows x 23 columns]"
      ]
     },
     "execution_count": 14,
     "metadata": {},
     "output_type": "execute_result"
    }
   ],
   "source": [
    "df.head()"
   ]
  },
  {
   "cell_type": "markdown",
   "metadata": {},
   "source": [
    "I wondered what was the deal with all those columns that were just NaNs in the head, so I decided to take a closer look at them."
   ]
  },
  {
   "cell_type": "code",
   "execution_count": 15,
   "metadata": {},
   "outputs": [
    {
     "name": "stdout",
     "output_type": "stream",
     "text": [
      "[ nan   1.   2.   3.   4.   5.   6.   7.]\n",
      "11996\n",
      "[nan 'NYC' 'Buffalo, Rochester, Yonkers, Syracuse'\n",
      " 'Urban-Suburban High Needs' 'Rural High Needs' 'Average Needs' 'Low Needs'\n",
      " 'Charters']\n",
      "11996\n",
      "[ nan   1.   2.   3.   4.   5.   6.   7.   8.   9.  10.  11.  12.  13.  14.\n",
      "  15.  16.  17.  18.  19.  20.  21.  22.  23.  24.  25.  26.  27.  28.  31.\n",
      "  32.  33.  34.  35.  40.  41.  42.  43.  44.  45.  46.  47.  48.  49.  50.\n",
      "  51.  52.  53.  54.  55.  56.  57.  58.  59.  60.  61.  62.  63.  64.  65.\n",
      "  66.  67.  68.]\n",
      "1611\n",
      "[nan 'ALBANY' 'ALLEGANY' 'BROOME' 'CATTARAUGUS' 'CAYUGA' 'CHAUTAUQUA'\n",
      " 'CHEMUNG' 'CHENANGO' 'CLINTON' 'COLUMBIA' 'CORTLAND' 'DELAWARE' 'DUTCHESS'\n",
      " 'ERIE' 'ESSEX' 'FRANKLIN' 'FULTON' 'GENESEE' 'GREENE' 'HAMILTON'\n",
      " 'HERKIMER' 'JEFFERSON' 'LEWIS' 'LIVINGSTON' 'MADISON' 'MONROE'\n",
      " 'MONTGOMERY' 'NASSAU' 'NEW YORK' 'BRONX' 'KINGS' 'QUEENS' 'RICHMOND'\n",
      " 'NIAGARA' 'ONEIDA' 'ONONDAGA' 'ONTARIO' 'ORANGE' 'ORLEANS' 'OSWEGO'\n",
      " 'OTSEGO' 'PUTNAM' 'RENSSELAER' 'ROCKLAND' 'SAINT LAWRENCE' 'SARATOGA'\n",
      " 'SCHENECTADY' 'SCHOHARIE' 'SCHUYLER' 'SENECA' 'STEUBEN' 'SUFFOLK'\n",
      " 'SULLIVAN' 'TIOGA' 'TOMPKINS' 'ULSTER' 'WARREN' 'WASHINGTON' 'WAYNE'\n",
      " 'WESTCHESTER' 'WYOMING' 'YATES']\n",
      "1611\n"
     ]
    }
   ],
   "source": [
    "oddcols=['NRC_CODE','NRC_DESC','COUNTY_CODE','COUNTY_DESC']\n",
    "for col in df[oddcols]:\n",
    "    print(df[col].unique())\n",
    "    print(df[col].isnull().sum())"
   ]
  },
  {
   "cell_type": "markdown",
   "metadata": {},
   "source": [
    "And this was when I realized I'd forgotten the data was for the entire state of New York, not just NYC. Silly me. And lucky me, that I didn't impute NaNs based on a mean that would come to be totally insignificant. I needed to figure out what indices I should subset the dataframe on to include only counties contained within the five boroughs."
   ]
  },
  {
   "cell_type": "code",
   "execution_count": 16,
   "metadata": {},
   "outputs": [
    {
     "name": "stdout",
     "output_type": "stream",
     "text": [
      "NEW YORK first appears at 147366\n",
      "BRONX first appears at 171751\n",
      "KINGS first appears at 200385\n",
      "QUEENS first appears at 242230\n",
      "RICHMOND first appears at 270235\n",
      "CPU times: user 24.1 s, sys: 44.6 ms, total: 24.1 s\n",
      "Wall time: 24.1 s\n"
     ]
    }
   ],
   "source": [
    "%%time\n",
    "nyc_counties=['NEW YORK','BRONX','KINGS','QUEENS','RICHMOND']\n",
    "county_start_index=[0,0,0,0,0]\n",
    "county_counts=[0,0,0,0,0]\n",
    "county_been_seen=[0,0,0,0,0]\n",
    "for i in range(df.shape[0]):\n",
    "    for j in range(5):\n",
    "        if df['COUNTY_DESC'][i]==nyc_counties[j]:\n",
    "            if county_been_seen[j]==0:\n",
    "                county_start_index[j]=i\n",
    "                print(nyc_counties[j]+' first appears at '+str(i))\n",
    "                county_been_seen[j]=1\n",
    "            county_counts[j]+=1"
   ]
  },
  {
   "cell_type": "code",
   "execution_count": 17,
   "metadata": {},
   "outputs": [
    {
     "data": {
      "text/plain": [
       "0"
      ]
     },
     "execution_count": 17,
     "metadata": {},
     "output_type": "execute_result"
    }
   ],
   "source": [
    "os.system('say \"County tally complete\"')"
   ]
  },
  {
   "cell_type": "code",
   "execution_count": 18,
   "metadata": {},
   "outputs": [
    {
     "data": {
      "text/plain": [
       "[24385, 28634, 41845, 28005, 5898]"
      ]
     },
     "execution_count": 18,
     "metadata": {},
     "output_type": "execute_result"
    }
   ],
   "source": [
    "county_counts"
   ]
  },
  {
   "cell_type": "code",
   "execution_count": 19,
   "metadata": {},
   "outputs": [
    {
     "data": {
      "text/plain": [
       "[147366, 171751, 200385, 242230, 270235]"
      ]
     },
     "execution_count": 19,
     "metadata": {},
     "output_type": "execute_result"
    }
   ],
   "source": [
    "county_start_index"
   ]
  },
  {
   "cell_type": "code",
   "execution_count": 20,
   "metadata": {},
   "outputs": [
    {
     "data": {
      "text/plain": [
       "[171751, 200385, 242230, 270235, 276133]"
      ]
     },
     "execution_count": 20,
     "metadata": {},
     "output_type": "execute_result"
    }
   ],
   "source": [
    "county_end_index=[0,0,0,0,0]\n",
    "for k in range(5):\n",
    "    county_end_index[k]=county_start_index[k]+county_counts[k]\n",
    "county_end_index"
   ]
  },
  {
   "cell_type": "code",
   "execution_count": 21,
   "metadata": {},
   "outputs": [
    {
     "data": {
      "text/plain": [
       "'NIAGARA'"
      ]
     },
     "execution_count": 21,
     "metadata": {},
     "output_type": "execute_result"
    }
   ],
   "source": [
    "df['COUNTY_DESC'][276133] #seeing if I need to trim at or after this index"
   ]
  },
  {
   "cell_type": "markdown",
   "metadata": {},
   "source": [
    "Makes sense they'd all be one after the other, right? So I need to subset only [147366:276133] for my NYC dataframe."
   ]
  },
  {
   "cell_type": "code",
   "execution_count": 22,
   "metadata": {
    "collapsed": true
   },
   "outputs": [],
   "source": [
    "nyc_df=df[:][147366:276133].copy()\n",
    "nyc_df.reset_index(inplace=True)"
   ]
  },
  {
   "cell_type": "code",
   "execution_count": 23,
   "metadata": {},
   "outputs": [
    {
     "data": {
      "text/plain": [
       "array(['NEW YORK', 'BRONX', 'KINGS', 'QUEENS', 'RICHMOND'], dtype=object)"
      ]
     },
     "execution_count": 23,
     "metadata": {},
     "output_type": "execute_result"
    }
   ],
   "source": [
    "nyc_df['COUNTY_DESC'].unique()"
   ]
  },
  {
   "cell_type": "code",
   "execution_count": 24,
   "metadata": {},
   "outputs": [
    {
     "data": {
      "text/plain": [
       "0"
      ]
     },
     "execution_count": 24,
     "metadata": {},
     "output_type": "execute_result"
    }
   ],
   "source": [
    "os.system('say \"Subset county check complete\"')"
   ]
  },
  {
   "cell_type": "code",
   "execution_count": 25,
   "metadata": {},
   "outputs": [
    {
     "data": {
      "text/html": [
       "<div>\n",
       "<style>\n",
       "    .dataframe thead tr:only-child th {\n",
       "        text-align: right;\n",
       "    }\n",
       "\n",
       "    .dataframe thead th {\n",
       "        text-align: left;\n",
       "    }\n",
       "\n",
       "    .dataframe tbody tr th {\n",
       "        vertical-align: top;\n",
       "    }\n",
       "</style>\n",
       "<table border=\"1\" class=\"dataframe\">\n",
       "  <thead>\n",
       "    <tr style=\"text-align: right;\">\n",
       "      <th></th>\n",
       "      <th>index</th>\n",
       "      <th>SY_END_DATE</th>\n",
       "      <th>NRC_CODE</th>\n",
       "      <th>NRC_DESC</th>\n",
       "      <th>COUNTY_CODE</th>\n",
       "      <th>COUNTY_DESC</th>\n",
       "      <th>BEDSCODE</th>\n",
       "      <th>NAME</th>\n",
       "      <th>ITEM_SUBJECT_AREA</th>\n",
       "      <th>ITEM_DESC</th>\n",
       "      <th>...</th>\n",
       "      <th>L1_PCT</th>\n",
       "      <th>L2_COUNT</th>\n",
       "      <th>L2_PCT</th>\n",
       "      <th>L3_COUNT</th>\n",
       "      <th>L3_PCT</th>\n",
       "      <th>L4_COUNT</th>\n",
       "      <th>L4_PCT</th>\n",
       "      <th>L2-L4_PCT</th>\n",
       "      <th>L3-L4_PCT</th>\n",
       "      <th>MEAN_SCALE_SCORE</th>\n",
       "    </tr>\n",
       "  </thead>\n",
       "  <tbody>\n",
       "    <tr>\n",
       "      <th>0</th>\n",
       "      <td>147366</td>\n",
       "      <td>06/30/2016</td>\n",
       "      <td>NaN</td>\n",
       "      <td>NaN</td>\n",
       "      <td>31.0</td>\n",
       "      <td>NEW YORK</td>\n",
       "      <td>310000000000</td>\n",
       "      <td>NEW YORK COUNTY</td>\n",
       "      <td>ELA</td>\n",
       "      <td>Grade 3 ELA</td>\n",
       "      <td>...</td>\n",
       "      <td>21.0</td>\n",
       "      <td>2798.0</td>\n",
       "      <td>27.0</td>\n",
       "      <td>4154.0</td>\n",
       "      <td>40.0</td>\n",
       "      <td>1296.0</td>\n",
       "      <td>12.0</td>\n",
       "      <td>79.0</td>\n",
       "      <td>52.0</td>\n",
       "      <td>317.0</td>\n",
       "    </tr>\n",
       "    <tr>\n",
       "      <th>1</th>\n",
       "      <td>147367</td>\n",
       "      <td>06/30/2016</td>\n",
       "      <td>NaN</td>\n",
       "      <td>NaN</td>\n",
       "      <td>31.0</td>\n",
       "      <td>NEW YORK</td>\n",
       "      <td>310000000000</td>\n",
       "      <td>NEW YORK COUNTY</td>\n",
       "      <td>ELA</td>\n",
       "      <td>Grade 3 ELA</td>\n",
       "      <td>...</td>\n",
       "      <td>17.0</td>\n",
       "      <td>1330.0</td>\n",
       "      <td>26.0</td>\n",
       "      <td>2174.0</td>\n",
       "      <td>42.0</td>\n",
       "      <td>827.0</td>\n",
       "      <td>16.0</td>\n",
       "      <td>83.0</td>\n",
       "      <td>58.0</td>\n",
       "      <td>322.0</td>\n",
       "    </tr>\n",
       "    <tr>\n",
       "      <th>2</th>\n",
       "      <td>147368</td>\n",
       "      <td>06/30/2016</td>\n",
       "      <td>NaN</td>\n",
       "      <td>NaN</td>\n",
       "      <td>31.0</td>\n",
       "      <td>NEW YORK</td>\n",
       "      <td>310000000000</td>\n",
       "      <td>NEW YORK COUNTY</td>\n",
       "      <td>ELA</td>\n",
       "      <td>Grade 3 ELA</td>\n",
       "      <td>...</td>\n",
       "      <td>26.0</td>\n",
       "      <td>1468.0</td>\n",
       "      <td>28.0</td>\n",
       "      <td>1980.0</td>\n",
       "      <td>38.0</td>\n",
       "      <td>469.0</td>\n",
       "      <td>9.0</td>\n",
       "      <td>74.0</td>\n",
       "      <td>47.0</td>\n",
       "      <td>312.0</td>\n",
       "    </tr>\n",
       "    <tr>\n",
       "      <th>3</th>\n",
       "      <td>147369</td>\n",
       "      <td>06/30/2016</td>\n",
       "      <td>NaN</td>\n",
       "      <td>NaN</td>\n",
       "      <td>31.0</td>\n",
       "      <td>NEW YORK</td>\n",
       "      <td>310000000000</td>\n",
       "      <td>NEW YORK COUNTY</td>\n",
       "      <td>ELA</td>\n",
       "      <td>Grade 3 ELA</td>\n",
       "      <td>...</td>\n",
       "      <td>33.0</td>\n",
       "      <td>22.0</td>\n",
       "      <td>30.0</td>\n",
       "      <td>25.0</td>\n",
       "      <td>34.0</td>\n",
       "      <td>2.0</td>\n",
       "      <td>3.0</td>\n",
       "      <td>67.0</td>\n",
       "      <td>37.0</td>\n",
       "      <td>302.0</td>\n",
       "    </tr>\n",
       "    <tr>\n",
       "      <th>4</th>\n",
       "      <td>147370</td>\n",
       "      <td>06/30/2016</td>\n",
       "      <td>NaN</td>\n",
       "      <td>NaN</td>\n",
       "      <td>31.0</td>\n",
       "      <td>NEW YORK</td>\n",
       "      <td>310000000000</td>\n",
       "      <td>NEW YORK COUNTY</td>\n",
       "      <td>ELA</td>\n",
       "      <td>Grade 3 ELA</td>\n",
       "      <td>...</td>\n",
       "      <td>26.0</td>\n",
       "      <td>691.0</td>\n",
       "      <td>31.0</td>\n",
       "      <td>832.0</td>\n",
       "      <td>37.0</td>\n",
       "      <td>139.0</td>\n",
       "      <td>6.0</td>\n",
       "      <td>74.0</td>\n",
       "      <td>43.0</td>\n",
       "      <td>310.0</td>\n",
       "    </tr>\n",
       "  </tbody>\n",
       "</table>\n",
       "<p>5 rows × 24 columns</p>\n",
       "</div>"
      ],
      "text/plain": [
       "    index SY_END_DATE  NRC_CODE NRC_DESC  COUNTY_CODE COUNTY_DESC  \\\n",
       "0  147366  06/30/2016       NaN      NaN         31.0    NEW YORK   \n",
       "1  147367  06/30/2016       NaN      NaN         31.0    NEW YORK   \n",
       "2  147368  06/30/2016       NaN      NaN         31.0    NEW YORK   \n",
       "3  147369  06/30/2016       NaN      NaN         31.0    NEW YORK   \n",
       "4  147370  06/30/2016       NaN      NaN         31.0    NEW YORK   \n",
       "\n",
       "       BEDSCODE             NAME ITEM_SUBJECT_AREA    ITEM_DESC  \\\n",
       "0  310000000000  NEW YORK COUNTY               ELA  Grade 3 ELA   \n",
       "1  310000000000  NEW YORK COUNTY               ELA  Grade 3 ELA   \n",
       "2  310000000000  NEW YORK COUNTY               ELA  Grade 3 ELA   \n",
       "3  310000000000  NEW YORK COUNTY               ELA  Grade 3 ELA   \n",
       "4  310000000000  NEW YORK COUNTY               ELA  Grade 3 ELA   \n",
       "\n",
       "         ...         L1_PCT L2_COUNT  L2_PCT  L3_COUNT  L3_PCT  L4_COUNT  \\\n",
       "0        ...           21.0   2798.0    27.0    4154.0    40.0    1296.0   \n",
       "1        ...           17.0   1330.0    26.0    2174.0    42.0     827.0   \n",
       "2        ...           26.0   1468.0    28.0    1980.0    38.0     469.0   \n",
       "3        ...           33.0     22.0    30.0      25.0    34.0       2.0   \n",
       "4        ...           26.0    691.0    31.0     832.0    37.0     139.0   \n",
       "\n",
       "   L4_PCT  L2-L4_PCT  L3-L4_PCT  MEAN_SCALE_SCORE  \n",
       "0    12.0       79.0       52.0             317.0  \n",
       "1    16.0       83.0       58.0             322.0  \n",
       "2     9.0       74.0       47.0             312.0  \n",
       "3     3.0       67.0       37.0             302.0  \n",
       "4     6.0       74.0       43.0             310.0  \n",
       "\n",
       "[5 rows x 24 columns]"
      ]
     },
     "execution_count": 25,
     "metadata": {},
     "output_type": "execute_result"
    }
   ],
   "source": [
    "nyc_df.head()"
   ]
  },
  {
   "cell_type": "markdown",
   "metadata": {},
   "source": [
    "Okay, that worked. It might be useful later on to have a little dataframe with the state rates and stuff to compare against, so let's take a brief detour and whip that up."
   ]
  },
  {
   "cell_type": "code",
   "execution_count": 26,
   "metadata": {},
   "outputs": [
    {
     "data": {
      "text/plain": [
       "SCHOOL 5                                              372\n",
       "PARK AVENUE SCHOOL                                    340\n",
       "JOHN F KENNEDY SCHOOL                                 315\n",
       "JOHN F KENNEDY MIDDLE SCHOOL                          309\n",
       "EAST MIDDLE SCHOOL                                    290\n",
       "PS 89                                                 266\n",
       "WEST MIDDLE SCHOOL                                    249\n",
       "JEFFERSON ELEMENTARY SCHOOL                           248\n",
       "IROQUOIS MIDDLE SCHOOL                                246\n",
       "PS 212                                                244\n",
       "GEORGE WASHINGTON SCHOOL                              238\n",
       "PS 150                                                206\n",
       "STATEWIDE - ALL DISTRICTS AND CHARTERS                204\n",
       "CHAUTAUQUA COUNTY                                     204\n",
       "ORANGE COUNTY                                         204\n",
       "ONONDAGA COUNTY                                       204\n",
       "NRC - BUFFALO, ROCHESTER, YONKERS, SYRACUSE           204\n",
       "OSWEGO COUNTY                                         204\n",
       "NRC - URBAN-SUBURBAN HIGH NEEDS                       204\n",
       "SYRACUSE CITY SCHOOL DISTRICT                         204\n",
       "NRC - AVERAGE NEEDS                                   204\n",
       "MONROE COUNTY                                         204\n",
       "NRC - RURAL HIGH NEEDS                                204\n",
       "SUFFOLK COUNTY                                        204\n",
       "NIAGARA COUNTY                                        204\n",
       "WAYNE COUNTY                                          204\n",
       "NRC - LOW NEEDS                                       203\n",
       "THOMAS JEFFERSON ELEMENTARY SCHOOL                    203\n",
       "SULLIVAN COUNTY                                       202\n",
       "ULSTER COUNTY                                         202\n",
       "                                                     ... \n",
       "RANDOLPH ACADEMY UNION FREE SCHOOL DISTRICT            10\n",
       "RANDOLPH ACADEMY                                       10\n",
       "EDENWALD SCHOOL                                        10\n",
       "PINE HILL EDUCATION CENTER                              9\n",
       "BIRCHWOOD SCHOOL                                        9\n",
       "NEW SUFFOLK SCHOOL                                      8\n",
       "WOODHULL SCHOOL                                         8\n",
       "NEW SUFFOLK COMMON SCHOOL DISTRICT                      8\n",
       "FIRE ISLAND UNION FREE SCHOOL DISTRICT                  8\n",
       "LONG LAKE CENTRAL SCHOOL                                7\n",
       "LONG LAKE CENTRAL SCHOOL DISTRICT                       7\n",
       "JOHNSTOWN SENIOR HIGH SCHOOL                            5\n",
       "GREENBURGH-NORTH CASTLE UNION FREE SCHOOL DISTRICT      4\n",
       "LITTLE FLOWER UNION FREE SCHOOL DISTRICT                4\n",
       "LITTLE FLOWER SCHOOL                                    4\n",
       "CASTLE BRIDGE SCHOOL                                    4\n",
       "WAINSCOTT COMMON SCHOOL DISTRICT                        2\n",
       "PLEASANT AVENUE SCHOOL                                  2\n",
       "LITTLE SCHOOL                                           2\n",
       "KAPLAN CAREER ACADEMY                                   2\n",
       "DANSVILLE PRIMARY SCHOOL                                2\n",
       "WAINSCOTT SCHOOL                                        2\n",
       "RANDOLPH ACADEMYHAMBURG CAMPUS                          2\n",
       "REINHARD EARLY CHILDHOOD CENTER                         2\n",
       "SAGAPONACK COMMON SCHOOL DISTRICT                       2\n",
       "SAGAPONACK SCHOOL                                       2\n",
       "CLARK ACADEMY                                           2\n",
       "GEORGE D RYDER ELEMENTARY SCHOOL                        2\n",
       "HUDSON FALLS HIGH SCHOOL                                1\n",
       "PLATTSBURGH SENIOR HIGH SCHOOL                          1\n",
       "Name: NAME, Length: 4320, dtype: int64"
      ]
     },
     "execution_count": 26,
     "metadata": {},
     "output_type": "execute_result"
    }
   ],
   "source": [
    "#The state values are at the top (i.e. starts at index 0) so we only need to know how many state rows there are.\n",
    "df['NAME'].value_counts()"
   ]
  },
  {
   "cell_type": "markdown",
   "metadata": {},
   "source": [
    "Okay, we see above that STATEWIDE - ALL DISTRICTS AND CHARTERS has 204 rows, which is more than I was expecting, but at least we know the subset indices now. Let's do it."
   ]
  },
  {
   "cell_type": "code",
   "execution_count": 27,
   "metadata": {},
   "outputs": [
    {
     "data": {
      "text/html": [
       "<div>\n",
       "<style>\n",
       "    .dataframe thead tr:only-child th {\n",
       "        text-align: right;\n",
       "    }\n",
       "\n",
       "    .dataframe thead th {\n",
       "        text-align: left;\n",
       "    }\n",
       "\n",
       "    .dataframe tbody tr th {\n",
       "        vertical-align: top;\n",
       "    }\n",
       "</style>\n",
       "<table border=\"1\" class=\"dataframe\">\n",
       "  <thead>\n",
       "    <tr style=\"text-align: right;\">\n",
       "      <th></th>\n",
       "      <th>NRC_CODE</th>\n",
       "      <th>COUNTY_CODE</th>\n",
       "      <th>BEDSCODE</th>\n",
       "      <th>SUBGROUP_CODE</th>\n",
       "      <th>TOTAL_TESTED</th>\n",
       "      <th>L1_COUNT</th>\n",
       "      <th>L1_PCT</th>\n",
       "      <th>L2_COUNT</th>\n",
       "      <th>L2_PCT</th>\n",
       "      <th>L3_COUNT</th>\n",
       "      <th>L3_PCT</th>\n",
       "      <th>L4_COUNT</th>\n",
       "      <th>L4_PCT</th>\n",
       "      <th>L2-L4_PCT</th>\n",
       "      <th>L3-L4_PCT</th>\n",
       "      <th>MEAN_SCALE_SCORE</th>\n",
       "    </tr>\n",
       "  </thead>\n",
       "  <tbody>\n",
       "    <tr>\n",
       "      <th>count</th>\n",
       "      <td>0.0</td>\n",
       "      <td>0.0</td>\n",
       "      <td>204.0</td>\n",
       "      <td>204.000000</td>\n",
       "      <td>204.000000</td>\n",
       "      <td>204.000000</td>\n",
       "      <td>204.000000</td>\n",
       "      <td>204.000000</td>\n",
       "      <td>204.000000</td>\n",
       "      <td>204.000000</td>\n",
       "      <td>204.000000</td>\n",
       "      <td>204.000000</td>\n",
       "      <td>204.000000</td>\n",
       "      <td>204.000000</td>\n",
       "      <td>204.000000</td>\n",
       "      <td>204.000000</td>\n",
       "    </tr>\n",
       "    <tr>\n",
       "      <th>mean</th>\n",
       "      <td>NaN</td>\n",
       "      <td>NaN</td>\n",
       "      <td>0.0</td>\n",
       "      <td>9.235294</td>\n",
       "      <td>62385.990196</td>\n",
       "      <td>18040.544118</td>\n",
       "      <td>34.661765</td>\n",
       "      <td>20342.068627</td>\n",
       "      <td>31.465686</td>\n",
       "      <td>14794.362745</td>\n",
       "      <td>20.794118</td>\n",
       "      <td>9209.014706</td>\n",
       "      <td>13.044118</td>\n",
       "      <td>65.338235</td>\n",
       "      <td>33.882353</td>\n",
       "      <td>298.495098</td>\n",
       "    </tr>\n",
       "    <tr>\n",
       "      <th>std</th>\n",
       "      <td>NaN</td>\n",
       "      <td>NaN</td>\n",
       "      <td>0.0</td>\n",
       "      <td>5.231915</td>\n",
       "      <td>52516.240409</td>\n",
       "      <td>14566.460020</td>\n",
       "      <td>16.701916</td>\n",
       "      <td>17604.593260</td>\n",
       "      <td>5.277875</td>\n",
       "      <td>14202.778265</td>\n",
       "      <td>8.608437</td>\n",
       "      <td>9721.014802</td>\n",
       "      <td>9.265807</td>\n",
       "      <td>16.701916</td>\n",
       "      <td>15.852332</td>\n",
       "      <td>16.243376</td>\n",
       "    </tr>\n",
       "    <tr>\n",
       "      <th>min</th>\n",
       "      <td>NaN</td>\n",
       "      <td>NaN</td>\n",
       "      <td>0.0</td>\n",
       "      <td>1.000000</td>\n",
       "      <td>70.000000</td>\n",
       "      <td>34.000000</td>\n",
       "      <td>10.000000</td>\n",
       "      <td>18.000000</td>\n",
       "      <td>13.000000</td>\n",
       "      <td>2.000000</td>\n",
       "      <td>1.000000</td>\n",
       "      <td>0.000000</td>\n",
       "      <td>0.000000</td>\n",
       "      <td>15.000000</td>\n",
       "      <td>1.000000</td>\n",
       "      <td>255.000000</td>\n",
       "    </tr>\n",
       "    <tr>\n",
       "      <th>25%</th>\n",
       "      <td>NaN</td>\n",
       "      <td>NaN</td>\n",
       "      <td>0.0</td>\n",
       "      <td>5.000000</td>\n",
       "      <td>16961.000000</td>\n",
       "      <td>7715.500000</td>\n",
       "      <td>23.000000</td>\n",
       "      <td>4176.750000</td>\n",
       "      <td>29.000000</td>\n",
       "      <td>1571.500000</td>\n",
       "      <td>16.000000</td>\n",
       "      <td>694.000000</td>\n",
       "      <td>6.000000</td>\n",
       "      <td>58.000000</td>\n",
       "      <td>23.000000</td>\n",
       "      <td>291.000000</td>\n",
       "    </tr>\n",
       "    <tr>\n",
       "      <th>50%</th>\n",
       "      <td>NaN</td>\n",
       "      <td>NaN</td>\n",
       "      <td>0.0</td>\n",
       "      <td>9.000000</td>\n",
       "      <td>56249.000000</td>\n",
       "      <td>15136.000000</td>\n",
       "      <td>31.000000</td>\n",
       "      <td>17572.000000</td>\n",
       "      <td>31.000000</td>\n",
       "      <td>13372.500000</td>\n",
       "      <td>22.000000</td>\n",
       "      <td>6132.000000</td>\n",
       "      <td>12.000000</td>\n",
       "      <td>69.000000</td>\n",
       "      <td>35.500000</td>\n",
       "      <td>302.000000</td>\n",
       "    </tr>\n",
       "    <tr>\n",
       "      <th>75%</th>\n",
       "      <td>NaN</td>\n",
       "      <td>NaN</td>\n",
       "      <td>0.0</td>\n",
       "      <td>13.000000</td>\n",
       "      <td>93243.000000</td>\n",
       "      <td>27821.000000</td>\n",
       "      <td>42.000000</td>\n",
       "      <td>33940.000000</td>\n",
       "      <td>35.000000</td>\n",
       "      <td>20785.250000</td>\n",
       "      <td>26.000000</td>\n",
       "      <td>16004.750000</td>\n",
       "      <td>18.250000</td>\n",
       "      <td>77.000000</td>\n",
       "      <td>45.000000</td>\n",
       "      <td>309.000000</td>\n",
       "    </tr>\n",
       "    <tr>\n",
       "      <th>max</th>\n",
       "      <td>NaN</td>\n",
       "      <td>NaN</td>\n",
       "      <td>0.0</td>\n",
       "      <td>18.000000</td>\n",
       "      <td>170666.000000</td>\n",
       "      <td>57080.000000</td>\n",
       "      <td>85.000000</td>\n",
       "      <td>58224.000000</td>\n",
       "      <td>42.000000</td>\n",
       "      <td>59060.000000</td>\n",
       "      <td>46.000000</td>\n",
       "      <td>37540.000000</td>\n",
       "      <td>48.000000</td>\n",
       "      <td>90.000000</td>\n",
       "      <td>70.000000</td>\n",
       "      <td>332.000000</td>\n",
       "    </tr>\n",
       "  </tbody>\n",
       "</table>\n",
       "</div>"
      ],
      "text/plain": [
       "       NRC_CODE  COUNTY_CODE  BEDSCODE  SUBGROUP_CODE   TOTAL_TESTED  \\\n",
       "count       0.0          0.0     204.0     204.000000     204.000000   \n",
       "mean        NaN          NaN       0.0       9.235294   62385.990196   \n",
       "std         NaN          NaN       0.0       5.231915   52516.240409   \n",
       "min         NaN          NaN       0.0       1.000000      70.000000   \n",
       "25%         NaN          NaN       0.0       5.000000   16961.000000   \n",
       "50%         NaN          NaN       0.0       9.000000   56249.000000   \n",
       "75%         NaN          NaN       0.0      13.000000   93243.000000   \n",
       "max         NaN          NaN       0.0      18.000000  170666.000000   \n",
       "\n",
       "           L1_COUNT      L1_PCT      L2_COUNT      L2_PCT      L3_COUNT  \\\n",
       "count    204.000000  204.000000    204.000000  204.000000    204.000000   \n",
       "mean   18040.544118   34.661765  20342.068627   31.465686  14794.362745   \n",
       "std    14566.460020   16.701916  17604.593260    5.277875  14202.778265   \n",
       "min       34.000000   10.000000     18.000000   13.000000      2.000000   \n",
       "25%     7715.500000   23.000000   4176.750000   29.000000   1571.500000   \n",
       "50%    15136.000000   31.000000  17572.000000   31.000000  13372.500000   \n",
       "75%    27821.000000   42.000000  33940.000000   35.000000  20785.250000   \n",
       "max    57080.000000   85.000000  58224.000000   42.000000  59060.000000   \n",
       "\n",
       "           L3_PCT      L4_COUNT      L4_PCT   L2-L4_PCT   L3-L4_PCT  \\\n",
       "count  204.000000    204.000000  204.000000  204.000000  204.000000   \n",
       "mean    20.794118   9209.014706   13.044118   65.338235   33.882353   \n",
       "std      8.608437   9721.014802    9.265807   16.701916   15.852332   \n",
       "min      1.000000      0.000000    0.000000   15.000000    1.000000   \n",
       "25%     16.000000    694.000000    6.000000   58.000000   23.000000   \n",
       "50%     22.000000   6132.000000   12.000000   69.000000   35.500000   \n",
       "75%     26.000000  16004.750000   18.250000   77.000000   45.000000   \n",
       "max     46.000000  37540.000000   48.000000   90.000000   70.000000   \n",
       "\n",
       "       MEAN_SCALE_SCORE  \n",
       "count        204.000000  \n",
       "mean         298.495098  \n",
       "std           16.243376  \n",
       "min          255.000000  \n",
       "25%          291.000000  \n",
       "50%          302.000000  \n",
       "75%          309.000000  \n",
       "max          332.000000  "
      ]
     },
     "execution_count": 27,
     "metadata": {},
     "output_type": "execute_result"
    }
   ],
   "source": [
    "state_df=df[:][:204].copy()\n",
    "state_df.describe()"
   ]
  },
  {
   "cell_type": "code",
   "execution_count": 28,
   "metadata": {},
   "outputs": [
    {
     "data": {
      "text/plain": [
       "0"
      ]
     },
     "execution_count": 28,
     "metadata": {},
     "output_type": "execute_result"
    }
   ],
   "source": [
    "os.system('say \"State subframe complete\"')"
   ]
  },
  {
   "cell_type": "code",
   "execution_count": 29,
   "metadata": {},
   "outputs": [
    {
     "data": {
      "text/html": [
       "<div>\n",
       "<style>\n",
       "    .dataframe thead tr:only-child th {\n",
       "        text-align: right;\n",
       "    }\n",
       "\n",
       "    .dataframe thead th {\n",
       "        text-align: left;\n",
       "    }\n",
       "\n",
       "    .dataframe tbody tr th {\n",
       "        vertical-align: top;\n",
       "    }\n",
       "</style>\n",
       "<table border=\"1\" class=\"dataframe\">\n",
       "  <thead>\n",
       "    <tr style=\"text-align: right;\">\n",
       "      <th></th>\n",
       "      <th>index</th>\n",
       "      <th>SY_END_DATE</th>\n",
       "      <th>NRC_CODE</th>\n",
       "      <th>NRC_DESC</th>\n",
       "      <th>COUNTY_CODE</th>\n",
       "      <th>COUNTY_DESC</th>\n",
       "      <th>BEDSCODE</th>\n",
       "      <th>NAME</th>\n",
       "      <th>ITEM_SUBJECT_AREA</th>\n",
       "      <th>ITEM_DESC</th>\n",
       "      <th>...</th>\n",
       "      <th>L1_PCT</th>\n",
       "      <th>L2_COUNT</th>\n",
       "      <th>L2_PCT</th>\n",
       "      <th>L3_COUNT</th>\n",
       "      <th>L3_PCT</th>\n",
       "      <th>L4_COUNT</th>\n",
       "      <th>L4_PCT</th>\n",
       "      <th>L2-L4_PCT</th>\n",
       "      <th>L3-L4_PCT</th>\n",
       "      <th>MEAN_SCALE_SCORE</th>\n",
       "    </tr>\n",
       "  </thead>\n",
       "  <tbody>\n",
       "    <tr>\n",
       "      <th>0</th>\n",
       "      <td>147366</td>\n",
       "      <td>06/30/2016</td>\n",
       "      <td>NaN</td>\n",
       "      <td>NaN</td>\n",
       "      <td>31.0</td>\n",
       "      <td>NEW YORK</td>\n",
       "      <td>310000000000</td>\n",
       "      <td>NEW YORK COUNTY</td>\n",
       "      <td>ELA</td>\n",
       "      <td>Grade 3 ELA</td>\n",
       "      <td>...</td>\n",
       "      <td>21.0</td>\n",
       "      <td>2798.0</td>\n",
       "      <td>27.0</td>\n",
       "      <td>4154.0</td>\n",
       "      <td>40.0</td>\n",
       "      <td>1296.0</td>\n",
       "      <td>12.0</td>\n",
       "      <td>79.0</td>\n",
       "      <td>52.0</td>\n",
       "      <td>317.0</td>\n",
       "    </tr>\n",
       "    <tr>\n",
       "      <th>1</th>\n",
       "      <td>147367</td>\n",
       "      <td>06/30/2016</td>\n",
       "      <td>NaN</td>\n",
       "      <td>NaN</td>\n",
       "      <td>31.0</td>\n",
       "      <td>NEW YORK</td>\n",
       "      <td>310000000000</td>\n",
       "      <td>NEW YORK COUNTY</td>\n",
       "      <td>ELA</td>\n",
       "      <td>Grade 3 ELA</td>\n",
       "      <td>...</td>\n",
       "      <td>17.0</td>\n",
       "      <td>1330.0</td>\n",
       "      <td>26.0</td>\n",
       "      <td>2174.0</td>\n",
       "      <td>42.0</td>\n",
       "      <td>827.0</td>\n",
       "      <td>16.0</td>\n",
       "      <td>83.0</td>\n",
       "      <td>58.0</td>\n",
       "      <td>322.0</td>\n",
       "    </tr>\n",
       "    <tr>\n",
       "      <th>2</th>\n",
       "      <td>147368</td>\n",
       "      <td>06/30/2016</td>\n",
       "      <td>NaN</td>\n",
       "      <td>NaN</td>\n",
       "      <td>31.0</td>\n",
       "      <td>NEW YORK</td>\n",
       "      <td>310000000000</td>\n",
       "      <td>NEW YORK COUNTY</td>\n",
       "      <td>ELA</td>\n",
       "      <td>Grade 3 ELA</td>\n",
       "      <td>...</td>\n",
       "      <td>26.0</td>\n",
       "      <td>1468.0</td>\n",
       "      <td>28.0</td>\n",
       "      <td>1980.0</td>\n",
       "      <td>38.0</td>\n",
       "      <td>469.0</td>\n",
       "      <td>9.0</td>\n",
       "      <td>74.0</td>\n",
       "      <td>47.0</td>\n",
       "      <td>312.0</td>\n",
       "    </tr>\n",
       "    <tr>\n",
       "      <th>3</th>\n",
       "      <td>147369</td>\n",
       "      <td>06/30/2016</td>\n",
       "      <td>NaN</td>\n",
       "      <td>NaN</td>\n",
       "      <td>31.0</td>\n",
       "      <td>NEW YORK</td>\n",
       "      <td>310000000000</td>\n",
       "      <td>NEW YORK COUNTY</td>\n",
       "      <td>ELA</td>\n",
       "      <td>Grade 3 ELA</td>\n",
       "      <td>...</td>\n",
       "      <td>33.0</td>\n",
       "      <td>22.0</td>\n",
       "      <td>30.0</td>\n",
       "      <td>25.0</td>\n",
       "      <td>34.0</td>\n",
       "      <td>2.0</td>\n",
       "      <td>3.0</td>\n",
       "      <td>67.0</td>\n",
       "      <td>37.0</td>\n",
       "      <td>302.0</td>\n",
       "    </tr>\n",
       "    <tr>\n",
       "      <th>4</th>\n",
       "      <td>147370</td>\n",
       "      <td>06/30/2016</td>\n",
       "      <td>NaN</td>\n",
       "      <td>NaN</td>\n",
       "      <td>31.0</td>\n",
       "      <td>NEW YORK</td>\n",
       "      <td>310000000000</td>\n",
       "      <td>NEW YORK COUNTY</td>\n",
       "      <td>ELA</td>\n",
       "      <td>Grade 3 ELA</td>\n",
       "      <td>...</td>\n",
       "      <td>26.0</td>\n",
       "      <td>691.0</td>\n",
       "      <td>31.0</td>\n",
       "      <td>832.0</td>\n",
       "      <td>37.0</td>\n",
       "      <td>139.0</td>\n",
       "      <td>6.0</td>\n",
       "      <td>74.0</td>\n",
       "      <td>43.0</td>\n",
       "      <td>310.0</td>\n",
       "    </tr>\n",
       "    <tr>\n",
       "      <th>5</th>\n",
       "      <td>147371</td>\n",
       "      <td>06/30/2016</td>\n",
       "      <td>NaN</td>\n",
       "      <td>NaN</td>\n",
       "      <td>31.0</td>\n",
       "      <td>NEW YORK</td>\n",
       "      <td>310000000000</td>\n",
       "      <td>NEW YORK COUNTY</td>\n",
       "      <td>ELA</td>\n",
       "      <td>Grade 3 ELA</td>\n",
       "      <td>...</td>\n",
       "      <td>31.0</td>\n",
       "      <td>1442.0</td>\n",
       "      <td>33.0</td>\n",
       "      <td>1395.0</td>\n",
       "      <td>32.0</td>\n",
       "      <td>224.0</td>\n",
       "      <td>5.0</td>\n",
       "      <td>69.0</td>\n",
       "      <td>37.0</td>\n",
       "      <td>305.0</td>\n",
       "    </tr>\n",
       "    <tr>\n",
       "      <th>6</th>\n",
       "      <td>147372</td>\n",
       "      <td>06/30/2016</td>\n",
       "      <td>NaN</td>\n",
       "      <td>NaN</td>\n",
       "      <td>31.0</td>\n",
       "      <td>NEW YORK</td>\n",
       "      <td>310000000000</td>\n",
       "      <td>NEW YORK COUNTY</td>\n",
       "      <td>ELA</td>\n",
       "      <td>Grade 3 ELA</td>\n",
       "      <td>...</td>\n",
       "      <td>9.0</td>\n",
       "      <td>255.0</td>\n",
       "      <td>19.0</td>\n",
       "      <td>629.0</td>\n",
       "      <td>48.0</td>\n",
       "      <td>308.0</td>\n",
       "      <td>23.0</td>\n",
       "      <td>91.0</td>\n",
       "      <td>71.0</td>\n",
       "      <td>333.0</td>\n",
       "    </tr>\n",
       "    <tr>\n",
       "      <th>7</th>\n",
       "      <td>147373</td>\n",
       "      <td>06/30/2016</td>\n",
       "      <td>NaN</td>\n",
       "      <td>NaN</td>\n",
       "      <td>31.0</td>\n",
       "      <td>NEW YORK</td>\n",
       "      <td>310000000000</td>\n",
       "      <td>NEW YORK COUNTY</td>\n",
       "      <td>ELA</td>\n",
       "      <td>Grade 3 ELA</td>\n",
       "      <td>...</td>\n",
       "      <td>6.0</td>\n",
       "      <td>350.0</td>\n",
       "      <td>16.0</td>\n",
       "      <td>1135.0</td>\n",
       "      <td>53.0</td>\n",
       "      <td>546.0</td>\n",
       "      <td>25.0</td>\n",
       "      <td>94.0</td>\n",
       "      <td>78.0</td>\n",
       "      <td>337.0</td>\n",
       "    </tr>\n",
       "    <tr>\n",
       "      <th>8</th>\n",
       "      <td>147374</td>\n",
       "      <td>06/30/2016</td>\n",
       "      <td>NaN</td>\n",
       "      <td>NaN</td>\n",
       "      <td>31.0</td>\n",
       "      <td>NEW YORK</td>\n",
       "      <td>310000000000</td>\n",
       "      <td>NEW YORK COUNTY</td>\n",
       "      <td>ELA</td>\n",
       "      <td>Grade 3 ELA</td>\n",
       "      <td>...</td>\n",
       "      <td>6.0</td>\n",
       "      <td>38.0</td>\n",
       "      <td>14.0</td>\n",
       "      <td>138.0</td>\n",
       "      <td>51.0</td>\n",
       "      <td>77.0</td>\n",
       "      <td>29.0</td>\n",
       "      <td>94.0</td>\n",
       "      <td>80.0</td>\n",
       "      <td>339.0</td>\n",
       "    </tr>\n",
       "    <tr>\n",
       "      <th>9</th>\n",
       "      <td>147375</td>\n",
       "      <td>06/30/2016</td>\n",
       "      <td>NaN</td>\n",
       "      <td>NaN</td>\n",
       "      <td>31.0</td>\n",
       "      <td>NEW YORK</td>\n",
       "      <td>310000000000</td>\n",
       "      <td>NEW YORK COUNTY</td>\n",
       "      <td>ELA</td>\n",
       "      <td>Grade 3 ELA</td>\n",
       "      <td>...</td>\n",
       "      <td>14.0</td>\n",
       "      <td>2205.0</td>\n",
       "      <td>26.0</td>\n",
       "      <td>3757.0</td>\n",
       "      <td>45.0</td>\n",
       "      <td>1248.0</td>\n",
       "      <td>15.0</td>\n",
       "      <td>86.0</td>\n",
       "      <td>60.0</td>\n",
       "      <td>324.0</td>\n",
       "    </tr>\n",
       "    <tr>\n",
       "      <th>10</th>\n",
       "      <td>147376</td>\n",
       "      <td>06/30/2016</td>\n",
       "      <td>NaN</td>\n",
       "      <td>NaN</td>\n",
       "      <td>31.0</td>\n",
       "      <td>NEW YORK</td>\n",
       "      <td>310000000000</td>\n",
       "      <td>NEW YORK COUNTY</td>\n",
       "      <td>ELA</td>\n",
       "      <td>Grade 3 ELA</td>\n",
       "      <td>...</td>\n",
       "      <td>50.0</td>\n",
       "      <td>593.0</td>\n",
       "      <td>28.0</td>\n",
       "      <td>397.0</td>\n",
       "      <td>19.0</td>\n",
       "      <td>48.0</td>\n",
       "      <td>2.0</td>\n",
       "      <td>50.0</td>\n",
       "      <td>21.0</td>\n",
       "      <td>288.0</td>\n",
       "    </tr>\n",
       "    <tr>\n",
       "      <th>11</th>\n",
       "      <td>147377</td>\n",
       "      <td>06/30/2016</td>\n",
       "      <td>NaN</td>\n",
       "      <td>NaN</td>\n",
       "      <td>31.0</td>\n",
       "      <td>NEW YORK</td>\n",
       "      <td>310000000000</td>\n",
       "      <td>NEW YORK COUNTY</td>\n",
       "      <td>ELA</td>\n",
       "      <td>Grade 3 ELA</td>\n",
       "      <td>...</td>\n",
       "      <td>17.0</td>\n",
       "      <td>2480.0</td>\n",
       "      <td>27.0</td>\n",
       "      <td>4011.0</td>\n",
       "      <td>43.0</td>\n",
       "      <td>1290.0</td>\n",
       "      <td>14.0</td>\n",
       "      <td>83.0</td>\n",
       "      <td>57.0</td>\n",
       "      <td>321.0</td>\n",
       "    </tr>\n",
       "    <tr>\n",
       "      <th>12</th>\n",
       "      <td>147378</td>\n",
       "      <td>06/30/2016</td>\n",
       "      <td>NaN</td>\n",
       "      <td>NaN</td>\n",
       "      <td>31.0</td>\n",
       "      <td>NEW YORK</td>\n",
       "      <td>310000000000</td>\n",
       "      <td>NEW YORK COUNTY</td>\n",
       "      <td>ELA</td>\n",
       "      <td>Grade 3 ELA</td>\n",
       "      <td>...</td>\n",
       "      <td>58.0</td>\n",
       "      <td>318.0</td>\n",
       "      <td>28.0</td>\n",
       "      <td>143.0</td>\n",
       "      <td>13.0</td>\n",
       "      <td>6.0</td>\n",
       "      <td>1.0</td>\n",
       "      <td>42.0</td>\n",
       "      <td>13.0</td>\n",
       "      <td>282.0</td>\n",
       "    </tr>\n",
       "    <tr>\n",
       "      <th>13</th>\n",
       "      <td>147379</td>\n",
       "      <td>06/30/2016</td>\n",
       "      <td>NaN</td>\n",
       "      <td>NaN</td>\n",
       "      <td>31.0</td>\n",
       "      <td>NEW YORK</td>\n",
       "      <td>310000000000</td>\n",
       "      <td>NEW YORK COUNTY</td>\n",
       "      <td>ELA</td>\n",
       "      <td>Grade 3 ELA</td>\n",
       "      <td>...</td>\n",
       "      <td>29.0</td>\n",
       "      <td>2072.0</td>\n",
       "      <td>32.0</td>\n",
       "      <td>2128.0</td>\n",
       "      <td>33.0</td>\n",
       "      <td>332.0</td>\n",
       "      <td>5.0</td>\n",
       "      <td>71.0</td>\n",
       "      <td>39.0</td>\n",
       "      <td>307.0</td>\n",
       "    </tr>\n",
       "    <tr>\n",
       "      <th>14</th>\n",
       "      <td>147380</td>\n",
       "      <td>06/30/2016</td>\n",
       "      <td>NaN</td>\n",
       "      <td>NaN</td>\n",
       "      <td>31.0</td>\n",
       "      <td>NEW YORK</td>\n",
       "      <td>310000000000</td>\n",
       "      <td>NEW YORK COUNTY</td>\n",
       "      <td>ELA</td>\n",
       "      <td>Grade 3 ELA</td>\n",
       "      <td>...</td>\n",
       "      <td>9.0</td>\n",
       "      <td>726.0</td>\n",
       "      <td>18.0</td>\n",
       "      <td>2026.0</td>\n",
       "      <td>50.0</td>\n",
       "      <td>964.0</td>\n",
       "      <td>24.0</td>\n",
       "      <td>91.0</td>\n",
       "      <td>73.0</td>\n",
       "      <td>333.0</td>\n",
       "    </tr>\n",
       "    <tr>\n",
       "      <th>15</th>\n",
       "      <td>147381</td>\n",
       "      <td>06/30/2016</td>\n",
       "      <td>NaN</td>\n",
       "      <td>NaN</td>\n",
       "      <td>31.0</td>\n",
       "      <td>NEW YORK</td>\n",
       "      <td>310000000000</td>\n",
       "      <td>NEW YORK COUNTY</td>\n",
       "      <td>ELA</td>\n",
       "      <td>Grade 3 ELA</td>\n",
       "      <td>...</td>\n",
       "      <td>21.0</td>\n",
       "      <td>2798.0</td>\n",
       "      <td>27.0</td>\n",
       "      <td>4154.0</td>\n",
       "      <td>40.0</td>\n",
       "      <td>1296.0</td>\n",
       "      <td>12.0</td>\n",
       "      <td>79.0</td>\n",
       "      <td>52.0</td>\n",
       "      <td>317.0</td>\n",
       "    </tr>\n",
       "  </tbody>\n",
       "</table>\n",
       "<p>16 rows × 24 columns</p>\n",
       "</div>"
      ],
      "text/plain": [
       "     index SY_END_DATE  NRC_CODE NRC_DESC  COUNTY_CODE COUNTY_DESC  \\\n",
       "0   147366  06/30/2016       NaN      NaN         31.0    NEW YORK   \n",
       "1   147367  06/30/2016       NaN      NaN         31.0    NEW YORK   \n",
       "2   147368  06/30/2016       NaN      NaN         31.0    NEW YORK   \n",
       "3   147369  06/30/2016       NaN      NaN         31.0    NEW YORK   \n",
       "4   147370  06/30/2016       NaN      NaN         31.0    NEW YORK   \n",
       "5   147371  06/30/2016       NaN      NaN         31.0    NEW YORK   \n",
       "6   147372  06/30/2016       NaN      NaN         31.0    NEW YORK   \n",
       "7   147373  06/30/2016       NaN      NaN         31.0    NEW YORK   \n",
       "8   147374  06/30/2016       NaN      NaN         31.0    NEW YORK   \n",
       "9   147375  06/30/2016       NaN      NaN         31.0    NEW YORK   \n",
       "10  147376  06/30/2016       NaN      NaN         31.0    NEW YORK   \n",
       "11  147377  06/30/2016       NaN      NaN         31.0    NEW YORK   \n",
       "12  147378  06/30/2016       NaN      NaN         31.0    NEW YORK   \n",
       "13  147379  06/30/2016       NaN      NaN         31.0    NEW YORK   \n",
       "14  147380  06/30/2016       NaN      NaN         31.0    NEW YORK   \n",
       "15  147381  06/30/2016       NaN      NaN         31.0    NEW YORK   \n",
       "\n",
       "        BEDSCODE             NAME ITEM_SUBJECT_AREA    ITEM_DESC  \\\n",
       "0   310000000000  NEW YORK COUNTY               ELA  Grade 3 ELA   \n",
       "1   310000000000  NEW YORK COUNTY               ELA  Grade 3 ELA   \n",
       "2   310000000000  NEW YORK COUNTY               ELA  Grade 3 ELA   \n",
       "3   310000000000  NEW YORK COUNTY               ELA  Grade 3 ELA   \n",
       "4   310000000000  NEW YORK COUNTY               ELA  Grade 3 ELA   \n",
       "5   310000000000  NEW YORK COUNTY               ELA  Grade 3 ELA   \n",
       "6   310000000000  NEW YORK COUNTY               ELA  Grade 3 ELA   \n",
       "7   310000000000  NEW YORK COUNTY               ELA  Grade 3 ELA   \n",
       "8   310000000000  NEW YORK COUNTY               ELA  Grade 3 ELA   \n",
       "9   310000000000  NEW YORK COUNTY               ELA  Grade 3 ELA   \n",
       "10  310000000000  NEW YORK COUNTY               ELA  Grade 3 ELA   \n",
       "11  310000000000  NEW YORK COUNTY               ELA  Grade 3 ELA   \n",
       "12  310000000000  NEW YORK COUNTY               ELA  Grade 3 ELA   \n",
       "13  310000000000  NEW YORK COUNTY               ELA  Grade 3 ELA   \n",
       "14  310000000000  NEW YORK COUNTY               ELA  Grade 3 ELA   \n",
       "15  310000000000  NEW YORK COUNTY               ELA  Grade 3 ELA   \n",
       "\n",
       "          ...         L1_PCT L2_COUNT  L2_PCT  L3_COUNT  L3_PCT  L4_COUNT  \\\n",
       "0         ...           21.0   2798.0    27.0    4154.0    40.0    1296.0   \n",
       "1         ...           17.0   1330.0    26.0    2174.0    42.0     827.0   \n",
       "2         ...           26.0   1468.0    28.0    1980.0    38.0     469.0   \n",
       "3         ...           33.0     22.0    30.0      25.0    34.0       2.0   \n",
       "4         ...           26.0    691.0    31.0     832.0    37.0     139.0   \n",
       "5         ...           31.0   1442.0    33.0    1395.0    32.0     224.0   \n",
       "6         ...            9.0    255.0    19.0     629.0    48.0     308.0   \n",
       "7         ...            6.0    350.0    16.0    1135.0    53.0     546.0   \n",
       "8         ...            6.0     38.0    14.0     138.0    51.0      77.0   \n",
       "9         ...           14.0   2205.0    26.0    3757.0    45.0    1248.0   \n",
       "10        ...           50.0    593.0    28.0     397.0    19.0      48.0   \n",
       "11        ...           17.0   2480.0    27.0    4011.0    43.0    1290.0   \n",
       "12        ...           58.0    318.0    28.0     143.0    13.0       6.0   \n",
       "13        ...           29.0   2072.0    32.0    2128.0    33.0     332.0   \n",
       "14        ...            9.0    726.0    18.0    2026.0    50.0     964.0   \n",
       "15        ...           21.0   2798.0    27.0    4154.0    40.0    1296.0   \n",
       "\n",
       "    L4_PCT  L2-L4_PCT  L3-L4_PCT  MEAN_SCALE_SCORE  \n",
       "0     12.0       79.0       52.0             317.0  \n",
       "1     16.0       83.0       58.0             322.0  \n",
       "2      9.0       74.0       47.0             312.0  \n",
       "3      3.0       67.0       37.0             302.0  \n",
       "4      6.0       74.0       43.0             310.0  \n",
       "5      5.0       69.0       37.0             305.0  \n",
       "6     23.0       91.0       71.0             333.0  \n",
       "7     25.0       94.0       78.0             337.0  \n",
       "8     29.0       94.0       80.0             339.0  \n",
       "9     15.0       86.0       60.0             324.0  \n",
       "10     2.0       50.0       21.0             288.0  \n",
       "11    14.0       83.0       57.0             321.0  \n",
       "12     1.0       42.0       13.0             282.0  \n",
       "13     5.0       71.0       39.0             307.0  \n",
       "14    24.0       91.0       73.0             333.0  \n",
       "15    12.0       79.0       52.0             317.0  \n",
       "\n",
       "[16 rows x 24 columns]"
      ]
     },
     "execution_count": 29,
     "metadata": {},
     "output_type": "execute_result"
    }
   ],
   "source": [
    "nyc_df.head(16)"
   ]
  },
  {
   "cell_type": "code",
   "execution_count": 30,
   "metadata": {},
   "outputs": [
    {
     "data": {
      "text/plain": [
       "Index(['index', 'SY_END_DATE', 'NRC_CODE', 'NRC_DESC', 'COUNTY_CODE',\n",
       "       'COUNTY_DESC', 'BEDSCODE', 'NAME', 'ITEM_SUBJECT_AREA', 'ITEM_DESC',\n",
       "       'SUBGROUP_CODE', 'SUBGROUP_NAME', 'TOTAL_TESTED', 'L1_COUNT', 'L1_PCT',\n",
       "       'L2_COUNT', 'L2_PCT', 'L3_COUNT', 'L3_PCT', 'L4_COUNT', 'L4_PCT',\n",
       "       'L2-L4_PCT', 'L3-L4_PCT', 'MEAN_SCALE_SCORE'],\n",
       "      dtype='object')"
      ]
     },
     "execution_count": 30,
     "metadata": {},
     "output_type": "execute_result"
    }
   ],
   "source": [
    "nyc_df.columns"
   ]
  },
  {
   "cell_type": "code",
   "execution_count": 31,
   "metadata": {},
   "outputs": [
    {
     "data": {
      "text/plain": [
       "0         317.0\n",
       "1         322.0\n",
       "2         312.0\n",
       "3         302.0\n",
       "4         310.0\n",
       "5         305.0\n",
       "6         333.0\n",
       "7         337.0\n",
       "8         339.0\n",
       "9         324.0\n",
       "10        288.0\n",
       "11        321.0\n",
       "12        282.0\n",
       "13        307.0\n",
       "14        333.0\n",
       "15        317.0\n",
       "16        316.0\n",
       "17        317.0\n",
       "18        315.0\n",
       "19        297.0\n",
       "20        308.0\n",
       "21        301.0\n",
       "22        341.0\n",
       "23        338.0\n",
       "24        343.0\n",
       "25        324.0\n",
       "26        287.0\n",
       "27        320.0\n",
       "28        285.0\n",
       "29        305.0\n",
       "          ...  \n",
       "128737    307.0\n",
       "128738    310.0\n",
       "128739    309.0\n",
       "128740    315.0\n",
       "128741    301.0\n",
       "128742    312.0\n",
       "128743    303.0\n",
       "128744      NaN\n",
       "128745      NaN\n",
       "128746    312.0\n",
       "128747    287.0\n",
       "128748    311.0\n",
       "128749    274.0\n",
       "128750    307.0\n",
       "128751    323.0\n",
       "128752    309.0\n",
       "128753    315.0\n",
       "128754    316.0\n",
       "128755    314.0\n",
       "128756    315.0\n",
       "128757    312.0\n",
       "128758      NaN\n",
       "128759      NaN\n",
       "128760    318.0\n",
       "128761    299.0\n",
       "128762    317.0\n",
       "128763    294.0\n",
       "128764    314.0\n",
       "128765    326.0\n",
       "128766    315.0\n",
       "Name: MEAN_SCALE_SCORE, Length: 128767, dtype: float64"
      ]
     },
     "execution_count": 31,
     "metadata": {},
     "output_type": "execute_result"
    }
   ],
   "source": [
    "nyc_df['MEAN_SCALE_SCORE']"
   ]
  },
  {
   "cell_type": "markdown",
   "metadata": {},
   "source": [
    "Let's take a closer look at the ITEM_SUBJECT_AREA and ITEM_DESC columns (and also SUBGROUP_NAME, just in case). These seem like the kind of things we might like to have in a more machine-readable format (i.e., dummified). Let's start by seeing what the unique values in each are."
   ]
  },
  {
   "cell_type": "code",
   "execution_count": 32,
   "metadata": {},
   "outputs": [
    {
     "data": {
      "text/plain": [
       "array(['ELA', 'Mathematics'], dtype=object)"
      ]
     },
     "execution_count": 32,
     "metadata": {},
     "output_type": "execute_result"
    }
   ],
   "source": [
    "nyc_df['ITEM_SUBJECT_AREA'].unique()"
   ]
  },
  {
   "cell_type": "code",
   "execution_count": 33,
   "metadata": {},
   "outputs": [
    {
     "data": {
      "text/plain": [
       "array(['ELA', 'Mathematics'], dtype=object)"
      ]
     },
     "execution_count": 33,
     "metadata": {},
     "output_type": "execute_result"
    }
   ],
   "source": [
    "state_df['ITEM_SUBJECT_AREA'].unique()"
   ]
  },
  {
   "cell_type": "code",
   "execution_count": 34,
   "metadata": {},
   "outputs": [
    {
     "data": {
      "text/plain": [
       "array(['Grade 3 ELA', 'Grade 3 Math', 'Grade 4 ELA', 'Grade 4 Math',\n",
       "       'Grade 5 ELA', 'Grade 5 Math', 'Grade 6 ELA', 'Grade 6 Math',\n",
       "       'Grade 7 ELA', 'Grade 7 Math', 'Grade 8 ELA', 'Grade 8 Math'], dtype=object)"
      ]
     },
     "execution_count": 34,
     "metadata": {},
     "output_type": "execute_result"
    }
   ],
   "source": [
    "nyc_df['ITEM_DESC'].unique()"
   ]
  },
  {
   "cell_type": "code",
   "execution_count": 35,
   "metadata": {},
   "outputs": [
    {
     "data": {
      "text/plain": [
       "array(['Grade 3 ELA', 'Grade 3 Math', 'Grade 4 ELA', 'Grade 4 Math',\n",
       "       'Grade 5 ELA', 'Grade 5 Math', 'Grade 6 ELA', 'Grade 6 Math',\n",
       "       'Grade 7 ELA', 'Grade 7 Math', 'Grade 8 ELA', 'Grade 8 Math'], dtype=object)"
      ]
     },
     "execution_count": 35,
     "metadata": {},
     "output_type": "execute_result"
    }
   ],
   "source": [
    "state_df['ITEM_DESC'].unique()"
   ]
  },
  {
   "cell_type": "code",
   "execution_count": 36,
   "metadata": {},
   "outputs": [
    {
     "data": {
      "text/plain": [
       "array(['All Students', 'Female', 'Male',\n",
       "       'American Indian or Alaska Native', 'Black or African American',\n",
       "       'Hispanic or Latino', 'Asian or Pacific Islander', 'White',\n",
       "       'Multiracial', 'General Education Students',\n",
       "       'Students with Disabilities', 'Not Limited English Proficient',\n",
       "       'Limited English Proficient', 'Economically Disadvantaged',\n",
       "       'Not Economically Disadvantaged', 'Not Migrant'], dtype=object)"
      ]
     },
     "execution_count": 36,
     "metadata": {},
     "output_type": "execute_result"
    }
   ],
   "source": [
    "nyc_df['SUBGROUP_NAME'].unique()"
   ]
  },
  {
   "cell_type": "code",
   "execution_count": 37,
   "metadata": {},
   "outputs": [
    {
     "data": {
      "text/plain": [
       "0                             All Students\n",
       "1                                   Female\n",
       "2                                     Male\n",
       "3         American Indian or Alaska Native\n",
       "4                Black or African American\n",
       "5                       Hispanic or Latino\n",
       "6                Asian or Pacific Islander\n",
       "7                                    White\n",
       "8                              Multiracial\n",
       "9               General Education Students\n",
       "10              Students with Disabilities\n",
       "11          Not Limited English Proficient\n",
       "12              Limited English Proficient\n",
       "13              Economically Disadvantaged\n",
       "14          Not Economically Disadvantaged\n",
       "15                             Not Migrant\n",
       "16                            All Students\n",
       "17                                  Female\n",
       "18                                    Male\n",
       "19        American Indian or Alaska Native\n",
       "20               Black or African American\n",
       "21                      Hispanic or Latino\n",
       "22               Asian or Pacific Islander\n",
       "23                                   White\n",
       "24                             Multiracial\n",
       "25              General Education Students\n",
       "26              Students with Disabilities\n",
       "27          Not Limited English Proficient\n",
       "28              Limited English Proficient\n",
       "29              Economically Disadvantaged\n",
       "                        ...               \n",
       "128737      Not Economically Disadvantaged\n",
       "128738                         Not Migrant\n",
       "128739                        All Students\n",
       "128740                              Female\n",
       "128741                                Male\n",
       "128742           Black or African American\n",
       "128743                  Hispanic or Latino\n",
       "128744           Asian or Pacific Islander\n",
       "128745                               White\n",
       "128746          General Education Students\n",
       "128747          Students with Disabilities\n",
       "128748      Not Limited English Proficient\n",
       "128749          Limited English Proficient\n",
       "128750          Economically Disadvantaged\n",
       "128751      Not Economically Disadvantaged\n",
       "128752                         Not Migrant\n",
       "128753                        All Students\n",
       "128754                              Female\n",
       "128755                                Male\n",
       "128756           Black or African American\n",
       "128757                  Hispanic or Latino\n",
       "128758           Asian or Pacific Islander\n",
       "128759                               White\n",
       "128760          General Education Students\n",
       "128761          Students with Disabilities\n",
       "128762      Not Limited English Proficient\n",
       "128763          Limited English Proficient\n",
       "128764          Economically Disadvantaged\n",
       "128765      Not Economically Disadvantaged\n",
       "128766                         Not Migrant\n",
       "Name: SUBGROUP_NAME, Length: 128767, dtype: object"
      ]
     },
     "execution_count": 37,
     "metadata": {},
     "output_type": "execute_result"
    }
   ],
   "source": [
    "nyc_df['SUBGROUP_NAME']"
   ]
  },
  {
   "cell_type": "code",
   "execution_count": 38,
   "metadata": {},
   "outputs": [
    {
     "data": {
      "text/plain": [
       "array([ 1,  2,  3,  4,  5,  6,  7,  8,  9, 10, 11, 12, 13, 15, 16, 18])"
      ]
     },
     "execution_count": 38,
     "metadata": {},
     "output_type": "execute_result"
    }
   ],
   "source": [
    "nyc_df['SUBGROUP_CODE'].unique() #this may cause us to not have to dummy this"
   ]
  },
  {
   "cell_type": "code",
   "execution_count": 39,
   "metadata": {},
   "outputs": [
    {
     "data": {
      "text/plain": [
       "16"
      ]
     },
     "execution_count": 39,
     "metadata": {},
     "output_type": "execute_result"
    }
   ],
   "source": [
    "len(nyc_df['SUBGROUP_NAME'].unique())"
   ]
  },
  {
   "cell_type": "code",
   "execution_count": 40,
   "metadata": {},
   "outputs": [
    {
     "data": {
      "text/plain": [
       "16"
      ]
     },
     "execution_count": 40,
     "metadata": {},
     "output_type": "execute_result"
    }
   ],
   "source": [
    "len(nyc_df['SUBGROUP_CODE'].unique())"
   ]
  },
  {
   "cell_type": "markdown",
   "metadata": {},
   "source": [
    "Okay, I think we can get away with leaving the subgroup name be for now, as it looks like there is a unique code per group name. Let's get on with making dummies of the other two."
   ]
  },
  {
   "cell_type": "code",
   "execution_count": 41,
   "metadata": {
    "collapsed": true
   },
   "outputs": [],
   "source": [
    "nyc_subjects=pd.get_dummies(nyc_df['ITEM_SUBJECT_AREA'])\n",
    "nyc_classes=pd.get_dummies(nyc_df['ITEM_DESC'])\n",
    "nyc_df=pd.concat([nyc_df,nyc_subjects,nyc_classes],axis=1)"
   ]
  },
  {
   "cell_type": "code",
   "execution_count": 42,
   "metadata": {
    "collapsed": true
   },
   "outputs": [],
   "source": [
    "state_subjects=pd.get_dummies(state_df['ITEM_SUBJECT_AREA'])\n",
    "state_classes=pd.get_dummies(state_df['ITEM_DESC'])\n",
    "state_df=pd.concat([state_df,state_subjects,state_classes],axis=1)"
   ]
  },
  {
   "cell_type": "code",
   "execution_count": 43,
   "metadata": {},
   "outputs": [
    {
     "data": {
      "text/plain": [
       "0"
      ]
     },
     "execution_count": 43,
     "metadata": {},
     "output_type": "execute_result"
    }
   ],
   "source": [
    "os.system('say \"dummies created and appended\"')"
   ]
  },
  {
   "cell_type": "code",
   "execution_count": 44,
   "metadata": {},
   "outputs": [
    {
     "data": {
      "text/plain": [
       "PS 89                                               266\n",
       "PS 212                                              244\n",
       "PS 150                                              206\n",
       "NEW YORK CITY GEOGRAPHIC DISTRICT # 8               192\n",
       "BRONX COUNTY                                        192\n",
       "NEW YORK CITY GEOGRAPHIC DISTRICT #13               192\n",
       "NEW YORK CITY GEOGRAPHIC DISTRICT #17               192\n",
       "NEW YORK CITY GEOGRAPHIC DISTRICT # 5               192\n",
       "NEW YORK CITY GEOGRAPHIC DISTRICT #24               192\n",
       "NEW YORK CITY GEOGRAPHIC DISTRICT # 3               192\n",
       "RICHMOND COUNTY                                     192\n",
       "NEW YORK CITY GEOGRAPHIC DISTRICT #31               192\n",
       "NEW YORK CITY GEOGRAPHIC DISTRICT #21               192\n",
       "NEW YORK CITY GEOGRAPHIC DISTRICT #20               192\n",
       "NEW YORK CITY GEOGRAPHIC DISTRICT #26               192\n",
       "NEW YORK CITY GEOGRAPHIC DISTRICT #29               192\n",
       "NEW YORK CITY GEOGRAPHIC DISTRICT #25               192\n",
       "NEW YORK CITY GEOGRAPHIC DISTRICT #28               192\n",
       "NEW YORK CITY GEOGRAPHIC DISTRICT # 6               192\n",
       "NEW YORK CITY GEOGRAPHIC DISTRICT #10               192\n",
       "NEW YORK CITY GEOGRAPHIC DISTRICT #15               192\n",
       "NEW YORK CITY GEOGRAPHIC DISTRICT # 2               192\n",
       "NEW YORK CITY GEOGRAPHIC DISTRICT #30               192\n",
       "NEW YORK CITY GEOGRAPHIC DISTRICT #14               192\n",
       "NEW YORK CITY GEOGRAPHIC DISTRICT #11               192\n",
       "NEW YORK CITY GEOGRAPHIC DISTRICT #27               192\n",
       "NEW YORK CITY GEOGRAPHIC DISTRICT # 4               192\n",
       "QUEENS COUNTY                                       192\n",
       "NEW YORK CITY GEOGRAPHIC DISTRICT # 1               192\n",
       "NEW YORK CITY GEOGRAPHIC DISTRICT #22               192\n",
       "                                                   ... \n",
       "PS 7 LOUIS F SIMEONE                                 30\n",
       "PS 130                                               30\n",
       "SUCCESS ACADEMY CHARTER SCHOOL-UNION SQUARE          30\n",
       "SUCCESS ACADEMY CHARTER SCHOOL-BRONX 3               28\n",
       "PS 242 LEONARD P STAVISKY EARLY CHILDHOOD SCHOOL     28\n",
       "CANARSIE ASCEND CHARTER SCHOOL                       28\n",
       "PS 527 EAST SIDE SCHOOL FOR SOCIAL ACTION            28\n",
       "SUCCESS ACADEMY CHARTER SCHOOL-PROSPECT HEIGHTS      28\n",
       "PS 167 PARKWAY (THE)                                 28\n",
       "SOUTH BRONX EARLY COLLEGE ACADEMY CHARTER SCHOOL     28\n",
       "SUCCESS ACADEMY CHARTER SCHOOL-FORT GREENE           28\n",
       "PS 230 DR ROLAND N PATTERSON                         27\n",
       "CITIZENS OF THE WORLD CHARTER SCHOOL NEW YORK 1      27\n",
       "ACTIVE LEARNING ELEMENTARY SCHOOL (THE)              26\n",
       "ACHIEVEMENT FIRST ASPIRE CHARTER SCHOOL              26\n",
       "ACADEMY FOR EXCELLENCE THROUGH THE ARTS (THE)        26\n",
       "PS 64 PURA BELPRE                                    26\n",
       "NEW AMERICAN ACADEMY CHARTER SCHOOL (THE)            26\n",
       "PS 88 S SILVERSTEIN LITTLE SPARROW SCHOOL            25\n",
       "EAST HARLEM SCHOLARS ACADEMY CHARTER SCHOOL II       25\n",
       "CITIZENS OF THE WORLD CHARTER SCHOOL 2               24\n",
       "PS 73 THOMAS S BOYLAND                               24\n",
       "PERFORMANCE SCHOOL                                   24\n",
       "PS 110                                               24\n",
       "PS 174 DUMONT                                        24\n",
       "BRILLA COLLEGE PREPARATORY CHARTER SCHOOL            24\n",
       "SUCCESS ACADEMY CHARTER SCHOOL-CROWN HEIGHTS         22\n",
       "PS 50 CLARA BARTON                                   22\n",
       "SOUTH BRONX CLASSICAL CHARTER SCHOOL II              22\n",
       "CASTLE BRIDGE SCHOOL                                  4\n",
       "Name: NAME, Length: 1326, dtype: int64"
      ]
     },
     "execution_count": 44,
     "metadata": {},
     "output_type": "execute_result"
    }
   ],
   "source": [
    "#A top level survey of what we have here for schools\n",
    "nyc_df['NAME'].value_counts()"
   ]
  },
  {
   "cell_type": "markdown",
   "metadata": {},
   "source": [
    "Okay. So. We can see here that this dataframe contains three classes of rows: by county, by geographic district, and by school. This is the same base dataset bucketed three different ways, which will mess with the statistics, so we should work on separating them. Let's do the by-county rows first."
   ]
  },
  {
   "cell_type": "code",
   "execution_count": 45,
   "metadata": {
    "collapsed": true
   },
   "outputs": [],
   "source": [
    "nyc_counties_full=[0,0,0,0,0]\n",
    "nyc_counties_index=[0,0,0,0,0]\n",
    "nyc_counties_count=[0,0,0,0,0]\n",
    "nyc_counties_enddex=[0,0,0,0,0]\n",
    "nyc_counties_beenseen=[0,0,0,0,0]\n",
    "for i in range(5): \n",
    "    nyc_counties_full[i]=nyc_counties[i]+' COUNTY'"
   ]
  },
  {
   "cell_type": "code",
   "execution_count": 46,
   "metadata": {},
   "outputs": [
    {
     "name": "stdout",
     "output_type": "stream",
     "text": [
      "CPU times: user 7.42 s, sys: 19.9 ms, total: 7.44 s\n",
      "Wall time: 7.45 s\n"
     ]
    }
   ],
   "source": [
    "%%time\n",
    "for j in range(nyc_df.shape[0]):\n",
    "    for k in range(5):\n",
    "        if nyc_df['NAME'][j]==nyc_counties_full[k]:\n",
    "            if nyc_counties_beenseen[k]==0:\n",
    "                nyc_counties_index[k]=j\n",
    "                nyc_counties_beenseen[k]=1\n",
    "            nyc_counties_count[k]+=1\n",
    "for q in range(5):\n",
    "    nyc_counties_enddex[q]=nyc_counties_index[q]+nyc_counties_count[q]"
   ]
  },
  {
   "cell_type": "code",
   "execution_count": 47,
   "metadata": {},
   "outputs": [
    {
     "data": {
      "text/plain": [
       "[0, 24385, 53019, 94864, 122869]"
      ]
     },
     "execution_count": 47,
     "metadata": {},
     "output_type": "execute_result"
    }
   ],
   "source": [
    "nyc_counties_index"
   ]
  },
  {
   "cell_type": "code",
   "execution_count": 48,
   "metadata": {},
   "outputs": [
    {
     "data": {
      "text/plain": [
       "[192, 24577, 53211, 95056, 123061]"
      ]
     },
     "execution_count": 48,
     "metadata": {},
     "output_type": "execute_result"
    }
   ],
   "source": [
    "nyc_counties_enddex"
   ]
  },
  {
   "cell_type": "markdown",
   "metadata": {},
   "source": [
    "Okay, now we have got the indices to make the by-county subframe. Let's do that."
   ]
  },
  {
   "cell_type": "code",
   "execution_count": 49,
   "metadata": {
    "collapsed": true
   },
   "outputs": [],
   "source": [
    "nyc_counties_subframe=pd.concat([nyc_df[:][0:192],nyc_df[:][24385:24577],nyc_df[:][53019:53211],\n",
    "                                nyc_df[:][94864:95056],nyc_df[:][122869:123061]])\n",
    "nyc_counties_subframe.reset_index(inplace=True)"
   ]
  },
  {
   "cell_type": "code",
   "execution_count": 50,
   "metadata": {},
   "outputs": [
    {
     "data": {
      "text/plain": [
       "0"
      ]
     },
     "execution_count": 50,
     "metadata": {},
     "output_type": "execute_result"
    }
   ],
   "source": [
    "os.system('say \"county subframe complete\"')"
   ]
  },
  {
   "cell_type": "markdown",
   "metadata": {},
   "source": [
    "Now I have to figure out how to intelligently/adaptively select all the GEOGRAPHIC DISTRICT rows"
   ]
  },
  {
   "cell_type": "code",
   "execution_count": 51,
   "metadata": {
    "collapsed": true
   },
   "outputs": [],
   "source": [
    "geodist='NEW YORK CITY GEOGRAPHIC DISTRICT'"
   ]
  },
  {
   "cell_type": "code",
   "execution_count": 52,
   "metadata": {
    "collapsed": true
   },
   "outputs": [],
   "source": [
    "unique_names=nyc_df['NAME'].unique()"
   ]
  },
  {
   "cell_type": "code",
   "execution_count": 53,
   "metadata": {
    "collapsed": true
   },
   "outputs": [],
   "source": [
    "unique_districts=[name for name in unique_names if geodist in name]"
   ]
  },
  {
   "cell_type": "code",
   "execution_count": 54,
   "metadata": {},
   "outputs": [
    {
     "data": {
      "text/plain": [
       "['NEW YORK CITY GEOGRAPHIC DISTRICT # 1',\n",
       " 'NEW YORK CITY GEOGRAPHIC DISTRICT # 2',\n",
       " 'NEW YORK CITY GEOGRAPHIC DISTRICT # 3',\n",
       " 'NEW YORK CITY GEOGRAPHIC DISTRICT # 4',\n",
       " 'NEW YORK CITY GEOGRAPHIC DISTRICT # 5',\n",
       " 'NEW YORK CITY GEOGRAPHIC DISTRICT # 6',\n",
       " 'NEW YORK CITY GEOGRAPHIC DISTRICT # 7',\n",
       " 'NEW YORK CITY GEOGRAPHIC DISTRICT # 8',\n",
       " 'NEW YORK CITY GEOGRAPHIC DISTRICT # 9',\n",
       " 'NEW YORK CITY GEOGRAPHIC DISTRICT #10',\n",
       " 'NEW YORK CITY GEOGRAPHIC DISTRICT #11',\n",
       " 'NEW YORK CITY GEOGRAPHIC DISTRICT #12',\n",
       " 'NEW YORK CITY GEOGRAPHIC DISTRICT #13',\n",
       " 'NEW YORK CITY GEOGRAPHIC DISTRICT #14',\n",
       " 'NEW YORK CITY GEOGRAPHIC DISTRICT #15',\n",
       " 'NEW YORK CITY GEOGRAPHIC DISTRICT #16',\n",
       " 'NEW YORK CITY GEOGRAPHIC DISTRICT #17',\n",
       " 'NEW YORK CITY GEOGRAPHIC DISTRICT #18',\n",
       " 'NEW YORK CITY GEOGRAPHIC DISTRICT #19',\n",
       " 'NEW YORK CITY GEOGRAPHIC DISTRICT #20',\n",
       " 'NEW YORK CITY GEOGRAPHIC DISTRICT #21',\n",
       " 'NEW YORK CITY GEOGRAPHIC DISTRICT #22',\n",
       " 'NEW YORK CITY GEOGRAPHIC DISTRICT #23',\n",
       " 'NEW YORK CITY GEOGRAPHIC DISTRICT #32',\n",
       " 'NEW YORK CITY GEOGRAPHIC DISTRICT #24',\n",
       " 'NEW YORK CITY GEOGRAPHIC DISTRICT #25',\n",
       " 'NEW YORK CITY GEOGRAPHIC DISTRICT #26',\n",
       " 'NEW YORK CITY GEOGRAPHIC DISTRICT #27',\n",
       " 'NEW YORK CITY GEOGRAPHIC DISTRICT #28',\n",
       " 'NEW YORK CITY GEOGRAPHIC DISTRICT #29',\n",
       " 'NEW YORK CITY GEOGRAPHIC DISTRICT #30',\n",
       " 'NEW YORK CITY GEOGRAPHIC DISTRICT #31']"
      ]
     },
     "execution_count": 54,
     "metadata": {},
     "output_type": "execute_result"
    }
   ],
   "source": [
    "unique_districts"
   ]
  },
  {
   "cell_type": "code",
   "execution_count": 55,
   "metadata": {},
   "outputs": [
    {
     "data": {
      "text/plain": [
       "32"
      ]
     },
     "execution_count": 55,
     "metadata": {},
     "output_type": "execute_result"
    }
   ],
   "source": [
    "len(unique_districts)"
   ]
  },
  {
   "cell_type": "code",
   "execution_count": 56,
   "metadata": {
    "collapsed": true
   },
   "outputs": [],
   "source": [
    "nyc_districts_index=[0,0,0,0,0,0,0,0,0,0,0,0,0,0,0,0,0,0,0,0,0,0,0,0,0,0,0,0,0,0,0,0]\n",
    "nyc_districts_count=[0,0,0,0,0,0,0,0,0,0,0,0,0,0,0,0,0,0,0,0,0,0,0,0,0,0,0,0,0,0,0,0]\n",
    "nyc_districts_enddex=[0,0,0,0,0,0,0,0,0,0,0,0,0,0,0,0,0,0,0,0,0,0,0,0,0,0,0,0,0,0,0,0]\n",
    "nyc_districts_beenseen=[0,0,0,0,0,0,0,0,0,0,0,0,0,0,0,0,0,0,0,0,0,0,0,0,0,0,0,0,0,0,0,0]"
   ]
  },
  {
   "cell_type": "code",
   "execution_count": 57,
   "metadata": {},
   "outputs": [
    {
     "name": "stdout",
     "output_type": "stream",
     "text": [
      "CPU times: user 44.8 s, sys: 59.4 ms, total: 44.9 s\n",
      "Wall time: 44.9 s\n"
     ]
    }
   ],
   "source": [
    "%%time\n",
    "for j in range(nyc_df.shape[0]):\n",
    "    for k in range(32):\n",
    "        if nyc_df['NAME'][j]==unique_districts[k]:\n",
    "            if nyc_districts_beenseen[k]==0:\n",
    "                nyc_districts_index[k]=j\n",
    "                nyc_districts_beenseen[k]=1\n",
    "            nyc_districts_count[k]+=1\n",
    "for q in range(32):\n",
    "    nyc_districts_enddex[q]=nyc_districts_index[q]+nyc_districts_count[q]"
   ]
  },
  {
   "cell_type": "code",
   "execution_count": 58,
   "metadata": {},
   "outputs": [
    {
     "name": "stdout",
     "output_type": "stream",
     "text": [
      "[192, 3211, 8127, 12478, 16401, 20255, 24577, 28187, 32183, 37819, 43756, 49192, 53211, 56841, 60048, 63794, 66734, 71181, 73896, 77982, 81979, 85608, 89120, 92548, 95056, 99072, 102555, 105200, 110680, 114268, 118395, 123061]\n"
     ]
    }
   ],
   "source": [
    "print(nyc_districts_index)"
   ]
  },
  {
   "cell_type": "code",
   "execution_count": 59,
   "metadata": {},
   "outputs": [
    {
     "name": "stdout",
     "output_type": "stream",
     "text": [
      "[384, 3403, 8319, 12670, 16593, 20447, 24765, 28379, 32375, 38011, 43948, 49380, 53403, 57033, 60240, 63982, 66926, 71371, 74086, 78174, 82171, 85800, 89311, 92738, 95248, 99264, 102747, 105392, 110872, 114460, 118587, 123253]\n"
     ]
    }
   ],
   "source": [
    "print(nyc_districts_enddex)"
   ]
  },
  {
   "cell_type": "code",
   "execution_count": 60,
   "metadata": {
    "collapsed": true
   },
   "outputs": [],
   "source": [
    "nyc_districts_df=nyc_df[:][192:384]"
   ]
  },
  {
   "cell_type": "code",
   "execution_count": 61,
   "metadata": {
    "collapsed": true
   },
   "outputs": [],
   "source": [
    "for i in range(1,32):\n",
    "    nyc_districts_df=pd.concat([nyc_districts_df,nyc_df[:][nyc_districts_index[i]:nyc_districts_enddex[i]]])"
   ]
  },
  {
   "cell_type": "code",
   "execution_count": 62,
   "metadata": {},
   "outputs": [
    {
     "data": {
      "text/plain": [
       "0"
      ]
     },
     "execution_count": 62,
     "metadata": {},
     "output_type": "execute_result"
    }
   ],
   "source": [
    "os.system('say \"geo districts subframe complete\"')"
   ]
  },
  {
   "cell_type": "markdown",
   "metadata": {},
   "source": [
    "Okay, next step is to figure out where and how to slice for the third dataframe. Could get ugly, and likely will."
   ]
  },
  {
   "cell_type": "code",
   "execution_count": 63,
   "metadata": {},
   "outputs": [
    {
     "name": "stdout",
     "output_type": "stream",
     "text": [
      "[0, 24385, 53019, 94864, 122869] [192, 24577, 53211, 95056, 123061]\n"
     ]
    }
   ],
   "source": [
    "print(nyc_counties_index,nyc_counties_enddex) #a refresher"
   ]
  },
  {
   "cell_type": "markdown",
   "metadata": {},
   "source": [
    "That's neat. Looks like the rows for the counties entries are all adjacent to some of the district rows. That should make figuring out the ranges to slice around quite easy. "
   ]
  },
  {
   "cell_type": "code",
   "execution_count": 64,
   "metadata": {
    "collapsed": true
   },
   "outputs": [],
   "source": [
    "nyc_not_sd_index=nyc_districts_index.copy()"
   ]
  },
  {
   "cell_type": "code",
   "execution_count": 65,
   "metadata": {
    "collapsed": true
   },
   "outputs": [],
   "source": [
    "counties_indicator=0\n",
    "for i in range(5):\n",
    "    for j in range(32):\n",
    "        if nyc_districts_index[j]==nyc_counties_enddex[i]:\n",
    "            nyc_not_sd_index[j]=nyc_counties_index[i]"
   ]
  },
  {
   "cell_type": "code",
   "execution_count": 66,
   "metadata": {},
   "outputs": [
    {
     "name": "stdout",
     "output_type": "stream",
     "text": [
      "[192, 3211, 8127, 12478, 16401, 20255, 24577, 28187, 32183, 37819, 43756, 49192, 53211, 56841, 60048, 63794, 66734, 71181, 73896, 77982, 81979, 85608, 89120, 92548, 95056, 99072, 102555, 105200, 110680, 114268, 118395, 123061]\n"
     ]
    }
   ],
   "source": [
    "print(nyc_districts_index)"
   ]
  },
  {
   "cell_type": "code",
   "execution_count": 67,
   "metadata": {},
   "outputs": [
    {
     "name": "stdout",
     "output_type": "stream",
     "text": [
      "[0, 3211, 8127, 12478, 16401, 20255, 24385, 28187, 32183, 37819, 43756, 49192, 53019, 56841, 60048, 63794, 66734, 71181, 73896, 77982, 81979, 85608, 89120, 92548, 94864, 99072, 102555, 105200, 110680, 114268, 118395, 122869]\n"
     ]
    }
   ],
   "source": [
    "print(nyc_not_sd_index)"
   ]
  },
  {
   "cell_type": "code",
   "execution_count": 68,
   "metadata": {},
   "outputs": [
    {
     "name": "stdout",
     "output_type": "stream",
     "text": [
      "[384, 3403, 8319, 12670, 16593, 20447, 24765, 28379, 32375, 38011, 43948, 49380, 53403, 57033, 60240, 63982, 66926, 71371, 74086, 78174, 82171, 85800, 89311, 92738, 95248, 99264, 102747, 105392, 110872, 114460, 118587, 123253]\n"
     ]
    }
   ],
   "source": [
    "print(nyc_districts_enddex)"
   ]
  },
  {
   "cell_type": "code",
   "execution_count": 69,
   "metadata": {},
   "outputs": [
    {
     "name": "stdout",
     "output_type": "stream",
     "text": [
      "Subset from 3403 to 8127 added\n",
      "Subset from 8319 to 12478 added\n",
      "Subset from 12670 to 16401 added\n",
      "Subset from 16593 to 20255 added\n",
      "Subset from 20447 to 24385 added\n",
      "Subset from 24765 to 28187 added\n",
      "Subset from 28379 to 32183 added\n",
      "Subset from 32375 to 37819 added\n",
      "Subset from 38011 to 43756 added\n",
      "Subset from 43948 to 49192 added\n",
      "Subset from 49380 to 53019 added\n",
      "Subset from 53403 to 56841 added\n",
      "Subset from 57033 to 60048 added\n",
      "Subset from 60240 to 63794 added\n",
      "Subset from 63982 to 66734 added\n",
      "Subset from 66926 to 71181 added\n",
      "Subset from 71371 to 73896 added\n",
      "Subset from 74086 to 77982 added\n",
      "Subset from 78174 to 81979 added\n",
      "Subset from 82171 to 85608 added\n",
      "Subset from 85800 to 89120 added\n",
      "Subset from 89311 to 92548 added\n",
      "Subset from 92738 to 94864 added\n",
      "Subset from 95248 to 99072 added\n",
      "Subset from 99264 to 102555 added\n",
      "Subset from 102747 to 105200 added\n",
      "Subset from 105392 to 110680 added\n",
      "Subset from 110872 to 114268 added\n",
      "Subset from 114460 to 118395 added\n",
      "Subset from 118587 to 122869 added\n"
     ]
    }
   ],
   "source": [
    "nyc_others_df=nyc_df[:][nyc_districts_enddex[0]:nyc_not_sd_index[1]]\n",
    "for i in range(1,31):\n",
    "    nyc_others_df=pd.concat([nyc_others_df,nyc_df[:][nyc_districts_enddex[i]:nyc_not_sd_index[i+1]]])\n",
    "    print('Subset from '+str(nyc_districts_enddex[i])+' to '+str(nyc_not_sd_index[i+1])+' added')"
   ]
  },
  {
   "cell_type": "code",
   "execution_count": 70,
   "metadata": {
    "collapsed": true
   },
   "outputs": [],
   "source": [
    "nyc_others_df=pd.concat([nyc_others_df,nyc_df[:][123253:]])\n",
    "nyc_others_df.reset_index(inplace=True)"
   ]
  },
  {
   "cell_type": "code",
   "execution_count": 71,
   "metadata": {},
   "outputs": [
    {
     "data": {
      "text/plain": [
       "0"
      ]
     },
     "execution_count": 71,
     "metadata": {},
     "output_type": "execute_result"
    }
   ],
   "source": [
    "os.system('say \"various and sundry districts subframe complete\"')"
   ]
  },
  {
   "cell_type": "code",
   "execution_count": 72,
   "metadata": {},
   "outputs": [
    {
     "data": {
      "text/plain": [
       "PS 89                                               266\n",
       "PS 212                                              244\n",
       "PS 150                                              206\n",
       "PS 71 ROSE E SCALA                                  186\n",
       "VOICE CHARTER SCHOOL OF NEW YORK                    184\n",
       "PS 184 SHUANG WEN                                   182\n",
       "PS 206 JOSEPH F LAMB                                182\n",
       "PS/IS 187 HUDSON CLIFFS                             182\n",
       "PS/IS 104 FORT HAMILTON SCHOOL (THE)                181\n",
       "PS/IS 295                                           181\n",
       "PS 83 DONALD HERTZ                                  180\n",
       "PS 102 BAYVIEW                                      180\n",
       "PS/MS 138 SUNRISE                                   180\n",
       "PS 124 OSMOND A CHURCH                              180\n",
       "PS/MS 194                                           180\n",
       "STATEN ISLAND SCHOOL OF CIVIC LEADERSHIP            179\n",
       "PS 99 ISAAC ASIMOV                                  178\n",
       "PS 183 DR RICHARD R GREEN                           177\n",
       "PS 8 ROBERT FULTON                                  177\n",
       "PS 95 GRAVESEND (THE)                               176\n",
       "PS 229 DYKER                                        176\n",
       "PS 209 MARGARET MEAD                                176\n",
       "BATTERY PARK CITY SCHOOL                            176\n",
       "JAMES WELDON JOHNSON SCHOOL                         176\n",
       "PS 282 PARK SLOPE                                   176\n",
       "PS/MS 20 PO GEORGE J WERDAN III                     175\n",
       "PS 95 SHEILA MENCHER                                175\n",
       "PS 207 ELIZABETH G LEARY                            175\n",
       "PS/IS 78                                            174\n",
       "PS 225 EILEEN E ZAGLIN (THE)                        174\n",
       "                                                   ... \n",
       "SUCCESS ACADEMY CHARTER SCHOOL-HELL'S KITCHEN        30\n",
       "SUCCESS ACADEMY CHARTER SCHOOL-UNION SQUARE          30\n",
       "MS 839                                               30\n",
       "CANARSIE ASCEND CHARTER SCHOOL                       28\n",
       "PS 167 PARKWAY (THE)                                 28\n",
       "SUCCESS ACADEMY CHARTER SCHOOL-PROSPECT HEIGHTS      28\n",
       "SUCCESS ACADEMY CHARTER SCHOOL-BRONX 3               28\n",
       "PS 242 LEONARD P STAVISKY EARLY CHILDHOOD SCHOOL     28\n",
       "PS 527 EAST SIDE SCHOOL FOR SOCIAL ACTION            28\n",
       "SOUTH BRONX EARLY COLLEGE ACADEMY CHARTER SCHOOL     28\n",
       "SUCCESS ACADEMY CHARTER SCHOOL-FORT GREENE           28\n",
       "PS 230 DR ROLAND N PATTERSON                         27\n",
       "CITIZENS OF THE WORLD CHARTER SCHOOL NEW YORK 1      27\n",
       "ACADEMY FOR EXCELLENCE THROUGH THE ARTS (THE)        26\n",
       "PS 64 PURA BELPRE                                    26\n",
       "ACHIEVEMENT FIRST ASPIRE CHARTER SCHOOL              26\n",
       "ACTIVE LEARNING ELEMENTARY SCHOOL (THE)              26\n",
       "NEW AMERICAN ACADEMY CHARTER SCHOOL (THE)            26\n",
       "PS 88 S SILVERSTEIN LITTLE SPARROW SCHOOL            25\n",
       "EAST HARLEM SCHOLARS ACADEMY CHARTER SCHOOL II       25\n",
       "BRILLA COLLEGE PREPARATORY CHARTER SCHOOL            24\n",
       "PS 73 THOMAS S BOYLAND                               24\n",
       "PS 110                                               24\n",
       "PERFORMANCE SCHOOL                                   24\n",
       "CITIZENS OF THE WORLD CHARTER SCHOOL 2               24\n",
       "PS 174 DUMONT                                        24\n",
       "SUCCESS ACADEMY CHARTER SCHOOL-CROWN HEIGHTS         22\n",
       "SOUTH BRONX CLASSICAL CHARTER SCHOOL II              22\n",
       "PS 50 CLARA BARTON                                   22\n",
       "CASTLE BRIDGE SCHOOL                                  4\n",
       "Name: NAME, Length: 1289, dtype: int64"
      ]
     },
     "execution_count": 72,
     "metadata": {},
     "output_type": "execute_result"
    }
   ],
   "source": [
    "nyc_others_df['NAME'].value_counts()"
   ]
  },
  {
   "cell_type": "markdown",
   "metadata": {
    "collapsed": true
   },
   "source": [
    "Fuck it, here we go."
   ]
  },
  {
   "cell_type": "code",
   "execution_count": 73,
   "metadata": {},
   "outputs": [
    {
     "data": {
      "text/plain": [
       "<matplotlib.axes._subplots.AxesSubplot at 0x10a44f5f8>"
      ]
     },
     "execution_count": 73,
     "metadata": {},
     "output_type": "execute_result"
    },
    {
     "data": {
      "image/png": "[encoded data removed]",
      "text/plain": [
       "<matplotlib.figure.Figure at 0x10a44eeb8>"
      ]
     },
     "metadata": {},
     "output_type": "display_data"
    }
   ],
   "source": [
    "corr_mat=nyc_counties_subframe.corr()\n",
    "sns.set_context(\"poster\")\n",
    "sns.heatmap(corr_mat, \n",
    "            xticklabels=corr_mat.columns.values,\n",
    "            yticklabels=corr_mat.columns.values,robust=True)"
   ]
  },
  {
   "cell_type": "code",
   "execution_count": 74,
   "metadata": {},
   "outputs": [
    {
     "data": {
      "text/plain": [
       "Index(['level_0', 'index', 'SY_END_DATE', 'NRC_CODE', 'NRC_DESC',\n",
       "       'COUNTY_CODE', 'COUNTY_DESC', 'BEDSCODE', 'NAME', 'ITEM_SUBJECT_AREA',\n",
       "       'ITEM_DESC', 'SUBGROUP_CODE', 'SUBGROUP_NAME', 'TOTAL_TESTED',\n",
       "       'L1_COUNT', 'L1_PCT', 'L2_COUNT', 'L2_PCT', 'L3_COUNT', 'L3_PCT',\n",
       "       'L4_COUNT', 'L4_PCT', 'L2-L4_PCT', 'L3-L4_PCT', 'MEAN_SCALE_SCORE',\n",
       "       'ELA', 'Mathematics', 'Grade 3 ELA', 'Grade 3 Math', 'Grade 4 ELA',\n",
       "       'Grade 4 Math', 'Grade 5 ELA', 'Grade 5 Math', 'Grade 6 ELA',\n",
       "       'Grade 6 Math', 'Grade 7 ELA', 'Grade 7 Math', 'Grade 8 ELA',\n",
       "       'Grade 8 Math'],\n",
       "      dtype='object')"
      ]
     },
     "execution_count": 74,
     "metadata": {},
     "output_type": "execute_result"
    }
   ],
   "source": [
    "nyc_counties_subframe.columns"
   ]
  },
  {
   "cell_type": "code",
   "execution_count": 75,
   "metadata": {},
   "outputs": [
    {
     "data": {
      "text/plain": [
       "0"
      ]
     },
     "execution_count": 75,
     "metadata": {},
     "output_type": "execute_result"
    }
   ],
   "source": [
    "os.system('say \"your computer has not melted\"')"
   ]
  },
  {
   "cell_type": "code",
   "execution_count": 76,
   "metadata": {},
   "outputs": [
    {
     "data": {
      "text/plain": [
       "(121682, 39)"
      ]
     },
     "execution_count": 76,
     "metadata": {},
     "output_type": "execute_result"
    }
   ],
   "source": [
    "nyc_others_df.shape"
   ]
  },
  {
   "cell_type": "code",
   "execution_count": 77,
   "metadata": {},
   "outputs": [
    {
     "data": {
      "text/html": [
       "<div>\n",
       "<style>\n",
       "    .dataframe thead tr:only-child th {\n",
       "        text-align: right;\n",
       "    }\n",
       "\n",
       "    .dataframe thead th {\n",
       "        text-align: left;\n",
       "    }\n",
       "\n",
       "    .dataframe tbody tr th {\n",
       "        vertical-align: top;\n",
       "    }\n",
       "</style>\n",
       "<table border=\"1\" class=\"dataframe\">\n",
       "  <thead>\n",
       "    <tr style=\"text-align: right;\">\n",
       "      <th></th>\n",
       "      <th>level_0</th>\n",
       "      <th>index</th>\n",
       "      <th>SY_END_DATE</th>\n",
       "      <th>NRC_CODE</th>\n",
       "      <th>NRC_DESC</th>\n",
       "      <th>COUNTY_CODE</th>\n",
       "      <th>COUNTY_DESC</th>\n",
       "      <th>BEDSCODE</th>\n",
       "      <th>NAME</th>\n",
       "      <th>ITEM_SUBJECT_AREA</th>\n",
       "      <th>ITEM_DESC</th>\n",
       "      <th>SUBGROUP_CODE</th>\n",
       "      <th>SUBGROUP_NAME</th>\n",
       "      <th>TOTAL_TESTED</th>\n",
       "      <th>L1_COUNT</th>\n",
       "      <th>L1_PCT</th>\n",
       "      <th>L2_COUNT</th>\n",
       "      <th>L2_PCT</th>\n",
       "      <th>L3_COUNT</th>\n",
       "      <th>L3_PCT</th>\n",
       "      <th>L4_COUNT</th>\n",
       "      <th>L4_PCT</th>\n",
       "      <th>L2-L4_PCT</th>\n",
       "      <th>L3-L4_PCT</th>\n",
       "      <th>MEAN_SCALE_SCORE</th>\n",
       "      <th>ELA</th>\n",
       "      <th>Mathematics</th>\n",
       "      <th>Grade 3 ELA</th>\n",
       "      <th>Grade 3 Math</th>\n",
       "      <th>Grade 4 ELA</th>\n",
       "      <th>Grade 4 Math</th>\n",
       "      <th>Grade 5 ELA</th>\n",
       "      <th>Grade 5 Math</th>\n",
       "      <th>Grade 6 ELA</th>\n",
       "      <th>Grade 6 Math</th>\n",
       "      <th>Grade 7 ELA</th>\n",
       "      <th>Grade 7 Math</th>\n",
       "      <th>Grade 8 ELA</th>\n",
       "      <th>Grade 8 Math</th>\n",
       "    </tr>\n",
       "  </thead>\n",
       "  <tbody>\n",
       "    <tr>\n",
       "      <th>0</th>\n",
       "      <td>384</td>\n",
       "      <td>147750</td>\n",
       "      <td>06/30/2016</td>\n",
       "      <td>1.0</td>\n",
       "      <td>NYC</td>\n",
       "      <td>31.0</td>\n",
       "      <td>NEW YORK</td>\n",
       "      <td>310100010015</td>\n",
       "      <td>PS 15 ROBERTO CLEMENTE</td>\n",
       "      <td>ELA</td>\n",
       "      <td>Grade 3 ELA</td>\n",
       "      <td>1</td>\n",
       "      <td>All Students</td>\n",
       "      <td>20.0</td>\n",
       "      <td>10.0</td>\n",
       "      <td>50.0</td>\n",
       "      <td>6.0</td>\n",
       "      <td>30.0</td>\n",
       "      <td>4.0</td>\n",
       "      <td>20.0</td>\n",
       "      <td>0.0</td>\n",
       "      <td>0.0</td>\n",
       "      <td>50.0</td>\n",
       "      <td>20.0</td>\n",
       "      <td>293.0</td>\n",
       "      <td>1</td>\n",
       "      <td>0</td>\n",
       "      <td>1</td>\n",
       "      <td>0</td>\n",
       "      <td>0</td>\n",
       "      <td>0</td>\n",
       "      <td>0</td>\n",
       "      <td>0</td>\n",
       "      <td>0</td>\n",
       "      <td>0</td>\n",
       "      <td>0</td>\n",
       "      <td>0</td>\n",
       "      <td>0</td>\n",
       "      <td>0</td>\n",
       "    </tr>\n",
       "    <tr>\n",
       "      <th>1</th>\n",
       "      <td>385</td>\n",
       "      <td>147751</td>\n",
       "      <td>06/30/2016</td>\n",
       "      <td>1.0</td>\n",
       "      <td>NYC</td>\n",
       "      <td>31.0</td>\n",
       "      <td>NEW YORK</td>\n",
       "      <td>310100010015</td>\n",
       "      <td>PS 15 ROBERTO CLEMENTE</td>\n",
       "      <td>ELA</td>\n",
       "      <td>Grade 3 ELA</td>\n",
       "      <td>2</td>\n",
       "      <td>Female</td>\n",
       "      <td>15.0</td>\n",
       "      <td>7.0</td>\n",
       "      <td>47.0</td>\n",
       "      <td>4.0</td>\n",
       "      <td>27.0</td>\n",
       "      <td>4.0</td>\n",
       "      <td>27.0</td>\n",
       "      <td>0.0</td>\n",
       "      <td>0.0</td>\n",
       "      <td>53.0</td>\n",
       "      <td>27.0</td>\n",
       "      <td>293.0</td>\n",
       "      <td>1</td>\n",
       "      <td>0</td>\n",
       "      <td>1</td>\n",
       "      <td>0</td>\n",
       "      <td>0</td>\n",
       "      <td>0</td>\n",
       "      <td>0</td>\n",
       "      <td>0</td>\n",
       "      <td>0</td>\n",
       "      <td>0</td>\n",
       "      <td>0</td>\n",
       "      <td>0</td>\n",
       "      <td>0</td>\n",
       "      <td>0</td>\n",
       "    </tr>\n",
       "    <tr>\n",
       "      <th>2</th>\n",
       "      <td>386</td>\n",
       "      <td>147752</td>\n",
       "      <td>06/30/2016</td>\n",
       "      <td>1.0</td>\n",
       "      <td>NYC</td>\n",
       "      <td>31.0</td>\n",
       "      <td>NEW YORK</td>\n",
       "      <td>310100010015</td>\n",
       "      <td>PS 15 ROBERTO CLEMENTE</td>\n",
       "      <td>ELA</td>\n",
       "      <td>Grade 3 ELA</td>\n",
       "      <td>3</td>\n",
       "      <td>Male</td>\n",
       "      <td>5.0</td>\n",
       "      <td>3.0</td>\n",
       "      <td>60.0</td>\n",
       "      <td>2.0</td>\n",
       "      <td>40.0</td>\n",
       "      <td>0.0</td>\n",
       "      <td>0.0</td>\n",
       "      <td>0.0</td>\n",
       "      <td>0.0</td>\n",
       "      <td>40.0</td>\n",
       "      <td>0.0</td>\n",
       "      <td>290.0</td>\n",
       "      <td>1</td>\n",
       "      <td>0</td>\n",
       "      <td>1</td>\n",
       "      <td>0</td>\n",
       "      <td>0</td>\n",
       "      <td>0</td>\n",
       "      <td>0</td>\n",
       "      <td>0</td>\n",
       "      <td>0</td>\n",
       "      <td>0</td>\n",
       "      <td>0</td>\n",
       "      <td>0</td>\n",
       "      <td>0</td>\n",
       "      <td>0</td>\n",
       "    </tr>\n",
       "    <tr>\n",
       "      <th>3</th>\n",
       "      <td>387</td>\n",
       "      <td>147753</td>\n",
       "      <td>06/30/2016</td>\n",
       "      <td>1.0</td>\n",
       "      <td>NYC</td>\n",
       "      <td>31.0</td>\n",
       "      <td>NEW YORK</td>\n",
       "      <td>310100010015</td>\n",
       "      <td>PS 15 ROBERTO CLEMENTE</td>\n",
       "      <td>ELA</td>\n",
       "      <td>Grade 3 ELA</td>\n",
       "      <td>5</td>\n",
       "      <td>Black or African American</td>\n",
       "      <td>NaN</td>\n",
       "      <td>NaN</td>\n",
       "      <td>NaN</td>\n",
       "      <td>NaN</td>\n",
       "      <td>NaN</td>\n",
       "      <td>NaN</td>\n",
       "      <td>NaN</td>\n",
       "      <td>NaN</td>\n",
       "      <td>NaN</td>\n",
       "      <td>NaN</td>\n",
       "      <td>NaN</td>\n",
       "      <td>NaN</td>\n",
       "      <td>1</td>\n",
       "      <td>0</td>\n",
       "      <td>1</td>\n",
       "      <td>0</td>\n",
       "      <td>0</td>\n",
       "      <td>0</td>\n",
       "      <td>0</td>\n",
       "      <td>0</td>\n",
       "      <td>0</td>\n",
       "      <td>0</td>\n",
       "      <td>0</td>\n",
       "      <td>0</td>\n",
       "      <td>0</td>\n",
       "      <td>0</td>\n",
       "    </tr>\n",
       "    <tr>\n",
       "      <th>4</th>\n",
       "      <td>388</td>\n",
       "      <td>147754</td>\n",
       "      <td>06/30/2016</td>\n",
       "      <td>1.0</td>\n",
       "      <td>NYC</td>\n",
       "      <td>31.0</td>\n",
       "      <td>NEW YORK</td>\n",
       "      <td>310100010015</td>\n",
       "      <td>PS 15 ROBERTO CLEMENTE</td>\n",
       "      <td>ELA</td>\n",
       "      <td>Grade 3 ELA</td>\n",
       "      <td>6</td>\n",
       "      <td>Hispanic or Latino</td>\n",
       "      <td>13.0</td>\n",
       "      <td>7.0</td>\n",
       "      <td>54.0</td>\n",
       "      <td>4.0</td>\n",
       "      <td>31.0</td>\n",
       "      <td>2.0</td>\n",
       "      <td>15.0</td>\n",
       "      <td>0.0</td>\n",
       "      <td>0.0</td>\n",
       "      <td>46.0</td>\n",
       "      <td>15.0</td>\n",
       "      <td>291.0</td>\n",
       "      <td>1</td>\n",
       "      <td>0</td>\n",
       "      <td>1</td>\n",
       "      <td>0</td>\n",
       "      <td>0</td>\n",
       "      <td>0</td>\n",
       "      <td>0</td>\n",
       "      <td>0</td>\n",
       "      <td>0</td>\n",
       "      <td>0</td>\n",
       "      <td>0</td>\n",
       "      <td>0</td>\n",
       "      <td>0</td>\n",
       "      <td>0</td>\n",
       "    </tr>\n",
       "  </tbody>\n",
       "</table>\n",
       "</div>"
      ],
      "text/plain": [
       "   level_0   index SY_END_DATE  NRC_CODE NRC_DESC  COUNTY_CODE COUNTY_DESC  \\\n",
       "0      384  147750  06/30/2016       1.0      NYC         31.0    NEW YORK   \n",
       "1      385  147751  06/30/2016       1.0      NYC         31.0    NEW YORK   \n",
       "2      386  147752  06/30/2016       1.0      NYC         31.0    NEW YORK   \n",
       "3      387  147753  06/30/2016       1.0      NYC         31.0    NEW YORK   \n",
       "4      388  147754  06/30/2016       1.0      NYC         31.0    NEW YORK   \n",
       "\n",
       "       BEDSCODE                    NAME ITEM_SUBJECT_AREA    ITEM_DESC  \\\n",
       "0  310100010015  PS 15 ROBERTO CLEMENTE               ELA  Grade 3 ELA   \n",
       "1  310100010015  PS 15 ROBERTO CLEMENTE               ELA  Grade 3 ELA   \n",
       "2  310100010015  PS 15 ROBERTO CLEMENTE               ELA  Grade 3 ELA   \n",
       "3  310100010015  PS 15 ROBERTO CLEMENTE               ELA  Grade 3 ELA   \n",
       "4  310100010015  PS 15 ROBERTO CLEMENTE               ELA  Grade 3 ELA   \n",
       "\n",
       "   SUBGROUP_CODE              SUBGROUP_NAME  TOTAL_TESTED  L1_COUNT  L1_PCT  \\\n",
       "0              1               All Students          20.0      10.0    50.0   \n",
       "1              2                     Female          15.0       7.0    47.0   \n",
       "2              3                       Male           5.0       3.0    60.0   \n",
       "3              5  Black or African American           NaN       NaN     NaN   \n",
       "4              6         Hispanic or Latino          13.0       7.0    54.0   \n",
       "\n",
       "   L2_COUNT  L2_PCT  L3_COUNT  L3_PCT  L4_COUNT  L4_PCT  L2-L4_PCT  L3-L4_PCT  \\\n",
       "0       6.0    30.0       4.0    20.0       0.0     0.0       50.0       20.0   \n",
       "1       4.0    27.0       4.0    27.0       0.0     0.0       53.0       27.0   \n",
       "2       2.0    40.0       0.0     0.0       0.0     0.0       40.0        0.0   \n",
       "3       NaN     NaN       NaN     NaN       NaN     NaN        NaN        NaN   \n",
       "4       4.0    31.0       2.0    15.0       0.0     0.0       46.0       15.0   \n",
       "\n",
       "   MEAN_SCALE_SCORE  ELA  Mathematics  Grade 3 ELA  Grade 3 Math  Grade 4 ELA  \\\n",
       "0             293.0    1            0            1             0            0   \n",
       "1             293.0    1            0            1             0            0   \n",
       "2             290.0    1            0            1             0            0   \n",
       "3               NaN    1            0            1             0            0   \n",
       "4             291.0    1            0            1             0            0   \n",
       "\n",
       "   Grade 4 Math  Grade 5 ELA  Grade 5 Math  Grade 6 ELA  Grade 6 Math  \\\n",
       "0             0            0             0            0             0   \n",
       "1             0            0             0            0             0   \n",
       "2             0            0             0            0             0   \n",
       "3             0            0             0            0             0   \n",
       "4             0            0             0            0             0   \n",
       "\n",
       "   Grade 7 ELA  Grade 7 Math  Grade 8 ELA  Grade 8 Math  \n",
       "0            0             0            0             0  \n",
       "1            0             0            0             0  \n",
       "2            0             0            0             0  \n",
       "3            0             0            0             0  \n",
       "4            0             0            0             0  "
      ]
     },
     "execution_count": 77,
     "metadata": {},
     "output_type": "execute_result"
    }
   ],
   "source": [
    "pd.options.display.max_columns=39\n",
    "nyc_others_df.head()"
   ]
  },
  {
   "cell_type": "code",
   "execution_count": 78,
   "metadata": {},
   "outputs": [
    {
     "name": "stdout",
     "output_type": "stream",
     "text": [
      "['School Name', 'Test Type', 'All Students', 'Female', 'Male', 'American Indian or Alaska Native', 'Black or African American', 'Hispanic or Latino', 'Asian or Pacific Islander', 'White', 'Multiracial', 'General Education Students', 'Students with Disabilities', 'Not Limited English Proficient', 'Limited English Proficient', 'Economically Disadvantaged', 'Not Economically Disadvantaged', 'Not Migrant']\n"
     ]
    }
   ],
   "source": [
    "demo_cats=nyc_df['SUBGROUP_NAME'].unique()\n",
    "to_columns=['School Name','Test Type']\n",
    "for i in range(len(demo_cats)):\n",
    "    to_columns.append(demo_cats[i])\n",
    "print(to_columns)\n",
    "nyc_schools_transformed=pd.DataFrame(columns=to_columns)"
   ]
  },
  {
   "cell_type": "code",
   "execution_count": 79,
   "metadata": {},
   "outputs": [
    {
     "data": {
      "text/plain": [
       "Index(['School Name', 'Test Type', 'All Students', 'Female', 'Male',\n",
       "       'American Indian or Alaska Native', 'Black or African American',\n",
       "       'Hispanic or Latino', 'Asian or Pacific Islander', 'White',\n",
       "       'Multiracial', 'General Education Students',\n",
       "       'Students with Disabilities', 'Not Limited English Proficient',\n",
       "       'Limited English Proficient', 'Economically Disadvantaged',\n",
       "       'Not Economically Disadvantaged', 'Not Migrant'],\n",
       "      dtype='object')"
      ]
     },
     "execution_count": 79,
     "metadata": {},
     "output_type": "execute_result"
    }
   ],
   "source": [
    "nyc_schools_transformed.columns"
   ]
  },
  {
   "cell_type": "code",
   "execution_count": 80,
   "metadata": {},
   "outputs": [
    {
     "data": {
      "text/plain": [
       "PS 89                                               266\n",
       "PS 212                                              244\n",
       "PS 150                                              206\n",
       "PS 71 ROSE E SCALA                                  186\n",
       "VOICE CHARTER SCHOOL OF NEW YORK                    184\n",
       "PS 184 SHUANG WEN                                   182\n",
       "PS 206 JOSEPH F LAMB                                182\n",
       "PS/IS 187 HUDSON CLIFFS                             182\n",
       "PS/IS 104 FORT HAMILTON SCHOOL (THE)                181\n",
       "PS/IS 295                                           181\n",
       "PS 83 DONALD HERTZ                                  180\n",
       "PS 102 BAYVIEW                                      180\n",
       "PS/MS 138 SUNRISE                                   180\n",
       "PS 124 OSMOND A CHURCH                              180\n",
       "PS/MS 194                                           180\n",
       "STATEN ISLAND SCHOOL OF CIVIC LEADERSHIP            179\n",
       "PS 99 ISAAC ASIMOV                                  178\n",
       "PS 183 DR RICHARD R GREEN                           177\n",
       "PS 8 ROBERT FULTON                                  177\n",
       "PS 95 GRAVESEND (THE)                               176\n",
       "PS 229 DYKER                                        176\n",
       "PS 209 MARGARET MEAD                                176\n",
       "BATTERY PARK CITY SCHOOL                            176\n",
       "JAMES WELDON JOHNSON SCHOOL                         176\n",
       "PS 282 PARK SLOPE                                   176\n",
       "PS/MS 20 PO GEORGE J WERDAN III                     175\n",
       "PS 95 SHEILA MENCHER                                175\n",
       "PS 207 ELIZABETH G LEARY                            175\n",
       "PS/IS 78                                            174\n",
       "PS 225 EILEEN E ZAGLIN (THE)                        174\n",
       "                                                   ... \n",
       "SUCCESS ACADEMY CHARTER SCHOOL-HELL'S KITCHEN        30\n",
       "SUCCESS ACADEMY CHARTER SCHOOL-UNION SQUARE          30\n",
       "MS 839                                               30\n",
       "CANARSIE ASCEND CHARTER SCHOOL                       28\n",
       "PS 167 PARKWAY (THE)                                 28\n",
       "SUCCESS ACADEMY CHARTER SCHOOL-PROSPECT HEIGHTS      28\n",
       "SUCCESS ACADEMY CHARTER SCHOOL-BRONX 3               28\n",
       "PS 242 LEONARD P STAVISKY EARLY CHILDHOOD SCHOOL     28\n",
       "PS 527 EAST SIDE SCHOOL FOR SOCIAL ACTION            28\n",
       "SOUTH BRONX EARLY COLLEGE ACADEMY CHARTER SCHOOL     28\n",
       "SUCCESS ACADEMY CHARTER SCHOOL-FORT GREENE           28\n",
       "PS 230 DR ROLAND N PATTERSON                         27\n",
       "CITIZENS OF THE WORLD CHARTER SCHOOL NEW YORK 1      27\n",
       "ACADEMY FOR EXCELLENCE THROUGH THE ARTS (THE)        26\n",
       "PS 64 PURA BELPRE                                    26\n",
       "ACHIEVEMENT FIRST ASPIRE CHARTER SCHOOL              26\n",
       "ACTIVE LEARNING ELEMENTARY SCHOOL (THE)              26\n",
       "NEW AMERICAN ACADEMY CHARTER SCHOOL (THE)            26\n",
       "PS 88 S SILVERSTEIN LITTLE SPARROW SCHOOL            25\n",
       "EAST HARLEM SCHOLARS ACADEMY CHARTER SCHOOL II       25\n",
       "BRILLA COLLEGE PREPARATORY CHARTER SCHOOL            24\n",
       "PS 73 THOMAS S BOYLAND                               24\n",
       "PS 110                                               24\n",
       "PERFORMANCE SCHOOL                                   24\n",
       "CITIZENS OF THE WORLD CHARTER SCHOOL 2               24\n",
       "PS 174 DUMONT                                        24\n",
       "SUCCESS ACADEMY CHARTER SCHOOL-CROWN HEIGHTS         22\n",
       "SOUTH BRONX CLASSICAL CHARTER SCHOOL II              22\n",
       "PS 50 CLARA BARTON                                   22\n",
       "CASTLE BRIDGE SCHOOL                                  4\n",
       "Name: NAME, Length: 1289, dtype: int64"
      ]
     },
     "execution_count": 80,
     "metadata": {},
     "output_type": "execute_result"
    }
   ],
   "source": [
    "nyc_others_df['NAME'].value_counts()"
   ]
  },
  {
   "cell_type": "markdown",
   "metadata": {},
   "source": [
    "I had hoped this would lead me to a list of how many rows each school had, but alas it looks like I'm going to have to brute force this as well."
   ]
  },
  {
   "cell_type": "code",
   "execution_count": 81,
   "metadata": {
    "collapsed": true
   },
   "outputs": [],
   "source": [
    "school_names=nyc_others_df['NAME'].unique()\n",
    "school_been_seen=np.zeros(len(school_names))\n",
    "school_counts=np.zeros(len(school_names))"
   ]
  },
  {
   "cell_type": "code",
   "execution_count": 82,
   "metadata": {},
   "outputs": [
    {
     "name": "stdout",
     "output_type": "stream",
     "text": [
      "CPU times: user 29min 20s, sys: 3.09 s, total: 29min 23s\n",
      "Wall time: 29min 25s\n"
     ]
    }
   ],
   "source": [
    "# %%time\n",
    "# for j in range(nyc_others_df.shape[0]):\n",
    "#     for k in range(len(school_names)):\n",
    "#         if nyc_others_df['NAME'][j]==school_names[k]:\n",
    "#             if school_been_seen[k]==0:\n",
    "#                 school_been_seen[k]=1\n",
    "#             school_counts[k]+=1"
   ]
  },
  {
   "cell_type": "code",
   "execution_count": 83,
   "metadata": {},
   "outputs": [
    {
     "data": {
      "text/plain": [
       "0"
      ]
     },
     "execution_count": 83,
     "metadata": {},
     "output_type": "execute_result"
    }
   ],
   "source": [
    "os.system('say \"thirty minute cell has run\"')"
   ]
  },
  {
   "cell_type": "code",
   "execution_count": 84,
   "metadata": {},
   "outputs": [
    {
     "data": {
      "text/plain": [
       "array([ 76.,  86.,  90., ...,  91.,  86.,  84.])"
      ]
     },
     "execution_count": 84,
     "metadata": {},
     "output_type": "execute_result"
    }
   ],
   "source": [
    "school_counts"
   ]
  },
  {
   "cell_type": "code",
   "execution_count": 85,
   "metadata": {},
   "outputs": [
    {
     "data": {
      "text/plain": [
       "array(['PS 15 ROBERTO CLEMENTE', 'PS 19 ASHER LEVY', 'PS 20 ANNA SILVER',\n",
       "       ..., 'JOHN W LAVELLE PREPARATORY CHARTER SCHOOL',\n",
       "       'STATEN ISLAND COMMUNITY CHARTER SCHOOL',\n",
       "       'NEW WORLD PREPARATORY CHARTER SCHOOL'], dtype=object)"
      ]
     },
     "execution_count": 85,
     "metadata": {},
     "output_type": "execute_result"
    }
   ],
   "source": [
    "school_names"
   ]
  },
  {
   "cell_type": "code",
   "execution_count": 86,
   "metadata": {},
   "outputs": [
    {
     "data": {
      "text/html": [
       "<div>\n",
       "<style>\n",
       "    .dataframe thead tr:only-child th {\n",
       "        text-align: right;\n",
       "    }\n",
       "\n",
       "    .dataframe thead th {\n",
       "        text-align: left;\n",
       "    }\n",
       "\n",
       "    .dataframe tbody tr th {\n",
       "        vertical-align: top;\n",
       "    }\n",
       "</style>\n",
       "<table border=\"1\" class=\"dataframe\">\n",
       "  <thead>\n",
       "    <tr style=\"text-align: right;\">\n",
       "      <th></th>\n",
       "      <th>level_0</th>\n",
       "      <th>index</th>\n",
       "      <th>SY_END_DATE</th>\n",
       "      <th>NRC_CODE</th>\n",
       "      <th>NRC_DESC</th>\n",
       "      <th>COUNTY_CODE</th>\n",
       "      <th>COUNTY_DESC</th>\n",
       "      <th>BEDSCODE</th>\n",
       "      <th>NAME</th>\n",
       "      <th>ITEM_SUBJECT_AREA</th>\n",
       "      <th>ITEM_DESC</th>\n",
       "      <th>SUBGROUP_CODE</th>\n",
       "      <th>SUBGROUP_NAME</th>\n",
       "      <th>TOTAL_TESTED</th>\n",
       "      <th>L1_COUNT</th>\n",
       "      <th>L1_PCT</th>\n",
       "      <th>L2_COUNT</th>\n",
       "      <th>L2_PCT</th>\n",
       "      <th>L3_COUNT</th>\n",
       "      <th>L3_PCT</th>\n",
       "      <th>L4_COUNT</th>\n",
       "      <th>L4_PCT</th>\n",
       "      <th>L2-L4_PCT</th>\n",
       "      <th>L3-L4_PCT</th>\n",
       "      <th>MEAN_SCALE_SCORE</th>\n",
       "      <th>ELA</th>\n",
       "      <th>Mathematics</th>\n",
       "      <th>Grade 3 ELA</th>\n",
       "      <th>Grade 3 Math</th>\n",
       "      <th>Grade 4 ELA</th>\n",
       "      <th>Grade 4 Math</th>\n",
       "      <th>Grade 5 ELA</th>\n",
       "      <th>Grade 5 Math</th>\n",
       "      <th>Grade 6 ELA</th>\n",
       "      <th>Grade 6 Math</th>\n",
       "      <th>Grade 7 ELA</th>\n",
       "      <th>Grade 7 Math</th>\n",
       "      <th>Grade 8 ELA</th>\n",
       "      <th>Grade 8 Math</th>\n",
       "    </tr>\n",
       "  </thead>\n",
       "  <tbody>\n",
       "    <tr>\n",
       "      <th>0</th>\n",
       "      <td>384</td>\n",
       "      <td>147750</td>\n",
       "      <td>06/30/2016</td>\n",
       "      <td>1.0</td>\n",
       "      <td>NYC</td>\n",
       "      <td>31.0</td>\n",
       "      <td>NEW YORK</td>\n",
       "      <td>310100010015</td>\n",
       "      <td>PS 15 ROBERTO CLEMENTE</td>\n",
       "      <td>ELA</td>\n",
       "      <td>Grade 3 ELA</td>\n",
       "      <td>1</td>\n",
       "      <td>All Students</td>\n",
       "      <td>20.0</td>\n",
       "      <td>10.0</td>\n",
       "      <td>50.0</td>\n",
       "      <td>6.0</td>\n",
       "      <td>30.0</td>\n",
       "      <td>4.0</td>\n",
       "      <td>20.0</td>\n",
       "      <td>0.0</td>\n",
       "      <td>0.0</td>\n",
       "      <td>50.0</td>\n",
       "      <td>20.0</td>\n",
       "      <td>293.0</td>\n",
       "      <td>1</td>\n",
       "      <td>0</td>\n",
       "      <td>1</td>\n",
       "      <td>0</td>\n",
       "      <td>0</td>\n",
       "      <td>0</td>\n",
       "      <td>0</td>\n",
       "      <td>0</td>\n",
       "      <td>0</td>\n",
       "      <td>0</td>\n",
       "      <td>0</td>\n",
       "      <td>0</td>\n",
       "      <td>0</td>\n",
       "      <td>0</td>\n",
       "    </tr>\n",
       "    <tr>\n",
       "      <th>1</th>\n",
       "      <td>385</td>\n",
       "      <td>147751</td>\n",
       "      <td>06/30/2016</td>\n",
       "      <td>1.0</td>\n",
       "      <td>NYC</td>\n",
       "      <td>31.0</td>\n",
       "      <td>NEW YORK</td>\n",
       "      <td>310100010015</td>\n",
       "      <td>PS 15 ROBERTO CLEMENTE</td>\n",
       "      <td>ELA</td>\n",
       "      <td>Grade 3 ELA</td>\n",
       "      <td>2</td>\n",
       "      <td>Female</td>\n",
       "      <td>15.0</td>\n",
       "      <td>7.0</td>\n",
       "      <td>47.0</td>\n",
       "      <td>4.0</td>\n",
       "      <td>27.0</td>\n",
       "      <td>4.0</td>\n",
       "      <td>27.0</td>\n",
       "      <td>0.0</td>\n",
       "      <td>0.0</td>\n",
       "      <td>53.0</td>\n",
       "      <td>27.0</td>\n",
       "      <td>293.0</td>\n",
       "      <td>1</td>\n",
       "      <td>0</td>\n",
       "      <td>1</td>\n",
       "      <td>0</td>\n",
       "      <td>0</td>\n",
       "      <td>0</td>\n",
       "      <td>0</td>\n",
       "      <td>0</td>\n",
       "      <td>0</td>\n",
       "      <td>0</td>\n",
       "      <td>0</td>\n",
       "      <td>0</td>\n",
       "      <td>0</td>\n",
       "      <td>0</td>\n",
       "    </tr>\n",
       "    <tr>\n",
       "      <th>2</th>\n",
       "      <td>386</td>\n",
       "      <td>147752</td>\n",
       "      <td>06/30/2016</td>\n",
       "      <td>1.0</td>\n",
       "      <td>NYC</td>\n",
       "      <td>31.0</td>\n",
       "      <td>NEW YORK</td>\n",
       "      <td>310100010015</td>\n",
       "      <td>PS 15 ROBERTO CLEMENTE</td>\n",
       "      <td>ELA</td>\n",
       "      <td>Grade 3 ELA</td>\n",
       "      <td>3</td>\n",
       "      <td>Male</td>\n",
       "      <td>5.0</td>\n",
       "      <td>3.0</td>\n",
       "      <td>60.0</td>\n",
       "      <td>2.0</td>\n",
       "      <td>40.0</td>\n",
       "      <td>0.0</td>\n",
       "      <td>0.0</td>\n",
       "      <td>0.0</td>\n",
       "      <td>0.0</td>\n",
       "      <td>40.0</td>\n",
       "      <td>0.0</td>\n",
       "      <td>290.0</td>\n",
       "      <td>1</td>\n",
       "      <td>0</td>\n",
       "      <td>1</td>\n",
       "      <td>0</td>\n",
       "      <td>0</td>\n",
       "      <td>0</td>\n",
       "      <td>0</td>\n",
       "      <td>0</td>\n",
       "      <td>0</td>\n",
       "      <td>0</td>\n",
       "      <td>0</td>\n",
       "      <td>0</td>\n",
       "      <td>0</td>\n",
       "      <td>0</td>\n",
       "    </tr>\n",
       "    <tr>\n",
       "      <th>3</th>\n",
       "      <td>387</td>\n",
       "      <td>147753</td>\n",
       "      <td>06/30/2016</td>\n",
       "      <td>1.0</td>\n",
       "      <td>NYC</td>\n",
       "      <td>31.0</td>\n",
       "      <td>NEW YORK</td>\n",
       "      <td>310100010015</td>\n",
       "      <td>PS 15 ROBERTO CLEMENTE</td>\n",
       "      <td>ELA</td>\n",
       "      <td>Grade 3 ELA</td>\n",
       "      <td>5</td>\n",
       "      <td>Black or African American</td>\n",
       "      <td>NaN</td>\n",
       "      <td>NaN</td>\n",
       "      <td>NaN</td>\n",
       "      <td>NaN</td>\n",
       "      <td>NaN</td>\n",
       "      <td>NaN</td>\n",
       "      <td>NaN</td>\n",
       "      <td>NaN</td>\n",
       "      <td>NaN</td>\n",
       "      <td>NaN</td>\n",
       "      <td>NaN</td>\n",
       "      <td>NaN</td>\n",
       "      <td>1</td>\n",
       "      <td>0</td>\n",
       "      <td>1</td>\n",
       "      <td>0</td>\n",
       "      <td>0</td>\n",
       "      <td>0</td>\n",
       "      <td>0</td>\n",
       "      <td>0</td>\n",
       "      <td>0</td>\n",
       "      <td>0</td>\n",
       "      <td>0</td>\n",
       "      <td>0</td>\n",
       "      <td>0</td>\n",
       "      <td>0</td>\n",
       "    </tr>\n",
       "    <tr>\n",
       "      <th>4</th>\n",
       "      <td>388</td>\n",
       "      <td>147754</td>\n",
       "      <td>06/30/2016</td>\n",
       "      <td>1.0</td>\n",
       "      <td>NYC</td>\n",
       "      <td>31.0</td>\n",
       "      <td>NEW YORK</td>\n",
       "      <td>310100010015</td>\n",
       "      <td>PS 15 ROBERTO CLEMENTE</td>\n",
       "      <td>ELA</td>\n",
       "      <td>Grade 3 ELA</td>\n",
       "      <td>6</td>\n",
       "      <td>Hispanic or Latino</td>\n",
       "      <td>13.0</td>\n",
       "      <td>7.0</td>\n",
       "      <td>54.0</td>\n",
       "      <td>4.0</td>\n",
       "      <td>31.0</td>\n",
       "      <td>2.0</td>\n",
       "      <td>15.0</td>\n",
       "      <td>0.0</td>\n",
       "      <td>0.0</td>\n",
       "      <td>46.0</td>\n",
       "      <td>15.0</td>\n",
       "      <td>291.0</td>\n",
       "      <td>1</td>\n",
       "      <td>0</td>\n",
       "      <td>1</td>\n",
       "      <td>0</td>\n",
       "      <td>0</td>\n",
       "      <td>0</td>\n",
       "      <td>0</td>\n",
       "      <td>0</td>\n",
       "      <td>0</td>\n",
       "      <td>0</td>\n",
       "      <td>0</td>\n",
       "      <td>0</td>\n",
       "      <td>0</td>\n",
       "      <td>0</td>\n",
       "    </tr>\n",
       "  </tbody>\n",
       "</table>\n",
       "</div>"
      ],
      "text/plain": [
       "   level_0   index SY_END_DATE  NRC_CODE NRC_DESC  COUNTY_CODE COUNTY_DESC  \\\n",
       "0      384  147750  06/30/2016       1.0      NYC         31.0    NEW YORK   \n",
       "1      385  147751  06/30/2016       1.0      NYC         31.0    NEW YORK   \n",
       "2      386  147752  06/30/2016       1.0      NYC         31.0    NEW YORK   \n",
       "3      387  147753  06/30/2016       1.0      NYC         31.0    NEW YORK   \n",
       "4      388  147754  06/30/2016       1.0      NYC         31.0    NEW YORK   \n",
       "\n",
       "       BEDSCODE                    NAME ITEM_SUBJECT_AREA    ITEM_DESC  \\\n",
       "0  310100010015  PS 15 ROBERTO CLEMENTE               ELA  Grade 3 ELA   \n",
       "1  310100010015  PS 15 ROBERTO CLEMENTE               ELA  Grade 3 ELA   \n",
       "2  310100010015  PS 15 ROBERTO CLEMENTE               ELA  Grade 3 ELA   \n",
       "3  310100010015  PS 15 ROBERTO CLEMENTE               ELA  Grade 3 ELA   \n",
       "4  310100010015  PS 15 ROBERTO CLEMENTE               ELA  Grade 3 ELA   \n",
       "\n",
       "   SUBGROUP_CODE              SUBGROUP_NAME  TOTAL_TESTED  L1_COUNT  L1_PCT  \\\n",
       "0              1               All Students          20.0      10.0    50.0   \n",
       "1              2                     Female          15.0       7.0    47.0   \n",
       "2              3                       Male           5.0       3.0    60.0   \n",
       "3              5  Black or African American           NaN       NaN     NaN   \n",
       "4              6         Hispanic or Latino          13.0       7.0    54.0   \n",
       "\n",
       "   L2_COUNT  L2_PCT  L3_COUNT  L3_PCT  L4_COUNT  L4_PCT  L2-L4_PCT  L3-L4_PCT  \\\n",
       "0       6.0    30.0       4.0    20.0       0.0     0.0       50.0       20.0   \n",
       "1       4.0    27.0       4.0    27.0       0.0     0.0       53.0       27.0   \n",
       "2       2.0    40.0       0.0     0.0       0.0     0.0       40.0        0.0   \n",
       "3       NaN     NaN       NaN     NaN       NaN     NaN        NaN        NaN   \n",
       "4       4.0    31.0       2.0    15.0       0.0     0.0       46.0       15.0   \n",
       "\n",
       "   MEAN_SCALE_SCORE  ELA  Mathematics  Grade 3 ELA  Grade 3 Math  Grade 4 ELA  \\\n",
       "0             293.0    1            0            1             0            0   \n",
       "1             293.0    1            0            1             0            0   \n",
       "2             290.0    1            0            1             0            0   \n",
       "3               NaN    1            0            1             0            0   \n",
       "4             291.0    1            0            1             0            0   \n",
       "\n",
       "   Grade 4 Math  Grade 5 ELA  Grade 5 Math  Grade 6 ELA  Grade 6 Math  \\\n",
       "0             0            0             0            0             0   \n",
       "1             0            0             0            0             0   \n",
       "2             0            0             0            0             0   \n",
       "3             0            0             0            0             0   \n",
       "4             0            0             0            0             0   \n",
       "\n",
       "   Grade 7 ELA  Grade 7 Math  Grade 8 ELA  Grade 8 Math  \n",
       "0            0             0            0             0  \n",
       "1            0             0            0             0  \n",
       "2            0             0            0             0  \n",
       "3            0             0            0             0  \n",
       "4            0             0            0             0  "
      ]
     },
     "execution_count": 86,
     "metadata": {},
     "output_type": "execute_result"
    }
   ],
   "source": [
    "nyc_others_df.head()"
   ]
  },
  {
   "cell_type": "code",
   "execution_count": 87,
   "metadata": {
    "collapsed": true
   },
   "outputs": [],
   "source": [
    "pd.options.display.max_rows = 200"
   ]
  },
  {
   "cell_type": "code",
   "execution_count": 88,
   "metadata": {},
   "outputs": [
    {
     "data": {
      "text/plain": [
       "array([56, 72, 57, ..., 86, 78, 82])"
      ]
     },
     "execution_count": 88,
     "metadata": {},
     "output_type": "execute_result"
    }
   ],
   "source": [
    "nyc_others_df.groupby('NAME')['NRC_CODE'].count().values"
   ]
  },
  {
   "cell_type": "markdown",
   "metadata": {},
   "source": [
    "GroupBy Attempt"
   ]
  },
  {
   "cell_type": "code",
   "execution_count": 89,
   "metadata": {},
   "outputs": [
    {
     "data": {
      "text/plain": [
       "NAME                                                             ITEM_DESC   \n",
       "30TH AVENUE SCHOOL (THE)                                         Grade 6 ELA     348.777778\n",
       "                                                                 Grade 6 Math    358.888889\n",
       "                                                                 Grade 7 ELA     344.375000\n",
       "                                                                 Grade 7 Math    347.500000\n",
       "47 AMERICAN SIGN LANGUAGE AND ENGLISH LOWER SCHOOL (THE)         Grade 3 ELA     323.000000\n",
       "                                                                 Grade 3 Math    296.800000\n",
       "                                                                 Grade 4 ELA            NaN\n",
       "                                                                 Grade 4 Math           NaN\n",
       "                                                                 Grade 5 ELA     294.000000\n",
       "                                                                 Grade 5 Math    289.000000\n",
       "                                                                 Grade 6 ELA            NaN\n",
       "                                                                 Grade 6 Math           NaN\n",
       "                                                                 Grade 7 ELA            NaN\n",
       "                                                                 Grade 7 Math           NaN\n",
       "                                                                 Grade 8 ELA     299.000000\n",
       "                                                                 Grade 8 Math    264.000000\n",
       "51ST AVENUE ACADEMY (THE PATH TO ACADEMIC EXCELLENCE)            Grade 4 ELA     314.636364\n",
       "                                                                 Grade 4 Math    319.363636\n",
       "                                                                 Grade 5 ELA     306.923077\n",
       "                                                                 Grade 5 Math    329.384615\n",
       "ACAD FOR COLLEGE PREP & CAREER EXPLORATION: A COLLEGE BOARD SCH  Grade 6 ELA     297.142857\n",
       "                                                                 Grade 6 Math    291.142857\n",
       "                                                                 Grade 7 ELA     298.000000\n",
       "                                                                 Grade 7 Math    290.600000\n",
       "                                                                 Grade 8 ELA     295.444444\n",
       "                                                                 Grade 8 Math    281.333333\n",
       "ACADEMIC LEADERSHIP CHARTER SCHOOL                               Grade 3 ELA     350.200000\n",
       "                                                                 Grade 3 Math    337.200000\n",
       "                                                                 Grade 4 ELA     327.333333\n",
       "                                                                 Grade 4 Math    321.500000\n",
       "                                                                 Grade 5 ELA     302.400000\n",
       "                                                                 Grade 5 Math    303.800000\n",
       "                                                                 Grade 6 ELA     301.916667\n",
       "                                                                 Grade 6 Math    312.583333\n",
       "                                                                 Grade 7 ELA     326.000000\n",
       "                                                                 Grade 7 Math    342.625000\n",
       "ACADEMY FOR EXCELLENCE THROUGH THE ARTS (THE)                    Grade 3 ELA     347.571429\n",
       "                                                                 Grade 3 Math    342.142857\n",
       "ACADEMY FOR NEW AMERICANS                                        Grade 6 ELA            NaN\n",
       "                                                                 Grade 6 Math    268.555556\n",
       "                                                                 Grade 7 ELA     245.375000\n",
       "                                                                 Grade 7 Math    299.700000\n",
       "                                                                 Grade 8 ELA     256.857143\n",
       "                                                                 Grade 8 Math    287.444444\n",
       "ACADEMY FOR PERSONAL LEADERSHIP AND EXCELLENCE                   Grade 6 ELA     278.916667\n",
       "                                                                 Grade 6 Math    271.083333\n",
       "                                                                 Grade 7 ELA     278.090909\n",
       "                                                                 Grade 7 Math    269.545455\n",
       "                                                                 Grade 8 ELA     295.800000\n",
       "                                                                 Grade 8 Math    284.600000\n",
       "ACADEMY FOR YOUNG WRITERS                                        Grade 6 ELA     296.000000\n",
       "                                                                 Grade 6 Math    285.000000\n",
       "                                                                 Grade 7 ELA     296.444444\n",
       "                                                                 Grade 7 Math    258.444444\n",
       "                                                                 Grade 8 ELA     290.800000\n",
       "                                                                 Grade 8 Math    269.750000\n",
       "ACADEMY OF APPLIED MATHEMATICS AND TECHNOLOGY                    Grade 6 ELA     288.333333\n",
       "                                                                 Grade 6 Math    293.111111\n",
       "                                                                 Grade 7 ELA     300.555556\n",
       "                                                                 Grade 7 Math    307.444444\n",
       "                                                                 Grade 8 ELA     310.090909\n",
       "                                                                 Grade 8 Math    294.909091\n",
       "ACADEMY OF ARTS AND LETTERS                                      Grade 3 ELA     327.111111\n",
       "                                                                 Grade 3 Math    305.555556\n",
       "                                                                 Grade 4 ELA     330.666667\n",
       "                                                                 Grade 4 Math    323.333333\n",
       "                                                                 Grade 5 ELA     328.000000\n",
       "                                                                 Grade 5 Math    307.777778\n",
       "                                                                 Grade 6 ELA     305.090909\n",
       "                                                                 Grade 6 Math    314.090909\n",
       "                                                                 Grade 7 ELA     321.181818\n",
       "                                                                 Grade 7 Math    317.909091\n",
       "                                                                 Grade 8 ELA            NaN\n",
       "                                                                 Grade 8 Math    271.000000\n",
       "ACADEMY OF PUBLIC RELATIONS                                      Grade 6 ELA     282.111111\n",
       "                                                                 Grade 6 Math    273.636364\n",
       "                                                                 Grade 7 ELA     278.454545\n",
       "                                                                 Grade 7 Math    272.818182\n",
       "                                                                 Grade 8 ELA     289.363636\n",
       "                                                                 Grade 8 Math    265.083333\n",
       "ACADEMY OF TALENTED SCHOLARS (THE)                               Grade 3 ELA     332.888889\n",
       "                                                                 Grade 3 Math    321.333333\n",
       "                                                                 Grade 4 ELA     333.100000\n",
       "                                                                 Grade 4 Math    337.100000\n",
       "                                                                 Grade 5 ELA     326.400000\n",
       "                                                                 Grade 5 Math    339.800000\n",
       "ACADEMY OF THE ARTS (THE)                                        Grade 3 ELA     312.142857\n",
       "                                                                 Grade 3 Math    311.142857\n",
       "                                                                 Grade 4 ELA     287.777778\n",
       "                                                                 Grade 4 Math    271.333333\n",
       "                                                                 Grade 5 ELA     289.555556\n",
       "                                                                 Grade 5 Math    298.777778\n",
       "ACADEMY OF THE CITY CHARTER SCHOOL                               Grade 3 ELA     321.909091\n",
       "                                                                 Grade 3 Math    320.727273\n",
       "                                                                 Grade 4 ELA     312.384615\n",
       "                                                                 Grade 4 Math    314.076923\n",
       "                                                                 Grade 5 ELA     306.181818\n",
       "                                                                 Grade 5 Math    320.000000\n",
       "ACADEY OF MEDICAL TECHNOLOGY - A COLLEGE BOARD SCHOOL            Grade 6 ELA     278.384615\n",
       "                                                                 Grade 6 Math    277.307692\n",
       "                                                                                    ...    \n",
       "WAVE PREPARATORY ELEMENTARY SCHOOL                               Grade 3 Math    301.636364\n",
       "                                                                 Grade 4 ELA     305.545455\n",
       "                                                                 Grade 4 Math    295.727273\n",
       "                                                                 Grade 5 ELA     273.571429\n",
       "                                                                 Grade 5 Math    280.111111\n",
       "WEST BRONX ACADEMY FOR THE FUTURE                                Grade 6 ELA     294.666667\n",
       "                                                                 Grade 6 Math    287.111111\n",
       "                                                                 Grade 7 ELA     293.000000\n",
       "                                                                 Grade 7 Math    275.333333\n",
       "                                                                 Grade 8 ELA     297.100000\n",
       "                                                                 Grade 8 Math    281.200000\n",
       "WEST END SECONDARY SCHOOL                                        Grade 6 ELA     319.000000\n",
       "                                                                 Grade 6 Math    324.583333\n",
       "WEST PREP ACADEMY                                                Grade 6 ELA     296.000000\n",
       "                                                                 Grade 6 Math    293.000000\n",
       "                                                                 Grade 7 ELA     301.363636\n",
       "                                                                 Grade 7 Math    299.818182\n",
       "                                                                 Grade 8 ELA     303.111111\n",
       "                                                                 Grade 8 Math    293.555556\n",
       "WILLIAMSBURG COLLEGIATE CHARTER SCHOOL                           Grade 5 ELA     297.000000\n",
       "                                                                 Grade 5 Math    308.363636\n",
       "                                                                 Grade 6 ELA     296.800000\n",
       "                                                                 Grade 6 Math    318.166667\n",
       "                                                                 Grade 7 ELA     311.272727\n",
       "                                                                 Grade 7 Math    321.272727\n",
       "                                                                 Grade 8 ELA     304.888889\n",
       "WINDSOR TERRACE SCHOOL (THE)                                     Grade 3 ELA     340.272727\n",
       "                                                                 Grade 3 Math    333.000000\n",
       "                                                                 Grade 4 ELA     326.769231\n",
       "                                                                 Grade 4 Math    328.076923\n",
       "                                                                 Grade 5 ELA     319.700000\n",
       "                                                                 Grade 5 Math    317.700000\n",
       "WORLD JOURNALISM PREPARATORY:  A COLLEGE BOARD SCHOOL            Grade 6 ELA     308.100000\n",
       "                                                                 Grade 6 Math    307.100000\n",
       "                                                                 Grade 7 ELA     315.333333\n",
       "                                                                 Grade 7 Math    310.000000\n",
       "                                                                 Grade 8 ELA     314.454545\n",
       "YORK EARLY COLLEGE ACADEMY                                       Grade 6 ELA     316.538462\n",
       "                                                                 Grade 6 Math    329.461538\n",
       "                                                                 Grade 7 ELA     324.333333\n",
       "                                                                 Grade 7 Math    310.333333\n",
       "                                                                 Grade 8 ELA     320.181818\n",
       "YORKVILLE COMMUNITY SCHOOL                                       Grade 3 ELA     328.076923\n",
       "                                                                 Grade 3 Math    328.266667\n",
       "                                                                 Grade 4 ELA     324.454545\n",
       "                                                                 Grade 4 Math    322.538462\n",
       "                                                                 Grade 5 ELA     303.181818\n",
       "                                                                 Grade 5 Math    313.250000\n",
       "YORKVILLE EAST MIDDLE SCHOOL                                     Grade 6 ELA     313.583333\n",
       "                                                                 Grade 6 Math    325.333333\n",
       "                                                                 Grade 7 ELA     323.181818\n",
       "                                                                 Grade 7 Math    340.636364\n",
       "YOUNG LEADERS ELEMENTARY SCHOOL                                  Grade 3 ELA     289.200000\n",
       "                                                                 Grade 3 Math    269.400000\n",
       "                                                                 Grade 4 ELA     283.333333\n",
       "                                                                 Grade 4 Math    270.555556\n",
       "                                                                 Grade 5 ELA     256.500000\n",
       "                                                                 Grade 5 Math    267.375000\n",
       "YOUNG SCHOLARS ACADEMY FOR DISCOVERY AND EXPLORATION             Grade 3 ELA     306.571429\n",
       "                                                                 Grade 3 Math    291.285714\n",
       "                                                                 Grade 4 ELA     316.714286\n",
       "                                                                 Grade 4 Math    283.142857\n",
       "                                                                 Grade 5 ELA     293.800000\n",
       "                                                                 Grade 5 Math    287.333333\n",
       "YOUNG SCHOLARS ACADEMY OF THE BRONX (THE)                        Grade 6 ELA     265.166667\n",
       "                                                                 Grade 6 Math    270.500000\n",
       "                                                                 Grade 7 ELA     281.666667\n",
       "                                                                 Grade 7 Math    268.916667\n",
       "                                                                 Grade 8 ELA     288.111111\n",
       "                                                                 Grade 8 Math    267.200000\n",
       "YOUNG WOMEN'S LEADERSHIP SCHOOL                                  Grade 6 ELA     311.166667\n",
       "                                                                 Grade 6 Math    301.500000\n",
       "                                                                 Grade 7 ELA     316.333333\n",
       "                                                                 Grade 7 Math    305.833333\n",
       "                                                                 Grade 8 ELA     317.444444\n",
       "                                                                 Grade 8 Math    302.777778\n",
       "YOUNG WOMEN'S LEADERSHIP SCHOOL OF BROOKLYN                      Grade 6 ELA     304.666667\n",
       "                                                                 Grade 6 Math    288.400000\n",
       "                                                                 Grade 7 ELA     306.000000\n",
       "                                                                 Grade 7 Math    296.000000\n",
       "                                                                 Grade 8 ELA     305.666667\n",
       "                                                                 Grade 8 Math    297.333333\n",
       "YOUNG WOMEN'S LEADERSHIP SCHOOL OF QUEENS                        Grade 6 ELA     327.888889\n",
       "                                                                 Grade 6 Math    327.333333\n",
       "                                                                 Grade 7 ELA     327.000000\n",
       "                                                                 Grade 7 Math    325.222222\n",
       "                                                                 Grade 8 ELA     328.714286\n",
       "                                                                 Grade 8 Math    322.714286\n",
       "YOUNG WOMEN'S LEADERSHIP SCHOOL OF THE BRONX                     Grade 6 ELA     298.875000\n",
       "                                                                 Grade 6 Math    302.250000\n",
       "                                                                 Grade 7 ELA     318.500000\n",
       "                                                                 Grade 7 Math    312.666667\n",
       "                                                                 Grade 8 ELA     310.375000\n",
       "                                                                 Grade 8 Math    319.750000\n",
       "YOUNG WOMENS LEADERSHIP SCHOOL                                   Grade 6 ELA     316.090909\n",
       "                                                                 Grade 6 Math    322.818182\n",
       "                                                                 Grade 7 ELA     326.100000\n",
       "                                                                 Grade 7 Math    314.200000\n",
       "                                                                 Grade 8 ELA     314.400000\n",
       "                                                                 Grade 8 Math    305.200000\n",
       "Name: MEAN_SCALE_SCORE, Length: 8736, dtype: float64"
      ]
     },
     "execution_count": 89,
     "metadata": {},
     "output_type": "execute_result"
    }
   ],
   "source": [
    "nyc_others_df.groupby(['NAME','ITEM_DESC'])['MEAN_SCALE_SCORE'].mean()"
   ]
  },
  {
   "cell_type": "code",
   "execution_count": 90,
   "metadata": {},
   "outputs": [
    {
     "data": {
      "text/plain": [
       "(121682, 39)"
      ]
     },
     "execution_count": 90,
     "metadata": {},
     "output_type": "execute_result"
    }
   ],
   "source": [
    "nyc_others_df.shape"
   ]
  },
  {
   "cell_type": "code",
   "execution_count": 91,
   "metadata": {
    "collapsed": true
   },
   "outputs": [],
   "source": [
    "#%%time\n",
    "#nyc_schools_pivot=nyc_others_df.pivot(columns='NAME')\n",
    "#nyc_schools_pivot.head()"
   ]
  },
  {
   "cell_type": "code",
   "execution_count": 93,
   "metadata": {},
   "outputs": [
    {
     "data": {
      "text/plain": [
       "0"
      ]
     },
     "execution_count": 93,
     "metadata": {},
     "output_type": "execute_result"
    }
   ],
   "source": [
    "os.system('say \"finished\"')"
   ]
  },
  {
   "cell_type": "code",
   "execution_count": 96,
   "metadata": {},
   "outputs": [
    {
     "data": {
      "text/plain": [
       "Index(['index', 'SY_END_DATE', 'NRC_CODE', 'NRC_DESC', 'COUNTY_CODE',\n",
       "       'COUNTY_DESC', 'BEDSCODE', 'NAME', 'ITEM_SUBJECT_AREA', 'ITEM_DESC',\n",
       "       'SUBGROUP_CODE', 'SUBGROUP_NAME', 'TOTAL_TESTED', 'L1_COUNT', 'L1_PCT',\n",
       "       'L2_COUNT', 'L2_PCT', 'L3_COUNT', 'L3_PCT', 'L4_COUNT', 'L4_PCT',\n",
       "       'L2-L4_PCT', 'L3-L4_PCT', 'MEAN_SCALE_SCORE', 'ELA', 'Mathematics',\n",
       "       'Grade 3 ELA', 'Grade 3 Math', 'Grade 4 ELA', 'Grade 4 Math',\n",
       "       'Grade 5 ELA', 'Grade 5 Math', 'Grade 6 ELA', 'Grade 6 Math',\n",
       "       'Grade 7 ELA', 'Grade 7 Math', 'Grade 8 ELA', 'Grade 8 Math'],\n",
       "      dtype='object')"
      ]
     },
     "execution_count": 96,
     "metadata": {},
     "output_type": "execute_result"
    }
   ],
   "source": [
    "nyc_df.columns"
   ]
  },
  {
   "cell_type": "code",
   "execution_count": 100,
   "metadata": {},
   "outputs": [
    {
     "data": {
      "text/html": [
       "<div>\n",
       "<style>\n",
       "    .dataframe thead tr:only-child th {\n",
       "        text-align: right;\n",
       "    }\n",
       "\n",
       "    .dataframe thead th {\n",
       "        text-align: left;\n",
       "    }\n",
       "\n",
       "    .dataframe tbody tr th {\n",
       "        vertical-align: top;\n",
       "    }\n",
       "</style>\n",
       "<table border=\"1\" class=\"dataframe\">\n",
       "  <thead>\n",
       "    <tr style=\"text-align: right;\">\n",
       "      <th></th>\n",
       "      <th>NAME</th>\n",
       "      <th>ITEM_DESC</th>\n",
       "      <th>MEAN_SCALE_SCORE</th>\n",
       "    </tr>\n",
       "  </thead>\n",
       "  <tbody>\n",
       "    <tr>\n",
       "      <th>0</th>\n",
       "      <td>PS 15 ROBERTO CLEMENTE</td>\n",
       "      <td>Grade 3 ELA</td>\n",
       "      <td>293.0</td>\n",
       "    </tr>\n",
       "    <tr>\n",
       "      <th>13</th>\n",
       "      <td>PS 15 ROBERTO CLEMENTE</td>\n",
       "      <td>Grade 3 Math</td>\n",
       "      <td>275.0</td>\n",
       "    </tr>\n",
       "    <tr>\n",
       "      <th>26</th>\n",
       "      <td>PS 15 ROBERTO CLEMENTE</td>\n",
       "      <td>Grade 4 ELA</td>\n",
       "      <td>298.0</td>\n",
       "    </tr>\n",
       "    <tr>\n",
       "      <th>39</th>\n",
       "      <td>PS 15 ROBERTO CLEMENTE</td>\n",
       "      <td>Grade 4 Math</td>\n",
       "      <td>304.0</td>\n",
       "    </tr>\n",
       "    <tr>\n",
       "      <th>52</th>\n",
       "      <td>PS 15 ROBERTO CLEMENTE</td>\n",
       "      <td>Grade 5 ELA</td>\n",
       "      <td>288.0</td>\n",
       "    </tr>\n",
       "  </tbody>\n",
       "</table>\n",
       "</div>"
      ],
      "text/plain": [
       "                      NAME     ITEM_DESC  MEAN_SCALE_SCORE\n",
       "0   PS 15 ROBERTO CLEMENTE   Grade 3 ELA             293.0\n",
       "13  PS 15 ROBERTO CLEMENTE  Grade 3 Math             275.0\n",
       "26  PS 15 ROBERTO CLEMENTE   Grade 4 ELA             298.0\n",
       "39  PS 15 ROBERTO CLEMENTE  Grade 4 Math             304.0\n",
       "52  PS 15 ROBERTO CLEMENTE   Grade 5 ELA             288.0"
      ]
     },
     "execution_count": 100,
     "metadata": {},
     "output_type": "execute_result"
    }
   ],
   "source": [
    "nimble_columns=['NAME','ITEM_DESC','MEAN_SCALE_SCORE']\n",
    "nyc_nimble_df=nyc_others_df[nimble_columns][nyc_others_df['SUBGROUP_NAME']=='All Students']\n",
    "nyc_nimble_df.head()"
   ]
  },
  {
   "cell_type": "code",
   "execution_count": 101,
   "metadata": {},
   "outputs": [
    {
     "data": {
      "text/plain": [
       "(8760, 3)"
      ]
     },
     "execution_count": 101,
     "metadata": {},
     "output_type": "execute_result"
    }
   ],
   "source": [
    "nyc_nimble_df.shape"
   ]
  },
  {
   "cell_type": "code",
   "execution_count": 133,
   "metadata": {},
   "outputs": [
    {
     "data": {
      "text/html": [
       "<div>\n",
       "<style>\n",
       "    .dataframe thead tr:only-child th {\n",
       "        text-align: right;\n",
       "    }\n",
       "\n",
       "    .dataframe thead th {\n",
       "        text-align: left;\n",
       "    }\n",
       "\n",
       "    .dataframe tbody tr th {\n",
       "        vertical-align: top;\n",
       "    }\n",
       "</style>\n",
       "<table border=\"1\" class=\"dataframe\">\n",
       "  <thead>\n",
       "    <tr style=\"text-align: right;\">\n",
       "      <th></th>\n",
       "      <th>NAME</th>\n",
       "      <th>ITEM_DESC</th>\n",
       "      <th>SUBGROUP_NAME</th>\n",
       "      <th>MEAN_SCALE_SCORE</th>\n",
       "    </tr>\n",
       "  </thead>\n",
       "  <tbody>\n",
       "    <tr>\n",
       "      <th>0</th>\n",
       "      <td>PS 15 ROBERTO CLEMENTE</td>\n",
       "      <td>Grade 3 ELA</td>\n",
       "      <td>All Students</td>\n",
       "      <td>293.0</td>\n",
       "    </tr>\n",
       "    <tr>\n",
       "      <th>1</th>\n",
       "      <td>PS 15 ROBERTO CLEMENTE</td>\n",
       "      <td>Grade 3 ELA</td>\n",
       "      <td>Female</td>\n",
       "      <td>293.0</td>\n",
       "    </tr>\n",
       "    <tr>\n",
       "      <th>2</th>\n",
       "      <td>PS 15 ROBERTO CLEMENTE</td>\n",
       "      <td>Grade 3 ELA</td>\n",
       "      <td>Male</td>\n",
       "      <td>290.0</td>\n",
       "    </tr>\n",
       "    <tr>\n",
       "      <th>13</th>\n",
       "      <td>PS 15 ROBERTO CLEMENTE</td>\n",
       "      <td>Grade 3 Math</td>\n",
       "      <td>All Students</td>\n",
       "      <td>275.0</td>\n",
       "    </tr>\n",
       "    <tr>\n",
       "      <th>14</th>\n",
       "      <td>PS 15 ROBERTO CLEMENTE</td>\n",
       "      <td>Grade 3 Math</td>\n",
       "      <td>Female</td>\n",
       "      <td>274.0</td>\n",
       "    </tr>\n",
       "  </tbody>\n",
       "</table>\n",
       "</div>"
      ],
      "text/plain": [
       "                      NAME     ITEM_DESC SUBGROUP_NAME  MEAN_SCALE_SCORE\n",
       "0   PS 15 ROBERTO CLEMENTE   Grade 3 ELA  All Students             293.0\n",
       "1   PS 15 ROBERTO CLEMENTE   Grade 3 ELA        Female             293.0\n",
       "2   PS 15 ROBERTO CLEMENTE   Grade 3 ELA          Male             290.0\n",
       "13  PS 15 ROBERTO CLEMENTE  Grade 3 Math  All Students             275.0\n",
       "14  PS 15 ROBERTO CLEMENTE  Grade 3 Math        Female             274.0"
      ]
     },
     "execution_count": 133,
     "metadata": {},
     "output_type": "execute_result"
    }
   ],
   "source": [
    "nimble_columns=['NAME','ITEM_DESC','SUBGROUP_NAME','MEAN_SCALE_SCORE']\n",
    "nyc_nimble_df=nyc_others_df[nimble_columns][(nyc_others_df['SUBGROUP_NAME'] == 'All Students') | (nyc_others_df['SUBGROUP_NAME'] == 'Female') | (nyc_others_df['SUBGROUP_NAME'] == 'Male')]\n",
    "nyc_nimble_df.head()"
   ]
  },
  {
   "cell_type": "code",
   "execution_count": 134,
   "metadata": {},
   "outputs": [
    {
     "data": {
      "text/plain": [
       "(26098, 4)"
      ]
     },
     "execution_count": 134,
     "metadata": {},
     "output_type": "execute_result"
    }
   ],
   "source": [
    "nyc_nimble_df.shape"
   ]
  },
  {
   "cell_type": "code",
   "execution_count": 135,
   "metadata": {
    "collapsed": true
   },
   "outputs": [],
   "source": [
    "nyc_nimble_df.reset_index(inplace=True)"
   ]
  },
  {
   "cell_type": "code",
   "execution_count": 136,
   "metadata": {},
   "outputs": [
    {
     "data": {
      "text/html": [
       "<div>\n",
       "<style>\n",
       "    .dataframe thead tr:only-child th {\n",
       "        text-align: right;\n",
       "    }\n",
       "\n",
       "    .dataframe thead th {\n",
       "        text-align: left;\n",
       "    }\n",
       "\n",
       "    .dataframe tbody tr th {\n",
       "        vertical-align: top;\n",
       "    }\n",
       "</style>\n",
       "<table border=\"1\" class=\"dataframe\">\n",
       "  <thead>\n",
       "    <tr style=\"text-align: right;\">\n",
       "      <th></th>\n",
       "      <th>index</th>\n",
       "      <th>NAME</th>\n",
       "      <th>ITEM_DESC</th>\n",
       "      <th>SUBGROUP_NAME</th>\n",
       "      <th>MEAN_SCALE_SCORE</th>\n",
       "    </tr>\n",
       "  </thead>\n",
       "  <tbody>\n",
       "    <tr>\n",
       "      <th>0</th>\n",
       "      <td>0</td>\n",
       "      <td>PS 15 ROBERTO CLEMENTE</td>\n",
       "      <td>Grade 3 ELA</td>\n",
       "      <td>All Students</td>\n",
       "      <td>293.0</td>\n",
       "    </tr>\n",
       "    <tr>\n",
       "      <th>1</th>\n",
       "      <td>1</td>\n",
       "      <td>PS 15 ROBERTO CLEMENTE</td>\n",
       "      <td>Grade 3 ELA</td>\n",
       "      <td>Female</td>\n",
       "      <td>293.0</td>\n",
       "    </tr>\n",
       "    <tr>\n",
       "      <th>2</th>\n",
       "      <td>2</td>\n",
       "      <td>PS 15 ROBERTO CLEMENTE</td>\n",
       "      <td>Grade 3 ELA</td>\n",
       "      <td>Male</td>\n",
       "      <td>290.0</td>\n",
       "    </tr>\n",
       "    <tr>\n",
       "      <th>3</th>\n",
       "      <td>13</td>\n",
       "      <td>PS 15 ROBERTO CLEMENTE</td>\n",
       "      <td>Grade 3 Math</td>\n",
       "      <td>All Students</td>\n",
       "      <td>275.0</td>\n",
       "    </tr>\n",
       "    <tr>\n",
       "      <th>4</th>\n",
       "      <td>14</td>\n",
       "      <td>PS 15 ROBERTO CLEMENTE</td>\n",
       "      <td>Grade 3 Math</td>\n",
       "      <td>Female</td>\n",
       "      <td>274.0</td>\n",
       "    </tr>\n",
       "  </tbody>\n",
       "</table>\n",
       "</div>"
      ],
      "text/plain": [
       "   index                    NAME     ITEM_DESC SUBGROUP_NAME  MEAN_SCALE_SCORE\n",
       "0      0  PS 15 ROBERTO CLEMENTE   Grade 3 ELA  All Students             293.0\n",
       "1      1  PS 15 ROBERTO CLEMENTE   Grade 3 ELA        Female             293.0\n",
       "2      2  PS 15 ROBERTO CLEMENTE   Grade 3 ELA          Male             290.0\n",
       "3     13  PS 15 ROBERTO CLEMENTE  Grade 3 Math  All Students             275.0\n",
       "4     14  PS 15 ROBERTO CLEMENTE  Grade 3 Math        Female             274.0"
      ]
     },
     "execution_count": 136,
     "metadata": {},
     "output_type": "execute_result"
    }
   ],
   "source": [
    "nyc_nimble_df.head()"
   ]
  },
  {
   "cell_type": "markdown",
   "metadata": {},
   "source": [
    "Modeling on gender"
   ]
  },
  {
   "cell_type": "code",
   "execution_count": 137,
   "metadata": {},
   "outputs": [
    {
     "data": {
      "text/html": [
       "<div>\n",
       "<style>\n",
       "    .dataframe thead tr:only-child th {\n",
       "        text-align: right;\n",
       "    }\n",
       "\n",
       "    .dataframe thead th {\n",
       "        text-align: left;\n",
       "    }\n",
       "\n",
       "    .dataframe tbody tr th {\n",
       "        vertical-align: top;\n",
       "    }\n",
       "</style>\n",
       "<table border=\"1\" class=\"dataframe\">\n",
       "  <thead>\n",
       "    <tr style=\"text-align: right;\">\n",
       "      <th></th>\n",
       "      <th>index</th>\n",
       "      <th>NAME</th>\n",
       "      <th>ITEM_DESC</th>\n",
       "      <th>SUBGROUP_NAME</th>\n",
       "      <th>MEAN_SCALE_SCORE</th>\n",
       "      <th>Female</th>\n",
       "      <th>Male</th>\n",
       "    </tr>\n",
       "  </thead>\n",
       "  <tbody>\n",
       "    <tr>\n",
       "      <th>0</th>\n",
       "      <td>0</td>\n",
       "      <td>PS 15 ROBERTO CLEMENTE</td>\n",
       "      <td>Grade 3 ELA</td>\n",
       "      <td>All Students</td>\n",
       "      <td>293.0</td>\n",
       "      <td>0</td>\n",
       "      <td>0</td>\n",
       "    </tr>\n",
       "    <tr>\n",
       "      <th>1</th>\n",
       "      <td>1</td>\n",
       "      <td>PS 15 ROBERTO CLEMENTE</td>\n",
       "      <td>Grade 3 ELA</td>\n",
       "      <td>Female</td>\n",
       "      <td>293.0</td>\n",
       "      <td>1</td>\n",
       "      <td>0</td>\n",
       "    </tr>\n",
       "    <tr>\n",
       "      <th>2</th>\n",
       "      <td>2</td>\n",
       "      <td>PS 15 ROBERTO CLEMENTE</td>\n",
       "      <td>Grade 3 ELA</td>\n",
       "      <td>Male</td>\n",
       "      <td>290.0</td>\n",
       "      <td>0</td>\n",
       "      <td>1</td>\n",
       "    </tr>\n",
       "    <tr>\n",
       "      <th>3</th>\n",
       "      <td>13</td>\n",
       "      <td>PS 15 ROBERTO CLEMENTE</td>\n",
       "      <td>Grade 3 Math</td>\n",
       "      <td>All Students</td>\n",
       "      <td>275.0</td>\n",
       "      <td>0</td>\n",
       "      <td>0</td>\n",
       "    </tr>\n",
       "    <tr>\n",
       "      <th>4</th>\n",
       "      <td>14</td>\n",
       "      <td>PS 15 ROBERTO CLEMENTE</td>\n",
       "      <td>Grade 3 Math</td>\n",
       "      <td>Female</td>\n",
       "      <td>274.0</td>\n",
       "      <td>1</td>\n",
       "      <td>0</td>\n",
       "    </tr>\n",
       "  </tbody>\n",
       "</table>\n",
       "</div>"
      ],
      "text/plain": [
       "   index                    NAME     ITEM_DESC SUBGROUP_NAME  \\\n",
       "0      0  PS 15 ROBERTO CLEMENTE   Grade 3 ELA  All Students   \n",
       "1      1  PS 15 ROBERTO CLEMENTE   Grade 3 ELA        Female   \n",
       "2      2  PS 15 ROBERTO CLEMENTE   Grade 3 ELA          Male   \n",
       "3     13  PS 15 ROBERTO CLEMENTE  Grade 3 Math  All Students   \n",
       "4     14  PS 15 ROBERTO CLEMENTE  Grade 3 Math        Female   \n",
       "\n",
       "   MEAN_SCALE_SCORE  Female  Male  \n",
       "0             293.0       0     0  \n",
       "1             293.0       1     0  \n",
       "2             290.0       0     1  \n",
       "3             275.0       0     0  \n",
       "4             274.0       1     0  "
      ]
     },
     "execution_count": 137,
     "metadata": {},
     "output_type": "execute_result"
    }
   ],
   "source": [
    "nyc_nimble_dummies=pd.get_dummies(nyc_nimble_df['SUBGROUP_NAME'],drop_first=True)\n",
    "nyc_nimble_df=pd.concat([nyc_nimble_df,nyc_nimble_dummies],axis=1)\n",
    "nyc_nimble_df.head()"
   ]
  },
  {
   "cell_type": "code",
   "execution_count": 138,
   "metadata": {},
   "outputs": [
    {
     "data": {
      "text/plain": [
       "(26098, 7)"
      ]
     },
     "execution_count": 138,
     "metadata": {},
     "output_type": "execute_result"
    }
   ],
   "source": [
    "nyc_nimble_df.shape"
   ]
  },
  {
   "cell_type": "code",
   "execution_count": 139,
   "metadata": {},
   "outputs": [],
   "source": [
    "nyc_nimble_df.dropna(inplace=True)"
   ]
  },
  {
   "cell_type": "code",
   "execution_count": 140,
   "metadata": {
    "collapsed": true
   },
   "outputs": [],
   "source": [
    "from sklearn.model_selection import train_test_split\n",
    "from sklearn.linear_model import LinearRegression"
   ]
  },
  {
   "cell_type": "code",
   "execution_count": 141,
   "metadata": {
    "collapsed": true
   },
   "outputs": [],
   "source": [
    "lr=LinearRegression()"
   ]
  },
  {
   "cell_type": "code",
   "execution_count": 142,
   "metadata": {},
   "outputs": [
    {
     "data": {
      "text/plain": [
       "0.012242043210481279"
      ]
     },
     "execution_count": 142,
     "metadata": {},
     "output_type": "execute_result"
    }
   ],
   "source": [
    "X = nyc_nimble_df[['Female','Male']] # predictors\n",
    "y = nyc_nimble_df['MEAN_SCALE_SCORE'] # target variable\n",
    "\n",
    "X_train, X_test, y_train, y_test = train_test_split(X,y, test_size= .33)\n",
    "\n",
    "lr.fit(X_train,y_train)\n",
    "lr.score(X_test,y_test)"
   ]
  },
  {
   "cell_type": "markdown",
   "metadata": {},
   "source": [
    "Modeling on general vs special ed"
   ]
  },
  {
   "cell_type": "code",
   "execution_count": 119,
   "metadata": {},
   "outputs": [
    {
     "data": {
      "text/html": [
       "<div>\n",
       "<style>\n",
       "    .dataframe thead tr:only-child th {\n",
       "        text-align: right;\n",
       "    }\n",
       "\n",
       "    .dataframe thead th {\n",
       "        text-align: left;\n",
       "    }\n",
       "\n",
       "    .dataframe tbody tr th {\n",
       "        vertical-align: top;\n",
       "    }\n",
       "</style>\n",
       "<table border=\"1\" class=\"dataframe\">\n",
       "  <thead>\n",
       "    <tr style=\"text-align: right;\">\n",
       "      <th></th>\n",
       "      <th>NAME</th>\n",
       "      <th>ITEM_DESC</th>\n",
       "      <th>SUBGROUP_NAME</th>\n",
       "      <th>MEAN_SCALE_SCORE</th>\n",
       "    </tr>\n",
       "  </thead>\n",
       "  <tbody>\n",
       "    <tr>\n",
       "      <th>0</th>\n",
       "      <td>PS 15 ROBERTO CLEMENTE</td>\n",
       "      <td>Grade 3 ELA</td>\n",
       "      <td>All Students</td>\n",
       "      <td>293.0</td>\n",
       "    </tr>\n",
       "    <tr>\n",
       "      <th>6</th>\n",
       "      <td>PS 15 ROBERTO CLEMENTE</td>\n",
       "      <td>Grade 3 ELA</td>\n",
       "      <td>General Education Students</td>\n",
       "      <td>304.0</td>\n",
       "    </tr>\n",
       "    <tr>\n",
       "      <th>7</th>\n",
       "      <td>PS 15 ROBERTO CLEMENTE</td>\n",
       "      <td>Grade 3 ELA</td>\n",
       "      <td>Students with Disabilities</td>\n",
       "      <td>278.0</td>\n",
       "    </tr>\n",
       "    <tr>\n",
       "      <th>13</th>\n",
       "      <td>PS 15 ROBERTO CLEMENTE</td>\n",
       "      <td>Grade 3 Math</td>\n",
       "      <td>All Students</td>\n",
       "      <td>275.0</td>\n",
       "    </tr>\n",
       "    <tr>\n",
       "      <th>19</th>\n",
       "      <td>PS 15 ROBERTO CLEMENTE</td>\n",
       "      <td>Grade 3 Math</td>\n",
       "      <td>General Education Students</td>\n",
       "      <td>291.0</td>\n",
       "    </tr>\n",
       "  </tbody>\n",
       "</table>\n",
       "</div>"
      ],
      "text/plain": [
       "                      NAME     ITEM_DESC               SUBGROUP_NAME  \\\n",
       "0   PS 15 ROBERTO CLEMENTE   Grade 3 ELA                All Students   \n",
       "6   PS 15 ROBERTO CLEMENTE   Grade 3 ELA  General Education Students   \n",
       "7   PS 15 ROBERTO CLEMENTE   Grade 3 ELA  Students with Disabilities   \n",
       "13  PS 15 ROBERTO CLEMENTE  Grade 3 Math                All Students   \n",
       "19  PS 15 ROBERTO CLEMENTE  Grade 3 Math  General Education Students   \n",
       "\n",
       "    MEAN_SCALE_SCORE  \n",
       "0              293.0  \n",
       "6              304.0  \n",
       "7              278.0  \n",
       "13             275.0  \n",
       "19             291.0  "
      ]
     },
     "execution_count": 119,
     "metadata": {},
     "output_type": "execute_result"
    }
   ],
   "source": [
    "swift_columns=['NAME','ITEM_DESC','SUBGROUP_NAME','MEAN_SCALE_SCORE']\n",
    "nyc_swift_df=nyc_others_df[swift_columns][(nyc_others_df['SUBGROUP_NAME'] == 'All Students') | (nyc_others_df['SUBGROUP_NAME'] == 'General Education Students') | (nyc_others_df['SUBGROUP_NAME'] == 'Students with Disabilities')]\n",
    "nyc_swift_df.head()"
   ]
  },
  {
   "cell_type": "code",
   "execution_count": 120,
   "metadata": {},
   "outputs": [
    {
     "data": {
      "text/html": [
       "<div>\n",
       "<style>\n",
       "    .dataframe thead tr:only-child th {\n",
       "        text-align: right;\n",
       "    }\n",
       "\n",
       "    .dataframe thead th {\n",
       "        text-align: left;\n",
       "    }\n",
       "\n",
       "    .dataframe tbody tr th {\n",
       "        vertical-align: top;\n",
       "    }\n",
       "</style>\n",
       "<table border=\"1\" class=\"dataframe\">\n",
       "  <thead>\n",
       "    <tr style=\"text-align: right;\">\n",
       "      <th></th>\n",
       "      <th>NAME</th>\n",
       "      <th>ITEM_DESC</th>\n",
       "      <th>SUBGROUP_NAME</th>\n",
       "      <th>MEAN_SCALE_SCORE</th>\n",
       "      <th>General Education Students</th>\n",
       "      <th>Students with Disabilities</th>\n",
       "    </tr>\n",
       "  </thead>\n",
       "  <tbody>\n",
       "    <tr>\n",
       "      <th>0</th>\n",
       "      <td>PS 15 ROBERTO CLEMENTE</td>\n",
       "      <td>Grade 3 ELA</td>\n",
       "      <td>All Students</td>\n",
       "      <td>293.0</td>\n",
       "      <td>0</td>\n",
       "      <td>0</td>\n",
       "    </tr>\n",
       "    <tr>\n",
       "      <th>6</th>\n",
       "      <td>PS 15 ROBERTO CLEMENTE</td>\n",
       "      <td>Grade 3 ELA</td>\n",
       "      <td>General Education Students</td>\n",
       "      <td>304.0</td>\n",
       "      <td>1</td>\n",
       "      <td>0</td>\n",
       "    </tr>\n",
       "    <tr>\n",
       "      <th>7</th>\n",
       "      <td>PS 15 ROBERTO CLEMENTE</td>\n",
       "      <td>Grade 3 ELA</td>\n",
       "      <td>Students with Disabilities</td>\n",
       "      <td>278.0</td>\n",
       "      <td>0</td>\n",
       "      <td>1</td>\n",
       "    </tr>\n",
       "    <tr>\n",
       "      <th>13</th>\n",
       "      <td>PS 15 ROBERTO CLEMENTE</td>\n",
       "      <td>Grade 3 Math</td>\n",
       "      <td>All Students</td>\n",
       "      <td>275.0</td>\n",
       "      <td>0</td>\n",
       "      <td>0</td>\n",
       "    </tr>\n",
       "    <tr>\n",
       "      <th>19</th>\n",
       "      <td>PS 15 ROBERTO CLEMENTE</td>\n",
       "      <td>Grade 3 Math</td>\n",
       "      <td>General Education Students</td>\n",
       "      <td>291.0</td>\n",
       "      <td>1</td>\n",
       "      <td>0</td>\n",
       "    </tr>\n",
       "  </tbody>\n",
       "</table>\n",
       "</div>"
      ],
      "text/plain": [
       "                      NAME     ITEM_DESC               SUBGROUP_NAME  \\\n",
       "0   PS 15 ROBERTO CLEMENTE   Grade 3 ELA                All Students   \n",
       "6   PS 15 ROBERTO CLEMENTE   Grade 3 ELA  General Education Students   \n",
       "7   PS 15 ROBERTO CLEMENTE   Grade 3 ELA  Students with Disabilities   \n",
       "13  PS 15 ROBERTO CLEMENTE  Grade 3 Math                All Students   \n",
       "19  PS 15 ROBERTO CLEMENTE  Grade 3 Math  General Education Students   \n",
       "\n",
       "    MEAN_SCALE_SCORE  General Education Students  Students with Disabilities  \n",
       "0              293.0                           0                           0  \n",
       "6              304.0                           1                           0  \n",
       "7              278.0                           0                           1  \n",
       "13             275.0                           0                           0  \n",
       "19             291.0                           1                           0  "
      ]
     },
     "execution_count": 120,
     "metadata": {},
     "output_type": "execute_result"
    }
   ],
   "source": [
    "nyc_swift_dummies=pd.get_dummies(nyc_swift_df['SUBGROUP_NAME'],drop_first=True)\n",
    "nyc_swift_df=pd.concat([nyc_swift_df,nyc_swift_dummies],axis=1)\n",
    "nyc_swift_df.head()"
   ]
  },
  {
   "cell_type": "code",
   "execution_count": 121,
   "metadata": {
    "collapsed": true
   },
   "outputs": [],
   "source": [
    "nyc_swift_df.dropna(inplace=True)"
   ]
  },
  {
   "cell_type": "code",
   "execution_count": 123,
   "metadata": {},
   "outputs": [
    {
     "data": {
      "text/plain": [
       "0.30604172486516779"
      ]
     },
     "execution_count": 123,
     "metadata": {},
     "output_type": "execute_result"
    }
   ],
   "source": [
    "lr2=LinearRegression()\n",
    "\n",
    "X2 = nyc_swift_df[['General Education Students','Students with Disabilities']] # predictors\n",
    "y2 = nyc_swift_df['MEAN_SCALE_SCORE'] # target variable\n",
    "\n",
    "X_train2, X_test2, y_train2, y_test2 = train_test_split(X2,y2, test_size= .33)\n",
    "\n",
    "lr2.fit(X_train2,y_train2)\n",
    "lr2.score(X_test2,y_test2)"
   ]
  },
  {
   "cell_type": "markdown",
   "metadata": {},
   "source": [
    "Modeling on Economic Status"
   ]
  },
  {
   "cell_type": "code",
   "execution_count": 124,
   "metadata": {},
   "outputs": [
    {
     "data": {
      "text/html": [
       "<div>\n",
       "<style>\n",
       "    .dataframe thead tr:only-child th {\n",
       "        text-align: right;\n",
       "    }\n",
       "\n",
       "    .dataframe thead th {\n",
       "        text-align: left;\n",
       "    }\n",
       "\n",
       "    .dataframe tbody tr th {\n",
       "        vertical-align: top;\n",
       "    }\n",
       "</style>\n",
       "<table border=\"1\" class=\"dataframe\">\n",
       "  <thead>\n",
       "    <tr style=\"text-align: right;\">\n",
       "      <th></th>\n",
       "      <th>NAME</th>\n",
       "      <th>ITEM_DESC</th>\n",
       "      <th>SUBGROUP_NAME</th>\n",
       "      <th>MEAN_SCALE_SCORE</th>\n",
       "    </tr>\n",
       "  </thead>\n",
       "  <tbody>\n",
       "    <tr>\n",
       "      <th>0</th>\n",
       "      <td>PS 15 ROBERTO CLEMENTE</td>\n",
       "      <td>Grade 3 ELA</td>\n",
       "      <td>All Students</td>\n",
       "      <td>293.0</td>\n",
       "    </tr>\n",
       "    <tr>\n",
       "      <th>10</th>\n",
       "      <td>PS 15 ROBERTO CLEMENTE</td>\n",
       "      <td>Grade 3 ELA</td>\n",
       "      <td>Economically Disadvantaged</td>\n",
       "      <td>NaN</td>\n",
       "    </tr>\n",
       "    <tr>\n",
       "      <th>11</th>\n",
       "      <td>PS 15 ROBERTO CLEMENTE</td>\n",
       "      <td>Grade 3 ELA</td>\n",
       "      <td>Not Economically Disadvantaged</td>\n",
       "      <td>NaN</td>\n",
       "    </tr>\n",
       "    <tr>\n",
       "      <th>13</th>\n",
       "      <td>PS 15 ROBERTO CLEMENTE</td>\n",
       "      <td>Grade 3 Math</td>\n",
       "      <td>All Students</td>\n",
       "      <td>275.0</td>\n",
       "    </tr>\n",
       "    <tr>\n",
       "      <th>23</th>\n",
       "      <td>PS 15 ROBERTO CLEMENTE</td>\n",
       "      <td>Grade 3 Math</td>\n",
       "      <td>Economically Disadvantaged</td>\n",
       "      <td>NaN</td>\n",
       "    </tr>\n",
       "  </tbody>\n",
       "</table>\n",
       "</div>"
      ],
      "text/plain": [
       "                      NAME     ITEM_DESC                   SUBGROUP_NAME  \\\n",
       "0   PS 15 ROBERTO CLEMENTE   Grade 3 ELA                    All Students   \n",
       "10  PS 15 ROBERTO CLEMENTE   Grade 3 ELA      Economically Disadvantaged   \n",
       "11  PS 15 ROBERTO CLEMENTE   Grade 3 ELA  Not Economically Disadvantaged   \n",
       "13  PS 15 ROBERTO CLEMENTE  Grade 3 Math                    All Students   \n",
       "23  PS 15 ROBERTO CLEMENTE  Grade 3 Math      Economically Disadvantaged   \n",
       "\n",
       "    MEAN_SCALE_SCORE  \n",
       "0              293.0  \n",
       "10               NaN  \n",
       "11               NaN  \n",
       "13             275.0  \n",
       "23               NaN  "
      ]
     },
     "execution_count": 124,
     "metadata": {},
     "output_type": "execute_result"
    }
   ],
   "source": [
    "quick_columns=['NAME','ITEM_DESC','SUBGROUP_NAME','MEAN_SCALE_SCORE']\n",
    "nyc_quick_df=nyc_others_df[quick_columns][(nyc_others_df['SUBGROUP_NAME'] == 'All Students') | (nyc_others_df['SUBGROUP_NAME'] == 'Economically Disadvantaged') | (nyc_others_df['SUBGROUP_NAME'] == 'Not Economically Disadvantaged')]\n",
    "nyc_quick_df.head()"
   ]
  },
  {
   "cell_type": "code",
   "execution_count": 125,
   "metadata": {},
   "outputs": [
    {
     "data": {
      "text/html": [
       "<div>\n",
       "<style>\n",
       "    .dataframe thead tr:only-child th {\n",
       "        text-align: right;\n",
       "    }\n",
       "\n",
       "    .dataframe thead th {\n",
       "        text-align: left;\n",
       "    }\n",
       "\n",
       "    .dataframe tbody tr th {\n",
       "        vertical-align: top;\n",
       "    }\n",
       "</style>\n",
       "<table border=\"1\" class=\"dataframe\">\n",
       "  <thead>\n",
       "    <tr style=\"text-align: right;\">\n",
       "      <th></th>\n",
       "      <th>NAME</th>\n",
       "      <th>ITEM_DESC</th>\n",
       "      <th>SUBGROUP_NAME</th>\n",
       "      <th>MEAN_SCALE_SCORE</th>\n",
       "      <th>Economically Disadvantaged</th>\n",
       "      <th>Not Economically Disadvantaged</th>\n",
       "    </tr>\n",
       "  </thead>\n",
       "  <tbody>\n",
       "    <tr>\n",
       "      <th>0</th>\n",
       "      <td>PS 15 ROBERTO CLEMENTE</td>\n",
       "      <td>Grade 3 ELA</td>\n",
       "      <td>All Students</td>\n",
       "      <td>293.0</td>\n",
       "      <td>0</td>\n",
       "      <td>0</td>\n",
       "    </tr>\n",
       "    <tr>\n",
       "      <th>10</th>\n",
       "      <td>PS 15 ROBERTO CLEMENTE</td>\n",
       "      <td>Grade 3 ELA</td>\n",
       "      <td>Economically Disadvantaged</td>\n",
       "      <td>NaN</td>\n",
       "      <td>1</td>\n",
       "      <td>0</td>\n",
       "    </tr>\n",
       "    <tr>\n",
       "      <th>11</th>\n",
       "      <td>PS 15 ROBERTO CLEMENTE</td>\n",
       "      <td>Grade 3 ELA</td>\n",
       "      <td>Not Economically Disadvantaged</td>\n",
       "      <td>NaN</td>\n",
       "      <td>0</td>\n",
       "      <td>1</td>\n",
       "    </tr>\n",
       "    <tr>\n",
       "      <th>13</th>\n",
       "      <td>PS 15 ROBERTO CLEMENTE</td>\n",
       "      <td>Grade 3 Math</td>\n",
       "      <td>All Students</td>\n",
       "      <td>275.0</td>\n",
       "      <td>0</td>\n",
       "      <td>0</td>\n",
       "    </tr>\n",
       "    <tr>\n",
       "      <th>23</th>\n",
       "      <td>PS 15 ROBERTO CLEMENTE</td>\n",
       "      <td>Grade 3 Math</td>\n",
       "      <td>Economically Disadvantaged</td>\n",
       "      <td>NaN</td>\n",
       "      <td>1</td>\n",
       "      <td>0</td>\n",
       "    </tr>\n",
       "  </tbody>\n",
       "</table>\n",
       "</div>"
      ],
      "text/plain": [
       "                      NAME     ITEM_DESC                   SUBGROUP_NAME  \\\n",
       "0   PS 15 ROBERTO CLEMENTE   Grade 3 ELA                    All Students   \n",
       "10  PS 15 ROBERTO CLEMENTE   Grade 3 ELA      Economically Disadvantaged   \n",
       "11  PS 15 ROBERTO CLEMENTE   Grade 3 ELA  Not Economically Disadvantaged   \n",
       "13  PS 15 ROBERTO CLEMENTE  Grade 3 Math                    All Students   \n",
       "23  PS 15 ROBERTO CLEMENTE  Grade 3 Math      Economically Disadvantaged   \n",
       "\n",
       "    MEAN_SCALE_SCORE  Economically Disadvantaged  \\\n",
       "0              293.0                           0   \n",
       "10               NaN                           1   \n",
       "11               NaN                           0   \n",
       "13             275.0                           0   \n",
       "23               NaN                           1   \n",
       "\n",
       "    Not Economically Disadvantaged  \n",
       "0                                0  \n",
       "10                               0  \n",
       "11                               1  \n",
       "13                               0  \n",
       "23                               0  "
      ]
     },
     "execution_count": 125,
     "metadata": {},
     "output_type": "execute_result"
    }
   ],
   "source": [
    "nyc_quick_dummies=pd.get_dummies(nyc_quick_df['SUBGROUP_NAME'],drop_first=True)\n",
    "nyc_quick_df=pd.concat([nyc_quick_df,nyc_quick_dummies],axis=1)\n",
    "nyc_quick_df.head()"
   ]
  },
  {
   "cell_type": "code",
   "execution_count": 126,
   "metadata": {
    "collapsed": true
   },
   "outputs": [],
   "source": [
    "nyc_quick_df.dropna(inplace=True)"
   ]
  },
  {
   "cell_type": "code",
   "execution_count": 127,
   "metadata": {},
   "outputs": [
    {
     "data": {
      "text/plain": [
       "0.033983074681827818"
      ]
     },
     "execution_count": 127,
     "metadata": {},
     "output_type": "execute_result"
    }
   ],
   "source": [
    "lr3=LinearRegression()\n",
    "\n",
    "X3 = nyc_quick_df[['Economically Disadvantaged','Not Economically Disadvantaged']] # predictors\n",
    "y3 = nyc_quick_df['MEAN_SCALE_SCORE'] # target variable\n",
    "\n",
    "X_train3, X_test3, y_train3, y_test3 = train_test_split(X3,y3, test_size= .33)\n",
    "\n",
    "lr3.fit(X_train3,y_train3)\n",
    "lr3.score(X_test3,y_test3)"
   ]
  },
  {
   "cell_type": "markdown",
   "metadata": {},
   "source": [
    "Modeling on ESL status"
   ]
  },
  {
   "cell_type": "code",
   "execution_count": 128,
   "metadata": {},
   "outputs": [
    {
     "data": {
      "text/html": [
       "<div>\n",
       "<style>\n",
       "    .dataframe thead tr:only-child th {\n",
       "        text-align: right;\n",
       "    }\n",
       "\n",
       "    .dataframe thead th {\n",
       "        text-align: left;\n",
       "    }\n",
       "\n",
       "    .dataframe tbody tr th {\n",
       "        vertical-align: top;\n",
       "    }\n",
       "</style>\n",
       "<table border=\"1\" class=\"dataframe\">\n",
       "  <thead>\n",
       "    <tr style=\"text-align: right;\">\n",
       "      <th></th>\n",
       "      <th>NAME</th>\n",
       "      <th>ITEM_DESC</th>\n",
       "      <th>SUBGROUP_NAME</th>\n",
       "      <th>MEAN_SCALE_SCORE</th>\n",
       "    </tr>\n",
       "  </thead>\n",
       "  <tbody>\n",
       "    <tr>\n",
       "      <th>0</th>\n",
       "      <td>PS 15 ROBERTO CLEMENTE</td>\n",
       "      <td>Grade 3 ELA</td>\n",
       "      <td>All Students</td>\n",
       "      <td>293.0</td>\n",
       "    </tr>\n",
       "    <tr>\n",
       "      <th>8</th>\n",
       "      <td>PS 15 ROBERTO CLEMENTE</td>\n",
       "      <td>Grade 3 ELA</td>\n",
       "      <td>Not Limited English Proficient</td>\n",
       "      <td>NaN</td>\n",
       "    </tr>\n",
       "    <tr>\n",
       "      <th>9</th>\n",
       "      <td>PS 15 ROBERTO CLEMENTE</td>\n",
       "      <td>Grade 3 ELA</td>\n",
       "      <td>Limited English Proficient</td>\n",
       "      <td>NaN</td>\n",
       "    </tr>\n",
       "    <tr>\n",
       "      <th>13</th>\n",
       "      <td>PS 15 ROBERTO CLEMENTE</td>\n",
       "      <td>Grade 3 Math</td>\n",
       "      <td>All Students</td>\n",
       "      <td>275.0</td>\n",
       "    </tr>\n",
       "    <tr>\n",
       "      <th>21</th>\n",
       "      <td>PS 15 ROBERTO CLEMENTE</td>\n",
       "      <td>Grade 3 Math</td>\n",
       "      <td>Not Limited English Proficient</td>\n",
       "      <td>NaN</td>\n",
       "    </tr>\n",
       "  </tbody>\n",
       "</table>\n",
       "</div>"
      ],
      "text/plain": [
       "                      NAME     ITEM_DESC                   SUBGROUP_NAME  \\\n",
       "0   PS 15 ROBERTO CLEMENTE   Grade 3 ELA                    All Students   \n",
       "8   PS 15 ROBERTO CLEMENTE   Grade 3 ELA  Not Limited English Proficient   \n",
       "9   PS 15 ROBERTO CLEMENTE   Grade 3 ELA      Limited English Proficient   \n",
       "13  PS 15 ROBERTO CLEMENTE  Grade 3 Math                    All Students   \n",
       "21  PS 15 ROBERTO CLEMENTE  Grade 3 Math  Not Limited English Proficient   \n",
       "\n",
       "    MEAN_SCALE_SCORE  \n",
       "0              293.0  \n",
       "8                NaN  \n",
       "9                NaN  \n",
       "13             275.0  \n",
       "21               NaN  "
      ]
     },
     "execution_count": 128,
     "metadata": {},
     "output_type": "execute_result"
    }
   ],
   "source": [
    "small_columns=['NAME','ITEM_DESC','SUBGROUP_NAME','MEAN_SCALE_SCORE']\n",
    "nyc_small_df=nyc_others_df[small_columns][(nyc_others_df['SUBGROUP_NAME'] == 'All Students') | (nyc_others_df['SUBGROUP_NAME'] == 'Not Limited English Proficient') | (nyc_others_df['SUBGROUP_NAME'] == 'Limited English Proficient')]\n",
    "nyc_small_df.head()"
   ]
  },
  {
   "cell_type": "code",
   "execution_count": 129,
   "metadata": {},
   "outputs": [
    {
     "data": {
      "text/html": [
       "<div>\n",
       "<style>\n",
       "    .dataframe thead tr:only-child th {\n",
       "        text-align: right;\n",
       "    }\n",
       "\n",
       "    .dataframe thead th {\n",
       "        text-align: left;\n",
       "    }\n",
       "\n",
       "    .dataframe tbody tr th {\n",
       "        vertical-align: top;\n",
       "    }\n",
       "</style>\n",
       "<table border=\"1\" class=\"dataframe\">\n",
       "  <thead>\n",
       "    <tr style=\"text-align: right;\">\n",
       "      <th></th>\n",
       "      <th>NAME</th>\n",
       "      <th>ITEM_DESC</th>\n",
       "      <th>SUBGROUP_NAME</th>\n",
       "      <th>MEAN_SCALE_SCORE</th>\n",
       "      <th>Limited English Proficient</th>\n",
       "      <th>Not Limited English Proficient</th>\n",
       "    </tr>\n",
       "  </thead>\n",
       "  <tbody>\n",
       "    <tr>\n",
       "      <th>0</th>\n",
       "      <td>PS 15 ROBERTO CLEMENTE</td>\n",
       "      <td>Grade 3 ELA</td>\n",
       "      <td>All Students</td>\n",
       "      <td>293.0</td>\n",
       "      <td>0</td>\n",
       "      <td>0</td>\n",
       "    </tr>\n",
       "    <tr>\n",
       "      <th>8</th>\n",
       "      <td>PS 15 ROBERTO CLEMENTE</td>\n",
       "      <td>Grade 3 ELA</td>\n",
       "      <td>Not Limited English Proficient</td>\n",
       "      <td>NaN</td>\n",
       "      <td>0</td>\n",
       "      <td>1</td>\n",
       "    </tr>\n",
       "    <tr>\n",
       "      <th>9</th>\n",
       "      <td>PS 15 ROBERTO CLEMENTE</td>\n",
       "      <td>Grade 3 ELA</td>\n",
       "      <td>Limited English Proficient</td>\n",
       "      <td>NaN</td>\n",
       "      <td>1</td>\n",
       "      <td>0</td>\n",
       "    </tr>\n",
       "    <tr>\n",
       "      <th>13</th>\n",
       "      <td>PS 15 ROBERTO CLEMENTE</td>\n",
       "      <td>Grade 3 Math</td>\n",
       "      <td>All Students</td>\n",
       "      <td>275.0</td>\n",
       "      <td>0</td>\n",
       "      <td>0</td>\n",
       "    </tr>\n",
       "    <tr>\n",
       "      <th>21</th>\n",
       "      <td>PS 15 ROBERTO CLEMENTE</td>\n",
       "      <td>Grade 3 Math</td>\n",
       "      <td>Not Limited English Proficient</td>\n",
       "      <td>NaN</td>\n",
       "      <td>0</td>\n",
       "      <td>1</td>\n",
       "    </tr>\n",
       "  </tbody>\n",
       "</table>\n",
       "</div>"
      ],
      "text/plain": [
       "                      NAME     ITEM_DESC                   SUBGROUP_NAME  \\\n",
       "0   PS 15 ROBERTO CLEMENTE   Grade 3 ELA                    All Students   \n",
       "8   PS 15 ROBERTO CLEMENTE   Grade 3 ELA  Not Limited English Proficient   \n",
       "9   PS 15 ROBERTO CLEMENTE   Grade 3 ELA      Limited English Proficient   \n",
       "13  PS 15 ROBERTO CLEMENTE  Grade 3 Math                    All Students   \n",
       "21  PS 15 ROBERTO CLEMENTE  Grade 3 Math  Not Limited English Proficient   \n",
       "\n",
       "    MEAN_SCALE_SCORE  Limited English Proficient  \\\n",
       "0              293.0                           0   \n",
       "8                NaN                           0   \n",
       "9                NaN                           1   \n",
       "13             275.0                           0   \n",
       "21               NaN                           0   \n",
       "\n",
       "    Not Limited English Proficient  \n",
       "0                                0  \n",
       "8                                1  \n",
       "9                                0  \n",
       "13                               0  \n",
       "21                               1  "
      ]
     },
     "execution_count": 129,
     "metadata": {},
     "output_type": "execute_result"
    }
   ],
   "source": [
    "nyc_small_dummies=pd.get_dummies(nyc_small_df['SUBGROUP_NAME'],drop_first=True)\n",
    "nyc_small_df=pd.concat([nyc_small_df,nyc_small_dummies],axis=1)\n",
    "nyc_small_df.head()"
   ]
  },
  {
   "cell_type": "code",
   "execution_count": 130,
   "metadata": {
    "collapsed": true
   },
   "outputs": [],
   "source": [
    "nyc_small_df.dropna(inplace=True)"
   ]
  },
  {
   "cell_type": "code",
   "execution_count": 132,
   "metadata": {},
   "outputs": [
    {
     "data": {
      "text/plain": [
       "0.30101974024496236"
      ]
     },
     "execution_count": 132,
     "metadata": {},
     "output_type": "execute_result"
    }
   ],
   "source": [
    "lr4=LinearRegression()\n",
    "\n",
    "X4 = nyc_small_df[['Not Limited English Proficient','Limited English Proficient']] # predictors\n",
    "y4 = nyc_small_df['MEAN_SCALE_SCORE'] # target variable\n",
    "\n",
    "X_train4, X_test4, y_train4, y_test4 = train_test_split(X4,y4, test_size= .33)\n",
    "\n",
    "lr4.fit(X_train4,y_train4)\n",
    "lr4.score(X_test4,y_test4)"
   ]
  },
  {
   "cell_type": "markdown",
   "metadata": {},
   "source": [
    "Modeling on the best 2 opposing pairs at once"
   ]
  },
  {
   "cell_type": "code",
   "execution_count": 143,
   "metadata": {},
   "outputs": [
    {
     "data": {
      "text/html": [
       "<div>\n",
       "<style>\n",
       "    .dataframe thead tr:only-child th {\n",
       "        text-align: right;\n",
       "    }\n",
       "\n",
       "    .dataframe thead th {\n",
       "        text-align: left;\n",
       "    }\n",
       "\n",
       "    .dataframe tbody tr th {\n",
       "        vertical-align: top;\n",
       "    }\n",
       "</style>\n",
       "<table border=\"1\" class=\"dataframe\">\n",
       "  <thead>\n",
       "    <tr style=\"text-align: right;\">\n",
       "      <th></th>\n",
       "      <th>NAME</th>\n",
       "      <th>ITEM_DESC</th>\n",
       "      <th>SUBGROUP_NAME</th>\n",
       "      <th>MEAN_SCALE_SCORE</th>\n",
       "    </tr>\n",
       "  </thead>\n",
       "  <tbody>\n",
       "    <tr>\n",
       "      <th>0</th>\n",
       "      <td>PS 15 ROBERTO CLEMENTE</td>\n",
       "      <td>Grade 3 ELA</td>\n",
       "      <td>All Students</td>\n",
       "      <td>293.0</td>\n",
       "    </tr>\n",
       "    <tr>\n",
       "      <th>8</th>\n",
       "      <td>PS 15 ROBERTO CLEMENTE</td>\n",
       "      <td>Grade 3 ELA</td>\n",
       "      <td>Not Limited English Proficient</td>\n",
       "      <td>NaN</td>\n",
       "    </tr>\n",
       "    <tr>\n",
       "      <th>9</th>\n",
       "      <td>PS 15 ROBERTO CLEMENTE</td>\n",
       "      <td>Grade 3 ELA</td>\n",
       "      <td>Limited English Proficient</td>\n",
       "      <td>NaN</td>\n",
       "    </tr>\n",
       "    <tr>\n",
       "      <th>10</th>\n",
       "      <td>PS 15 ROBERTO CLEMENTE</td>\n",
       "      <td>Grade 3 ELA</td>\n",
       "      <td>Economically Disadvantaged</td>\n",
       "      <td>NaN</td>\n",
       "    </tr>\n",
       "    <tr>\n",
       "      <th>11</th>\n",
       "      <td>PS 15 ROBERTO CLEMENTE</td>\n",
       "      <td>Grade 3 ELA</td>\n",
       "      <td>Not Economically Disadvantaged</td>\n",
       "      <td>NaN</td>\n",
       "    </tr>\n",
       "  </tbody>\n",
       "</table>\n",
       "</div>"
      ],
      "text/plain": [
       "                      NAME    ITEM_DESC                   SUBGROUP_NAME  \\\n",
       "0   PS 15 ROBERTO CLEMENTE  Grade 3 ELA                    All Students   \n",
       "8   PS 15 ROBERTO CLEMENTE  Grade 3 ELA  Not Limited English Proficient   \n",
       "9   PS 15 ROBERTO CLEMENTE  Grade 3 ELA      Limited English Proficient   \n",
       "10  PS 15 ROBERTO CLEMENTE  Grade 3 ELA      Economically Disadvantaged   \n",
       "11  PS 15 ROBERTO CLEMENTE  Grade 3 ELA  Not Economically Disadvantaged   \n",
       "\n",
       "    MEAN_SCALE_SCORE  \n",
       "0              293.0  \n",
       "8                NaN  \n",
       "9                NaN  \n",
       "10               NaN  \n",
       "11               NaN  "
      ]
     },
     "execution_count": 143,
     "metadata": {},
     "output_type": "execute_result"
    }
   ],
   "source": [
    "show_columns=['NAME','ITEM_DESC','SUBGROUP_NAME','MEAN_SCALE_SCORE']\n",
    "nyc_show_df=nyc_others_df[show_columns][(nyc_others_df['SUBGROUP_NAME'] == 'All Students') | (nyc_others_df['SUBGROUP_NAME'] == 'Not Limited English Proficient') | (nyc_others_df['SUBGROUP_NAME'] == 'Limited English Proficient') | (nyc_others_df['SUBGROUP_NAME'] == 'Economically Disadvantaged') | (nyc_others_df['SUBGROUP_NAME'] == 'Not Economically Disadvantaged')]\n",
    "nyc_show_df.head()"
   ]
  },
  {
   "cell_type": "code",
   "execution_count": 144,
   "metadata": {},
   "outputs": [
    {
     "data": {
      "text/html": [
       "<div>\n",
       "<style>\n",
       "    .dataframe thead tr:only-child th {\n",
       "        text-align: right;\n",
       "    }\n",
       "\n",
       "    .dataframe thead th {\n",
       "        text-align: left;\n",
       "    }\n",
       "\n",
       "    .dataframe tbody tr th {\n",
       "        vertical-align: top;\n",
       "    }\n",
       "</style>\n",
       "<table border=\"1\" class=\"dataframe\">\n",
       "  <thead>\n",
       "    <tr style=\"text-align: right;\">\n",
       "      <th></th>\n",
       "      <th>NAME</th>\n",
       "      <th>ITEM_DESC</th>\n",
       "      <th>SUBGROUP_NAME</th>\n",
       "      <th>MEAN_SCALE_SCORE</th>\n",
       "      <th>Economically Disadvantaged</th>\n",
       "      <th>Limited English Proficient</th>\n",
       "      <th>Not Economically Disadvantaged</th>\n",
       "      <th>Not Limited English Proficient</th>\n",
       "    </tr>\n",
       "  </thead>\n",
       "  <tbody>\n",
       "    <tr>\n",
       "      <th>0</th>\n",
       "      <td>PS 15 ROBERTO CLEMENTE</td>\n",
       "      <td>Grade 3 ELA</td>\n",
       "      <td>All Students</td>\n",
       "      <td>293.0</td>\n",
       "      <td>0</td>\n",
       "      <td>0</td>\n",
       "      <td>0</td>\n",
       "      <td>0</td>\n",
       "    </tr>\n",
       "    <tr>\n",
       "      <th>8</th>\n",
       "      <td>PS 15 ROBERTO CLEMENTE</td>\n",
       "      <td>Grade 3 ELA</td>\n",
       "      <td>Not Limited English Proficient</td>\n",
       "      <td>NaN</td>\n",
       "      <td>0</td>\n",
       "      <td>0</td>\n",
       "      <td>0</td>\n",
       "      <td>1</td>\n",
       "    </tr>\n",
       "    <tr>\n",
       "      <th>9</th>\n",
       "      <td>PS 15 ROBERTO CLEMENTE</td>\n",
       "      <td>Grade 3 ELA</td>\n",
       "      <td>Limited English Proficient</td>\n",
       "      <td>NaN</td>\n",
       "      <td>0</td>\n",
       "      <td>1</td>\n",
       "      <td>0</td>\n",
       "      <td>0</td>\n",
       "    </tr>\n",
       "    <tr>\n",
       "      <th>10</th>\n",
       "      <td>PS 15 ROBERTO CLEMENTE</td>\n",
       "      <td>Grade 3 ELA</td>\n",
       "      <td>Economically Disadvantaged</td>\n",
       "      <td>NaN</td>\n",
       "      <td>1</td>\n",
       "      <td>0</td>\n",
       "      <td>0</td>\n",
       "      <td>0</td>\n",
       "    </tr>\n",
       "    <tr>\n",
       "      <th>11</th>\n",
       "      <td>PS 15 ROBERTO CLEMENTE</td>\n",
       "      <td>Grade 3 ELA</td>\n",
       "      <td>Not Economically Disadvantaged</td>\n",
       "      <td>NaN</td>\n",
       "      <td>0</td>\n",
       "      <td>0</td>\n",
       "      <td>1</td>\n",
       "      <td>0</td>\n",
       "    </tr>\n",
       "  </tbody>\n",
       "</table>\n",
       "</div>"
      ],
      "text/plain": [
       "                      NAME    ITEM_DESC                   SUBGROUP_NAME  \\\n",
       "0   PS 15 ROBERTO CLEMENTE  Grade 3 ELA                    All Students   \n",
       "8   PS 15 ROBERTO CLEMENTE  Grade 3 ELA  Not Limited English Proficient   \n",
       "9   PS 15 ROBERTO CLEMENTE  Grade 3 ELA      Limited English Proficient   \n",
       "10  PS 15 ROBERTO CLEMENTE  Grade 3 ELA      Economically Disadvantaged   \n",
       "11  PS 15 ROBERTO CLEMENTE  Grade 3 ELA  Not Economically Disadvantaged   \n",
       "\n",
       "    MEAN_SCALE_SCORE  Economically Disadvantaged  Limited English Proficient  \\\n",
       "0              293.0                           0                           0   \n",
       "8                NaN                           0                           0   \n",
       "9                NaN                           0                           1   \n",
       "10               NaN                           1                           0   \n",
       "11               NaN                           0                           0   \n",
       "\n",
       "    Not Economically Disadvantaged  Not Limited English Proficient  \n",
       "0                                0                               0  \n",
       "8                                0                               1  \n",
       "9                                0                               0  \n",
       "10                               0                               0  \n",
       "11                               1                               0  "
      ]
     },
     "execution_count": 144,
     "metadata": {},
     "output_type": "execute_result"
    }
   ],
   "source": [
    "nyc_show_dummies=pd.get_dummies(nyc_show_df['SUBGROUP_NAME'],drop_first=True)\n",
    "nyc_show_df=pd.concat([nyc_show_df,nyc_show_dummies],axis=1)\n",
    "nyc_show_df.head()"
   ]
  },
  {
   "cell_type": "code",
   "execution_count": 145,
   "metadata": {
    "collapsed": true
   },
   "outputs": [],
   "source": [
    "nyc_show_df.dropna(inplace=True)"
   ]
  },
  {
   "cell_type": "code",
   "execution_count": 152,
   "metadata": {},
   "outputs": [
    {
     "data": {
      "text/plain": [
       "0.22659397790443048"
      ]
     },
     "execution_count": 152,
     "metadata": {},
     "output_type": "execute_result"
    }
   ],
   "source": [
    "lr5=LinearRegression()\n",
    "\n",
    "X5 = nyc_show_df[['Not Limited English Proficient','Limited English Proficient','Economically Disadvantaged','Not Economically Disadvantaged']] # predictors\n",
    "y5 = nyc_show_df['MEAN_SCALE_SCORE'] # target variable\n",
    "\n",
    "X_train5, X_test5, y_train5, y_test5 = train_test_split(X5,y5, test_size= .33)\n",
    "\n",
    "lr5.fit(X_train5,y_train5)\n",
    "lr5.score(X_test5,y_test5)"
   ]
  },
  {
   "cell_type": "code",
   "execution_count": 153,
   "metadata": {},
   "outputs": [
    {
     "name": "stdout",
     "output_type": "stream",
     "text": [
      "0.304994924111 0.294442150413 0.233888807665\n"
     ]
    }
   ],
   "source": [
    "print(lr2.score(X_train2,y_train2), lr4.score(X_train4,y_train4), lr5.score(X_train5,y_train5))"
   ]
  },
  {
   "cell_type": "markdown",
   "metadata": {},
   "source": [
    "Modeling on race"
   ]
  },
  {
   "cell_type": "code",
   "execution_count": 159,
   "metadata": {},
   "outputs": [
    {
     "data": {
      "text/plain": [
       "['American Indian or Alaska Native',\n",
       " 'Black or African American',\n",
       " 'Hispanic or Latino',\n",
       " 'Asian or Pacific Islander',\n",
       " 'White',\n",
       " 'Multiracial']"
      ]
     },
     "execution_count": 159,
     "metadata": {},
     "output_type": "execute_result"
    }
   ],
   "source": [
    "demo_list=[]\n",
    "for i in range(3,9):\n",
    "    demo_list.append(demo_cats[i])\n",
    "demo_list"
   ]
  },
  {
   "cell_type": "code",
   "execution_count": 149,
   "metadata": {},
   "outputs": [
    {
     "data": {
      "text/html": [
       "<div>\n",
       "<style>\n",
       "    .dataframe thead tr:only-child th {\n",
       "        text-align: right;\n",
       "    }\n",
       "\n",
       "    .dataframe thead th {\n",
       "        text-align: left;\n",
       "    }\n",
       "\n",
       "    .dataframe tbody tr th {\n",
       "        vertical-align: top;\n",
       "    }\n",
       "</style>\n",
       "<table border=\"1\" class=\"dataframe\">\n",
       "  <thead>\n",
       "    <tr style=\"text-align: right;\">\n",
       "      <th></th>\n",
       "      <th>NAME</th>\n",
       "      <th>ITEM_DESC</th>\n",
       "      <th>SUBGROUP_NAME</th>\n",
       "      <th>MEAN_SCALE_SCORE</th>\n",
       "    </tr>\n",
       "  </thead>\n",
       "  <tbody>\n",
       "    <tr>\n",
       "      <th>0</th>\n",
       "      <td>PS 15 ROBERTO CLEMENTE</td>\n",
       "      <td>Grade 3 ELA</td>\n",
       "      <td>All Students</td>\n",
       "      <td>293.0</td>\n",
       "    </tr>\n",
       "    <tr>\n",
       "      <th>3</th>\n",
       "      <td>PS 15 ROBERTO CLEMENTE</td>\n",
       "      <td>Grade 3 ELA</td>\n",
       "      <td>Black or African American</td>\n",
       "      <td>NaN</td>\n",
       "    </tr>\n",
       "    <tr>\n",
       "      <th>4</th>\n",
       "      <td>PS 15 ROBERTO CLEMENTE</td>\n",
       "      <td>Grade 3 ELA</td>\n",
       "      <td>Hispanic or Latino</td>\n",
       "      <td>291.0</td>\n",
       "    </tr>\n",
       "    <tr>\n",
       "      <th>5</th>\n",
       "      <td>PS 15 ROBERTO CLEMENTE</td>\n",
       "      <td>Grade 3 ELA</td>\n",
       "      <td>Asian or Pacific Islander</td>\n",
       "      <td>NaN</td>\n",
       "    </tr>\n",
       "    <tr>\n",
       "      <th>13</th>\n",
       "      <td>PS 15 ROBERTO CLEMENTE</td>\n",
       "      <td>Grade 3 Math</td>\n",
       "      <td>All Students</td>\n",
       "      <td>275.0</td>\n",
       "    </tr>\n",
       "  </tbody>\n",
       "</table>\n",
       "</div>"
      ],
      "text/plain": [
       "                      NAME     ITEM_DESC              SUBGROUP_NAME  \\\n",
       "0   PS 15 ROBERTO CLEMENTE   Grade 3 ELA               All Students   \n",
       "3   PS 15 ROBERTO CLEMENTE   Grade 3 ELA  Black or African American   \n",
       "4   PS 15 ROBERTO CLEMENTE   Grade 3 ELA         Hispanic or Latino   \n",
       "5   PS 15 ROBERTO CLEMENTE   Grade 3 ELA  Asian or Pacific Islander   \n",
       "13  PS 15 ROBERTO CLEMENTE  Grade 3 Math               All Students   \n",
       "\n",
       "    MEAN_SCALE_SCORE  \n",
       "0              293.0  \n",
       "3                NaN  \n",
       "4              291.0  \n",
       "5                NaN  \n",
       "13             275.0  "
      ]
     },
     "execution_count": 149,
     "metadata": {},
     "output_type": "execute_result"
    }
   ],
   "source": [
    "hotbutton_columns=['NAME','ITEM_DESC','SUBGROUP_NAME','MEAN_SCALE_SCORE']\n",
    "nyc_hotbutton_df=nyc_others_df[show_columns][(nyc_others_df['SUBGROUP_NAME'] == 'All Students') | (nyc_others_df['SUBGROUP_NAME'] == 'American Indian or Alaska Native') | (nyc_others_df['SUBGROUP_NAME'] == 'Black or African American') | (nyc_others_df['SUBGROUP_NAME'] == 'Hispanic or Latino') | (nyc_others_df['SUBGROUP_NAME'] == 'Asian or Pacific Islander') | (nyc_others_df['SUBGROUP_NAME'] == 'White') | (nyc_others_df['SUBGROUP_NAME'] == 'Multiracial')]\n",
    "nyc_hotbutton_df.head()"
   ]
  },
  {
   "cell_type": "code",
   "execution_count": 150,
   "metadata": {},
   "outputs": [
    {
     "data": {
      "text/html": [
       "<div>\n",
       "<style>\n",
       "    .dataframe thead tr:only-child th {\n",
       "        text-align: right;\n",
       "    }\n",
       "\n",
       "    .dataframe thead th {\n",
       "        text-align: left;\n",
       "    }\n",
       "\n",
       "    .dataframe tbody tr th {\n",
       "        vertical-align: top;\n",
       "    }\n",
       "</style>\n",
       "<table border=\"1\" class=\"dataframe\">\n",
       "  <thead>\n",
       "    <tr style=\"text-align: right;\">\n",
       "      <th></th>\n",
       "      <th>NAME</th>\n",
       "      <th>ITEM_DESC</th>\n",
       "      <th>SUBGROUP_NAME</th>\n",
       "      <th>MEAN_SCALE_SCORE</th>\n",
       "      <th>American Indian or Alaska Native</th>\n",
       "      <th>Asian or Pacific Islander</th>\n",
       "      <th>Black or African American</th>\n",
       "      <th>Hispanic or Latino</th>\n",
       "      <th>Multiracial</th>\n",
       "      <th>White</th>\n",
       "    </tr>\n",
       "  </thead>\n",
       "  <tbody>\n",
       "    <tr>\n",
       "      <th>0</th>\n",
       "      <td>PS 15 ROBERTO CLEMENTE</td>\n",
       "      <td>Grade 3 ELA</td>\n",
       "      <td>All Students</td>\n",
       "      <td>293.0</td>\n",
       "      <td>0</td>\n",
       "      <td>0</td>\n",
       "      <td>0</td>\n",
       "      <td>0</td>\n",
       "      <td>0</td>\n",
       "      <td>0</td>\n",
       "    </tr>\n",
       "    <tr>\n",
       "      <th>3</th>\n",
       "      <td>PS 15 ROBERTO CLEMENTE</td>\n",
       "      <td>Grade 3 ELA</td>\n",
       "      <td>Black or African American</td>\n",
       "      <td>NaN</td>\n",
       "      <td>0</td>\n",
       "      <td>0</td>\n",
       "      <td>1</td>\n",
       "      <td>0</td>\n",
       "      <td>0</td>\n",
       "      <td>0</td>\n",
       "    </tr>\n",
       "    <tr>\n",
       "      <th>4</th>\n",
       "      <td>PS 15 ROBERTO CLEMENTE</td>\n",
       "      <td>Grade 3 ELA</td>\n",
       "      <td>Hispanic or Latino</td>\n",
       "      <td>291.0</td>\n",
       "      <td>0</td>\n",
       "      <td>0</td>\n",
       "      <td>0</td>\n",
       "      <td>1</td>\n",
       "      <td>0</td>\n",
       "      <td>0</td>\n",
       "    </tr>\n",
       "    <tr>\n",
       "      <th>5</th>\n",
       "      <td>PS 15 ROBERTO CLEMENTE</td>\n",
       "      <td>Grade 3 ELA</td>\n",
       "      <td>Asian or Pacific Islander</td>\n",
       "      <td>NaN</td>\n",
       "      <td>0</td>\n",
       "      <td>1</td>\n",
       "      <td>0</td>\n",
       "      <td>0</td>\n",
       "      <td>0</td>\n",
       "      <td>0</td>\n",
       "    </tr>\n",
       "    <tr>\n",
       "      <th>13</th>\n",
       "      <td>PS 15 ROBERTO CLEMENTE</td>\n",
       "      <td>Grade 3 Math</td>\n",
       "      <td>All Students</td>\n",
       "      <td>275.0</td>\n",
       "      <td>0</td>\n",
       "      <td>0</td>\n",
       "      <td>0</td>\n",
       "      <td>0</td>\n",
       "      <td>0</td>\n",
       "      <td>0</td>\n",
       "    </tr>\n",
       "  </tbody>\n",
       "</table>\n",
       "</div>"
      ],
      "text/plain": [
       "                      NAME     ITEM_DESC              SUBGROUP_NAME  \\\n",
       "0   PS 15 ROBERTO CLEMENTE   Grade 3 ELA               All Students   \n",
       "3   PS 15 ROBERTO CLEMENTE   Grade 3 ELA  Black or African American   \n",
       "4   PS 15 ROBERTO CLEMENTE   Grade 3 ELA         Hispanic or Latino   \n",
       "5   PS 15 ROBERTO CLEMENTE   Grade 3 ELA  Asian or Pacific Islander   \n",
       "13  PS 15 ROBERTO CLEMENTE  Grade 3 Math               All Students   \n",
       "\n",
       "    MEAN_SCALE_SCORE  American Indian or Alaska Native  \\\n",
       "0              293.0                                 0   \n",
       "3                NaN                                 0   \n",
       "4              291.0                                 0   \n",
       "5                NaN                                 0   \n",
       "13             275.0                                 0   \n",
       "\n",
       "    Asian or Pacific Islander  Black or African American  Hispanic or Latino  \\\n",
       "0                           0                          0                   0   \n",
       "3                           0                          1                   0   \n",
       "4                           0                          0                   1   \n",
       "5                           1                          0                   0   \n",
       "13                          0                          0                   0   \n",
       "\n",
       "    Multiracial  White  \n",
       "0             0      0  \n",
       "3             0      0  \n",
       "4             0      0  \n",
       "5             0      0  \n",
       "13            0      0  "
      ]
     },
     "execution_count": 150,
     "metadata": {},
     "output_type": "execute_result"
    }
   ],
   "source": [
    "nyc_hotbutton_dummies=pd.get_dummies(nyc_hotbutton_df['SUBGROUP_NAME'],drop_first=True)\n",
    "nyc_hotbutton_df=pd.concat([nyc_hotbutton_df,nyc_hotbutton_dummies],axis=1)\n",
    "nyc_hotbutton_df.head()"
   ]
  },
  {
   "cell_type": "code",
   "execution_count": 151,
   "metadata": {
    "collapsed": true
   },
   "outputs": [],
   "source": [
    "nyc_hotbutton_df.dropna(inplace=True)"
   ]
  },
  {
   "cell_type": "code",
   "execution_count": 160,
   "metadata": {},
   "outputs": [
    {
     "name": "stdout",
     "output_type": "stream",
     "text": [
      "0.206378108031 0.211809604175\n"
     ]
    }
   ],
   "source": [
    "lr6=LinearRegression()\n",
    "\n",
    "X6 = nyc_hotbutton_df[demo_list] # predictors\n",
    "y6 = nyc_hotbutton_df['MEAN_SCALE_SCORE'] # target variable\n",
    "\n",
    "X_train6, X_test6, y_train6, y_test6 = train_test_split(X6,y6, test_size= .33)\n",
    "\n",
    "lr6.fit(X_train6,y_train6)\n",
    "print(lr6.score(X_train6,y_train6),lr6.score(X_test6,y_test6))"
   ]
  },
  {
   "cell_type": "markdown",
   "metadata": {},
   "source": [
    "Making a plot for the sheer unadulterated hell of it"
   ]
  },
  {
   "cell_type": "code",
   "execution_count": 165,
   "metadata": {
    "collapsed": true
   },
   "outputs": [],
   "source": [
    "train_scores=[lr.score(X_train,y_train),lr2.score(X_train2,y_train2),lr3.score(X_train3,y_train3),\n",
    "             lr4.score(X_train4,y_train4),lr5.score(X_train5,y_train5),lr6.score(X_train6,y_train6)]\n",
    "test_scores=[lr.score(X_test,y_test),lr2.score(X_test2,y_test2),lr3.score(X_test3,y_test3),lr4.score(X_test4,y_test4),\n",
    "            lr5.score(X_test5,y_test5),lr6.score(X_test6,y_test6)]\n",
    "score_labels=['Sex','GenEd/SpEd','EconStat','ESL','GE/SE+ESL','Race']"
   ]
  },
  {
   "cell_type": "code",
   "execution_count": 173,
   "metadata": {},
   "outputs": [
    {
     "data": {
      "image/png": "[encoded data removed]",
      "text/plain": [
       "<matplotlib.figure.Figure at 0x1a1fb71da0>"
      ]
     },
     "metadata": {},
     "output_type": "display_data"
    }
   ],
   "source": [
    "for label, x, y in zip(score_labels, train_scores, test_scores):\n",
    "    plt.annotate(label,xy=(x, y))\n",
    "\n",
    "plt.show()"
   ]
  },
  {
   "cell_type": "code",
   "execution_count": 163,
   "metadata": {},
   "outputs": [
    {
     "data": {
      "text/plain": [
       "<matplotlib.text.Text at 0x1a0b611908>"
      ]
     },
     "execution_count": 163,
     "metadata": {},
     "output_type": "execute_result"
    },
    {
     "data": {
      "image/png": "[encoded data removed]",
      "text/plain": [
       "<matplotlib.figure.Figure at 0x1a196b6908>"
      ]
     },
     "metadata": {},
     "output_type": "display_data"
    }
   ],
   "source": [
    "plt.scatter(train_scores,test_scores)\n",
    "plt.xlabel('Train scores')\n",
    "plt.ylabel('Test scores')"
   ]
  },
  {
   "cell_type": "code",
   "execution_count": 164,
   "metadata": {},
   "outputs": [
    {
     "name": "stdout",
     "output_type": "stream",
     "text": [
      "[0.013322175674864822, 0.3049949241108566, 0.032114438202192952, 0.29444215041316713, 0.23388880766528952, 0.20637810803115564]\n",
      "[0.012242043210481279, 0.30604172486516779, 0.033983074681827818, 0.30101974024496236, 0.22659397790443048, 0.21180960417455963]\n"
     ]
    }
   ],
   "source": [
    "print(train_scores)\n",
    "print(test_scores)"
   ]
  }
 ],
 "metadata": {
  "kernelspec": {
   "display_name": "Python 3",
   "language": "python",
   "name": "python3"
  },
  "language_info": {
   "codemirror_mode": {
    "name": "ipython",
    "version": 3
   },
   "file_extension": ".py",
   "mimetype": "text/x-python",
   "name": "python",
   "nbconvert_exporter": "python",
   "pygments_lexer": "ipython3",
   "version": "3.6.2"
  }
 },
 "nbformat": 4,
 "nbformat_minor": 2
}
